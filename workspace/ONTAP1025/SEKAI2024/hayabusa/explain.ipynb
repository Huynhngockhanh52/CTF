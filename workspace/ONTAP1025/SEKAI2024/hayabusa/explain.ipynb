{
 "cells": [
  {
   "cell_type": "markdown",
   "id": "a9af372a",
   "metadata": {},
   "source": [
    "# **Explain hayabusa!**\n",
    "\n"
   ]
  }
 ],
 "metadata": {
  "language_info": {
   "name": "python"
  }
 },
 "nbformat": 4,
 "nbformat_minor": 5
}
