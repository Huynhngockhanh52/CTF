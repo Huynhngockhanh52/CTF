{
 "cells": [
  {
   "cell_type": "markdown",
   "id": "fe806d8b",
   "metadata": {},
   "source": [
    "# **Lời giải Some Trick**\n",
    "Đơn giản là tính toán lại thôi!\n"
   ]
  }
 ],
 "metadata": {
  "language_info": {
   "name": "python"
  }
 },
 "nbformat": 4,
 "nbformat_minor": 5
}
