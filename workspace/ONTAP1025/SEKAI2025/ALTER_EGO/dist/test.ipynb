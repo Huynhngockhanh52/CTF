{
 "cells": [
  {
   "cell_type": "code",
   "execution_count": null,
   "id": "fe8c1d74",
   "metadata": {
    "vscode": {
     "languageId": "python"
    }
   },
   "outputs": [
    {
     "name": "stdout",
     "output_type": "stream",
     "text": [
      "74\n"
     ]
    }
   ],
   "source": [
    "from Crypto.Util.number import *\n",
    "\n",
    "from random import randint\n",
    "import os\n",
    "from sage.all import *\n",
    "from montgomery_isogenies.kummer_line import KummerLine\n",
    "from montgomery_isogenies.kummer_isogeny import KummerLineIsogeny\n",
    "\n",
    "FLAG = os.getenv('flag', \"SEKAI{here_is_test_flag_hehe}\").encode()\n",
    "proof.arithmetic(False)\n",
    "\n",
    "MI = 3\n",
    "KU = 9\n",
    "MIKU = 39\n",
    "\n",
    "ells = [3, 5, 7, 11, 13, 17, 19, 23, 29, 31, 37, 41, 43, 47, 53, 59, 61, 67, 71, 73, 79, 83, 89, 97, 101, 103, 107, 109, 113, 127, 131, 137, 139, 149, 151, 157, 163, 167, 173, 179, 181, 191, 193, 197, 199, 211, 223, 227, 229, 233, 239, 241, 251, 257, 263, 269, 271, 277, 281, 283, 293, 307, 311, 313, 317, 331, 337, 347, 349, 353, 359, 367, 373, 587]\n",
    "p = 4 * prod(ells) - 1\n",
    "\n",
    "Fp = GF(p)                                  # Trường hữu hạn Fp\n",
    "F = GF(p**2, modulus=x**2 + 1, names='i')   # Trường hữu hạn mở rộng\n",
    "i = F.gen(0)                                # Tạo i\n",
    "E0 = EllipticCurve(F, [1, 0])               # y^2 = x^3 + x\n",
    "E0.set_order((p + 1)**2)                    # Tổng số điểm hữu hạn là (p + 1)^2\n",
    "\n",
    "def group_action(_C, priv, G):\n",
    "    es = priv[:]\n",
    "    while any(es):\n",
    "        x = Fp.random_element()\n",
    "        P = _C(x)\n",
    "        A = _C.curve().a2()\n",
    "        s = 1 if Fp(x ^ 3 + A * x ^ 2 + x).is_square() else -1\n",
    "\n",
    "        S = [i for i, e in enumerate(es) if sign(e) == s and e != 0]\n",
    "        k = prod([ells[i] for i in S])\n",
    "        Q = int((p + 1) // k) * P\n",
    "        for i in S:\n",
    "            R = (k // ells[i]) * Q\n",
    "            if R.is_zero():\n",
    "                continue\n",
    "\n",
    "            phi = KummerLineIsogeny(_C, R, ells[i])\n",
    "            _C = phi.codomain()\n",
    "            Q, G = phi(Q), phi(G)\n",
    "            es[i] -= s\n",
    "            k //= ells[i]\n",
    "\n",
    "    return _C, G\n",
    "\n",
    "def BEAM(base_alice_priv):\n",
    "    alice_priv = base_alice_priv\n",
    "\n",
    "    pub = 0\n",
    "\n",
    "    for _ in range(MIKU):\n",
    "\n",
    "        E = EllipticCurve(F, [0, pub, 0, 1, 0])\n",
    "        omae_E = KummerLine(E)\n",
    "        G = E.random_point()\n",
    "        _G = omae_E(G)\n",
    "\n",
    "        _final_E1, _final_G = group_action(omae_E, alice_priv, _G)\n",
    "        _final_G = _final_G\n",
    "        print(f\"final_a2 = {_final_E1.curve().a2()}\")\n",
    "        print(f\"{_final_G=}\")\n",
    "\n",
    "        omae_priv = list(map(int, input(\"your priv >\").split(\", \")))\n",
    "\n",
    "        assert all([abs(pi) < 2 for pi in omae_priv])\n",
    "        assert len(omae_priv) == len(ells)\n",
    "\n",
    "        alice_priv = [ai + yi for ai, yi in zip(alice_priv, omae_priv)]\n",
    "        print(\"updated\")\n",
    "\n",
    "        pub = _final_E1.curve().a2()\n",
    "    print(\"FIN!\")\n",
    "    \n"
   ]
  },
  {
   "cell_type": "code",
   "execution_count": null,
   "id": "2f20c727",
   "metadata": {
    "vscode": {
     "languageId": "python"
    }
   },
   "outputs": [
    {
     "name": "stdout",
     "output_type": "stream",
     "text": [
      "And now, it's time for the moment you've been waiting for!\n",
      "Số lượng số nguyên tố: 74\n",
      "[18, 16, 23, 21, 15, 21, 19, 23, 24, 24, 20, 25, 12, 22, 21, 20, 26, 12, 16, 12, 12, 23, 16, 15, 19, 20, 13, 21, 20, 20, 13, 24, 17, 23, 13, 12, 24, 14, 15, 18, 27, 19, 22, 16, 24, 25, 24, 15, 13, 25, 17, 24, 15, 27, 27, 17, 17, 15, 22, 17, 19, 19, 16, 18, 12, 13, 25, 22, 21, 17, 22, 20, 22, 18]\n"
     ]
    }
   ],
   "source": [
    "print(\"And now, it's time for the moment you've been waiting for!\")\n",
    "\n",
    "print(f\"Số lượng số nguyên tố: {len(ells)}\")\n",
    "alice_priv = [randint(MI + KU, MI * KU) for _ in ells]\n",
    "print(alice_priv)\n",
    "BEAM(alice_priv)\n",
    "\n",
    "alter_ego = list(map(int, input('ready?! here is the \"alter ego\" >').split(\", \")))\n",
    "\n",
    "assert alice_priv != alter_ego\n",
    "assert len(alice_priv) == len(alter_ego)\n",
    "assert all([-MI * KU <= ai < 0 for ai in alter_ego])\n",
    "\n",
    "_E0 = KummerLine(E0)\n",
    "G = E0.random_point()\n",
    "_G = _E0(G)\n",
    "\n",
    "_alter_ego_E1, _ = group_action(_E0, alter_ego, _G)\n",
    "_alice_E1, __ = group_action(_E0, alice_priv, _G)\n",
    "\n",
    "if _alter_ego_E1.curve().a2() == _alice_E1.curve().a2():\n",
    "    print(\"There you are... I've been waiting and waiting for you to come to me.\")\n",
    "    print(FLAG)\n",
    "else:\n",
    "    print(\"YOU CANT FIND MY ALTER EGO....\")\n",
    "    exit()"
   ]
  },
  {
   "cell_type": "code",
   "execution_count": 7,
   "id": "e00db4fb",
   "metadata": {
    "vscode": {
     "languageId": "python"
    }
   },
   "outputs": [
    {
     "name": "stdout",
     "output_type": "stream",
     "text": [
      "Elliptic Curve defined by y^2 = x^3 + x over Finite Field in i of size 5326738796327623094747867617954605554069371494832722337612446642054009560026576537626892113026381253624626941643949444792662881241621373288942880288065659^2 Kummer line of the Montgomery curve y^2 = x^3 + x over Finite Field in i of size 5326738796327623094747867617954605554069371494832722337612446642054009560026576537626892113026381253624626941643949444792662881241621373288942880288065659^2\n",
      "(4184017075500113634069174172529269022358667622251175945307948227435667776665070503333568672548080903494033742632874273297216068646068219250587999601861811*i + 1073449528296371600100332593640479221118830694050572400466520720600089387924343993137241709923396760268109163726977167834281169436910484994549667968750222 : 3964572034650493952894250254191566928345652212351558407235701466115642776158179156157354766504515146966593045971113251142727162388434282348131971943718000*i + 1815555798825783453301749727292698774085255776951522351600123083907244644883088699573568852619394240491862268312684685555025358516731400476948193946706927 : 1)\n",
      "[4184017075500113634069174172529269022358667622251175945307948227435667776665070503333568672548080903494033742632874273297216068646068219250587999601861811*i + 1073449528296371600100332593640479221118830694050572400466520720600089387924343993137241709923396760268109163726977167834281169436910484994549667968750222 : 1]\n"
     ]
    }
   ],
   "source": [
    "E = EllipticCurve(F, [0, 0, 0, 1, 0])\n",
    "omae_E = KummerLine(E)\n",
    "G = E.random_point()\n",
    "_G = omae_E(G)\n",
    "\n",
    "print(E, omae_E)\n",
    "print(G)\n",
    "print(_G)"
   ]
  }
 ],
 "metadata": {
  "kernelspec": {
   "display_name": "SageMath 9.5",
   "language": "sage",
   "name": "sagemath"
  },
  "language_info": {
   "codemirror_mode": {
    "name": "ipython",
    "version": 3
   },
   "file_extension": ".py",
   "mimetype": "text/x-python",
   "name": "sage",
   "nbconvert_exporter": "python",
   "pygments_lexer": "ipython3",
   "version": "3.10.12"
  }
 },
 "nbformat": 4,
 "nbformat_minor": 5
}
