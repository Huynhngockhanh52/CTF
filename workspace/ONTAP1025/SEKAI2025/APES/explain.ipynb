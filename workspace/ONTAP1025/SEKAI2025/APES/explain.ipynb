{
 "cells": [
  {
   "cell_type": "code",
   "execution_count": null,
   "id": "f36fade6",
   "metadata": {},
   "outputs": [],
   "source": [
    "import os\n",
    "FLAG = os.getenv(\"FLAG\", \"SEKAI{TESTFLAG}\")"
   ]
  },
  {
   "cell_type": "markdown",
   "id": "8d3e9b9a",
   "metadata": {},
   "source": [
    "## **1.Giải thích luồng chương trình**\n",
    "\n",
    "### **1.1. Phương thức `play()`**\n",
    "- `plainperm = bytes.fromhex(input(...))`: Chương trình yêu cầu nhập một **permutation** (một hoán vị của 0..255) ở dạng hex; `assert sorted(plainperm) == list(range(256))` kiểm tra rằng đó đúng là hoán vị (mỗi giá trị 0..255 xuất hiện đúng một lần) → 256 byte\n",
    "\n",
    "-   `key = os.urandom(64)`: Sinh một `key` ngẫu nhiên 64 byte, chỉ server biết.\n",
    "- *Phương thức `f(i)`*\n",
    "    -   Với mỗi byte `k` trong `key[:-1]` (63 byte đầu), làm `i = plainperm[i ^ k]`.      \n",
    "    -   Sau vòng lặp, trả `i ^ key[-1]` (xử lý XOR với byte cuối cùng).   \n",
    "    -   Kết quả là `f` là một hoán vị trên không gian 0..255 (tổ hợp các XOR và tra hoán vị vẫn là hoán vị).\n",
    "-   `cipherperm = bytes(map(f, range(256)))`: Chương trình áp dụng `f` cho từng giá trị 0..255, tạo ra một \"cipher permutation\" (hiển thị ở dạng hex). Nói cách khác, chương trình tiết lộ hoán vị `f` (kết quả của việc kết hợp plainperm và key).\n",
    "-   Cuối cùng chương trình hỏi: \"Do you know my key?\": chờ bạn nhập key (hex). Nếu nhập đúng key (bytes), chương trình in FLAG; nếu sai thì vòng lặp cho chạy lại.\n",
    "\n",
    "Hiểu đơn giản: Ta đưa vào một hoán vị `plainperm`, chương trình sinh `key` bí mật, tạo `cipherperm = f` (một hoán vị mới được in ra), rồi hỏi có biết `key` hay không. Nhiệm vụ của người tấn công là từ `plainperm` và `cipherperm` suy ra `key`."
   ]
  },
  {
   "cell_type": "code",
   "execution_count": null,
   "id": "0072a1a1",
   "metadata": {},
   "outputs": [],
   "source": [
    "def play():\n",
    "    plainperm = bytes.fromhex(input('Plainperm: '))\n",
    "    assert sorted(plainperm) == list(range(256)), \"Invalid permutation\"\n",
    "\n",
    "    key = os.urandom(64)\n",
    "    def f(i):\n",
    "        for k in key[:-1]:\n",
    "            i = plainperm[i ^ k]            # i XOR k\n",
    "        return i ^ key[-1]\n",
    "\n",
    "    cipherperm = bytes(map(f, range(256)))  # Chuỗi byte kết quả\n",
    "    print(f'Cipherperm: {cipherperm.hex()}')\n",
    "    print('Do you know my key?')\n",
    "    return bytes.fromhex(input()) == key"
   ]
  },
  {
   "cell_type": "markdown",
   "id": "d53e4509",
   "metadata": {},
   "source": [
    "## **2. Toán học**\n",
    "Ta có không gian $X=\\{0,\\dots,255\\}$. Với mỗi byte $k$ định nghĩa phép toán trên $X$:\n",
    "\n",
    "-   $XOR_k(x) = x \\oplus k$ (một hoán vị vì phép XOR là đảo được, $a \\oplus b \\oplus b = a$),\n",
    "    \n",
    "-   $S(x) = \\text{plainperm}[x]$.\n",
    "    \n",
    "\n",
    "Trong hàm `f`, mỗi bước `i = plainperm[i ^ k]` thực chất là áp dụng $S \\circ XOR_k$. Với key là $[k_1,k_2,\\dots,k_{64}]$ (một chuỗi 64 byte), ta có\n",
    "\n",
    "$$\n",
    "f = XOR_{k_{64}} \\circ S \\circ XOR_{k_{63}} \\circ S \\circ \\cdots \\circ XOR_{k_{1}}.\n",
    "$$\n",
    "\n",
    "(Chú ý thứ tự vì cách code làm: vòng lặp áp nhiều `S \\circ XOR` rồi cuối cùng XOR với `k_last`.)\n",
    "\n",
    "Vì các phép toán này đều là hoán vị, $f$ là một hoán vị biết được (vì chương trình in ra `cipherperm`). Người tấn công có hai hoán vị biết: $S$ (plainperm) và $f$ (cipherperm), còn bí mật là dãy các `XOR_k` xen kẽ với các $S$.\n"
   ]
  },
  {
   "cell_type": "code",
   "execution_count": 6,
   "id": "9e2df091",
   "metadata": {},
   "outputs": [
    {
     "name": "stdout",
     "output_type": "stream",
     "text": [
      "[119, 142, 236, 88, 38, 72, 139, 204, 234, 218, 121, 61, 195, 182, 92, 227, 32, 139, 192, 221, 24, 216, 113, 202, 96, 46, 81, 37, 127, 4, 11, 7, 1, 85, 8, 249, 86, 255, 38, 182, 242, 233, 221, 253, 29, 173, 1, 102, 103, 248, 240, 101, 123, 52, 171, 146, 211, 248, 246, 174, 148, 131, 113, 108]\n",
      "[119, 142, 236, 88, 38, 72, 139, 204, 234, 218, 121, 61, 195, 182, 92, 227, 32, 139, 192, 221, 24, 216, 113, 202, 96, 46, 81, 37, 127, 4, 11, 7, 1, 85, 8, 249, 86, 255, 38, 182, 242, 233, 221, 253, 29, 173, 1, 102, 103, 248, 240, 101, 123, 52, 171, 146, 211, 248, 246, 174, 148, 131, 113]\n"
     ]
    }
   ],
   "source": [
    "key = os.urandom(64)\n",
    "print(list(key))\n",
    "print(list(key[:-1]))"
   ]
  },
  {
   "cell_type": "code",
   "execution_count": 1,
   "id": "29c1c094",
   "metadata": {},
   "outputs": [
    {
     "name": "stdout",
     "output_type": "stream",
     "text": [
      "16\n"
     ]
    }
   ],
   "source": [
    "print(24 ^ 8)"
   ]
  }
 ],
 "metadata": {
  "kernelspec": {
   "display_name": "Python 3",
   "language": "python",
   "name": "python3"
  },
  "language_info": {
   "codemirror_mode": {
    "name": "ipython",
    "version": 3
   },
   "file_extension": ".py",
   "mimetype": "text/x-python",
   "name": "python",
   "nbconvert_exporter": "python",
   "pygments_lexer": "ipython3",
   "version": "3.10.12"
  }
 },
 "nbformat": 4,
 "nbformat_minor": 5
}
