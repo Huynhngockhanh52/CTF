{
 "cells": [
  {
   "cell_type": "markdown",
   "id": "bdf63a96",
   "metadata": {},
   "source": [
    "## **Writeups SEKAICTF 2025 - SSSS**\n",
    "Link: https://blog.sceleri.cc/posts/sekai-ctf-2025-writeup/\n",
    "Chagellenge: https://2025.ctf.sekai.team/challenges/#SSSS-9\n",
    "\n",
    "Description: Shamir SendS the Secret to everyone\n",
    "```bash\n",
    "ncat --ssl ssss.chals.sekai.team 1337\n",
    "```"
   ]
  },
  {
   "cell_type": "markdown",
   "id": "94e35ce2",
   "metadata": {},
   "source": [
    "##### **Thử thách:**\n",
    "Bài toán yêu cầu nhập vào một số $t$ sao cho $20 \\le t \\le 50$, là số bậc cao nhất của đa thức: $f(x) \\equiv \\sum_{i=0}^{t} c_i x^i \\pmod p$. \\\n",
    "Với mỗi `t` vòng lặp, nhập vòa giá trị `x` và tính toán đa thức $f(x)$. \\\n",
    "Cuối cùng, ta nhập một số sao cho: `input == secret` thì sẽ in ra `FLAG`. Trong đó, `secret` là một hệ số ngẫu nhiên không thay đổi, vị trí hệ số thay đổi trong $f(x)$.\\\n",
    "\n",
    "##### **Ý tưởng:**\n",
    "Ta chỉ có 2 vòng lặp để xác định được `secret`. Nghĩa là, ta chỉ có 2 hệ phương trình, giải 2 hệ phương trình, tìm ra 2 $f(x)$, từ đó, tìm ra `secret`.\\\n",
    "\n",
    "Nhìn chung, ta cần `degree + 1` điểm để xây dựng mỗi đa thức $f(x)$. Tuy nhiên, bài toán chỉ cung cấp `t == degree` điểm.\\\n",
    "\n",
    "Với bài toán đồng dư $p$, ta có $ \\forall x, p | \\gcd(x, p) = 1$, thì:\n",
    "$$\n",
    "x^{p-1} \\equiv 1 \\pmod{p}\n",
    "$$\n",
    "\n",
    "Nhiệm vụ của ta là đi tìm một số `t` sao cho $x^{t} \\equiv 1 \\pmod{p}$. Lại có, $p = 2^{256} - 189$ và $(p-1) \\equiv 0 \\pmod{29}$. Do đó, ta có thể gán $t = 29$.\n",
    "\n",
    "Do đó, lũy thừa bậc 29 sẽ lặp lại và đồng sư với hệ số tự do, như vậy, phương trình chỉ còn 28 bậc và ta tìm được tất cả hệ số với 29 phương trình. Tức là, ta sẽ gán $g = x^{(p-1)//t}$ để $g^{29} \\equiv g^{0} \\pmod{p}$. Từ đó, hệ phương trình dễ dàng hạ đi một bậc.\\\n",
    "Mỗi vòng lặp, ta có $x_{i} = g^{i} \\pmod{p}$\n",
    "\n"
   ]
  },
  {
   "cell_type": "markdown",
   "id": "862672fb",
   "metadata": {},
   "source": [
    "1. \n",
    "    ```python \n",
    "    io = process([\"python3\", \"chall.py\"])\n",
    "    ```\n",
    "    Khởi chạy tiến trình cục bộ và gán luồng giao tiếp qua biến `io`. Khởi chạy file và biến `io` sẽ nhận dữ liệu đầu vào."
   ]
  },
  {
   "cell_type": "code",
   "execution_count": null,
   "id": "29f5b2dc",
   "metadata": {
    "vscode": {
     "languageId": "python"
    }
   },
   "outputs": [],
   "source": [
    "# from sage.all import *\n",
    "# from pwn import *\n",
    "\n",
    "# context.log_level = 'debug'\n",
    "\n",
    "# p = 2 ** 256 - 189\n",
    "# R = PolynomialRing(GF(p), 'x')\n",
    "# t = 29\n",
    "\n",
    "# io = process([\"python3\", \"chall.py\"])\n",
    "\n",
    "# def sample():\n",
    "#     io.sendline(str(t).encode())\n",
    "#     while True:\n",
    "#         g = randint(1, p)\n",
    "#         g = pow(g, (p-1)//t, p)\n",
    "#         if g != 1:\n",
    "#             break\n",
    "#     shares = []\n",
    "#     for i in range(t):\n",
    "#         x0 = pow(g, i, p)\n",
    "#         io.sendline(str(x0).encode())\n",
    "#         y0 = int(io.recvline().strip())\n",
    "#         shares.append((x0, y0))\n",
    "#     return R.lagrange_polynomial(shares).coefficients()\n",
    "\n",
    "# s0 = sample()\n",
    "# io.sendline(b'1')\n",
    "# io.recvline()\n",
    "# s1 = sample()\n",
    "\n",
    "# for secret in set(s0) & set(s1):\n",
    "#     io.sendline(str(secret).encode())\n",
    "#     io.interactive()"
   ]
  },
  {
   "cell_type": "code",
   "execution_count": 19,
   "id": "359e3f8d",
   "metadata": {
    "vscode": {
     "languageId": "python"
    }
   },
   "outputs": [
    {
     "name": "stdout",
     "output_type": "stream",
     "text": [
      "[x] Starting local process '/usr/bin/python3'\n",
      "[+] Starting local process '/usr/bin/python3': pid 27955\n",
      "SEKAI{ https://youtu.be/XGxIE1hr0w4 }\n",
      "[*] Switching to interactive mode\n",
      "[*] Got EOF while reading in interactive\n",
      "[*] Interrupted\n"
     ]
    }
   ],
   "source": [
    "from sage.all import *\n",
    "from pwn import *\n",
    "\n",
    "# context.log_level = 'debug'     # Hiển thị tất cả các thông tin chi tiết\n",
    "context.log_level = 'info'     # Hiển thị cơ bản\n",
    "\n",
    "p = 2 **256 - 189\n",
    "R = PolynomialRing(GF(p), 'x') # Khởi tạo một vành đa thức 1 biến `x` trên trường hữu hạn GF(p) \n",
    "t = 29\n",
    "\n",
    "# port = 1337\n",
    "# host = 'ssss.chals.sekai.team'\n",
    "# r = remote(host, port, ssl=True, sni=host)\n",
    "\n",
    "r = process([\"python3\", \"chall.py\"])\n",
    "\n",
    "prev_coef = []\n",
    "\n",
    "def getFunc():\n",
    "    r.sendline(str(t).encode())\n",
    "    while True:\n",
    "        g = randint(1, p)\n",
    "        g = pow(g, (p-1)//t, p)\n",
    "        if g != 1:\n",
    "            break\n",
    "    coordinates = []\n",
    "    \n",
    "    # Nhớ là a0 = a29 + a0\n",
    "    for i in range(t):\n",
    "        x0 = pow(g, i, p)\n",
    "        r.sendline(str(x0).encode())\n",
    "        y0 = int(r.recvline(keepends=False, timeout=10).strip().decode())\n",
    "        coordinates.append((x0, y0))\n",
    "    coefs = R.lagrange_polynomial(coordinates).coefficients()\n",
    "    return coefs\n",
    "    \n",
    "coe1 = getFunc()\n",
    "r.sendline(b'1')\n",
    "r.recvline()\n",
    "coe2 = getFunc()\n",
    "\n",
    "same_coe = set(coe1) & set(coe2)\n",
    "for secret in same_coe:\n",
    "    r.sendline(str(secret).encode())\n",
    "    flag = r.recvline(keepends=False, timeout=10).strip().decode()\n",
    "    print(flag)\n",
    "r.interactive()\n",
    "\n"
   ]
  },
  {
   "cell_type": "code",
   "execution_count": 11,
   "id": "3a99c69d",
   "metadata": {
    "vscode": {
     "languageId": "python"
    }
   },
   "outputs": [
    {
     "name": "stdout",
     "output_type": "stream",
     "text": [
      "3\n"
     ]
    }
   ],
   "source": [
    "index = random.randint(0, 3)\n",
    "print(index)"
   ]
  }
 ],
 "metadata": {
  "kernelspec": {
   "display_name": "SageMath 9.5",
   "language": "sage",
   "name": "sagemath"
  },
  "language_info": {
   "codemirror_mode": {
    "name": "ipython",
    "version": 3
   },
   "file_extension": ".py",
   "mimetype": "text/x-python",
   "name": "sage",
   "nbconvert_exporter": "python",
   "pygments_lexer": "ipython3",
   "version": "3.10.12"
  }
 },
 "nbformat": 4,
 "nbformat_minor": 5
}
