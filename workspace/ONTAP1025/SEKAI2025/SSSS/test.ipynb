{
 "cells": [
  {
   "cell_type": "code",
   "execution_count": 20,
   "id": "047650f7",
   "metadata": {
    "vscode": {
     "languageId": "python"
    }
   },
   "outputs": [],
   "source": [
    "import random, os\n",
    "from pwn import *\n",
    "from sympy import symbols, Matrix\n",
    "import numpy as np\n",
    "\n",
    "\n",
    "# ma trận Vandermonde -  Alexandre-Théophile Vandermonde\n",
    "\n",
    "p = 1009\n",
    "\n",
    "def gen(degree, secret):\n",
    "    poly = [random.randrange(0, p) for _ in range(degree + 1)]\n",
    "    index = random.randint(0, degree)\n",
    "    \n",
    "    poly[index] = secret\n",
    "    return poly\n",
    "\n",
    "def poly_eval(f, x):\n",
    "\treturn sum(c * pow(x, i, p) for i, c in enumerate(f)) % p\n",
    "\n",
    "# t = 10 \n",
    "# x = 3\n",
    "# secret = 125\n",
    "\n",
    "# s = gen(t, secret)\n",
    "\n",
    "# for i in range(t):\n",
    "#     x = x + 1\n",
    "#     print(f\"poly_eval({s}, {x}) = {poly_eval(s, x)}\")"
   ]
  },
  {
   "cell_type": "code",
   "execution_count": null,
   "id": "4bb5fbb7",
   "metadata": {
    "vscode": {
     "languageId": "python"
    }
   },
   "outputs": [
    {
     "name": "stdout",
     "output_type": "stream",
     "text": [
      "[x] Opening connection to ssss.chals.sekai.team on port 1337\n",
      "[x] Opening connection to ssss.chals.sekai.team on port 1337: Trying 34.133.17.18\n",
      "[+] Opening connection to ssss.chals.sekai.team on port 1337: Done\n",
      "[73743267020621864920610443901894181007418848617594108510084033123827657724273, 60449974506215250377684400327992345737010928242601194749621702907259329286526, 17557828074303810415984153209684464036750949276324001054302452235243123742972, 69405401056444897134123741397251182465674018284989196718782371456939469866209, 42311396232558482374238869388030484241061292156924903610084782964707066515501, 45676105533097335655351956806125181406223072425470719595854335071738925270089, 72721991652835590482359560703848291466896676603836093604494844241595741846605, 18962991976863520270324349378840169817461498554278780524807701930297614206356, 54721583646975173565434241945506772441240077751725785481523191065530829977996, 114000150945265973783744217270391184542816667818262209387974048502731479044855, 109431150862585045403406425656806836830128882796967640591104316834349576646169, 109123716326848731984340493309172309233352964442381206808516583525544324869774, 26050034298144394172704170107205409759431086784626093773867650243429707525003, 114283091660314585135508287566940045045795278856572273255292276151762697351062, 67923576873189667965820507234330235587762857275985057533561406037872207936, 115789764245279077035130681495786418884224322332040247938760745533501628359456, 58434349298124609154481187524635343365768538398527368447304622231480995, 115792088221179955014609205990035772265264064456635373558078515901010508865776, 10916938639248063092045429168379217839483392614695000766156417230893, 115792089237261625341997526555956596783238651688642086311211423225060244757629]\n",
      ":<\n",
      "[93143871879927451211486254748956868099269627105855965223693068876017394311785, 78625343353889950948171562651703402364621735070873095777833348575816184385481, 101992746084966161570019901795272620202321914536234829635699512347282374412982, 48409924098531000255115862622997968050704585183470664727045893142653959235855, 55820154474214802943410929485433471739590320514516458118570181175660707951355, 43716820941966097444284384254113885550650271513345558645620964216974682933155, 63937708640276801492195216362048728242250808884870661545302405853965108699747, 95055678732442162925206240432000588409717724494619487747634300943474765350068, 14395305227562192099207811814836306720888875788909135927550445769519348745692, 1752884483593170235686226062061578690944091694793654210691672214266186120071, 53995937351712084842754093421015374409895318342285701347980783560989996519496, 36896557969900501730784394083995538941269478831976280866591369938969928891524, 5707662023974408758471678313557067797231826279419548931990654093398438636064, 115466976131012332996233788592352079965863655269426139960810853967370966419680, 14393071568128435588006000988229244810379598340346496554266414499368200689, 115791604539000566183629903547507827557919079503700714265242196471148415544463, 11989317952839288949834453183098486950926236005758087747685998441377601, 115792089032042118551085008805257746781599777002993523685571598684740593815004, 2172362432341628123078399112246312785845843185980065003225601444994, 115792089237305494116349586485614483787491771182056479330215142041305739627566]\n",
      ":<\n"
     ]
    }
   ],
   "source": [
    "import random, os\n",
    "from pwn import *\n",
    "from sympy import symbols, Matrix\n",
    "import numpy as np\n",
    "\n",
    "def vandermonde(xs):\n",
    "    n = len(xs)\n",
    "    return Matrix([[xs[i]**j for j in range(n)] for i in range(n)])\n",
    "\n",
    "\n",
    "# =======================================================================\n",
    "##### START PROGRAM\n",
    "# =======================================================================\n",
    "t = 20\n",
    "p = 2 ** 256 - 189\n",
    "\n",
    "V = vandermonde([i+1 for i in range(t)])\n",
    "V_inv = V.inv()\n",
    "\n",
    "port = 1337\n",
    "host = 'ssss.chals.sekai.team'\n",
    "r = remote(host, port, ssl=True, sni=host)\n",
    "prev_coef = []\n",
    "for _ in range(2):\n",
    "    # Send t:\n",
    "    r.sendline(str(t).encode())\n",
    "\n",
    "    # Start loop x:\n",
    "    matrix_mod = []\n",
    "    for i in range(t):\n",
    "        # Send x:\n",
    "        r.sendline(str(i+1).encode())     # 0<i<p\n",
    "        fi = r.recvline(keepends=False, timeout=10).strip().decode()\n",
    "        matrix_mod.append([int(fi)])\n",
    "\n",
    "    matrix_mod = Matrix(matrix_mod)\n",
    "    result = V_inv * matrix_mod\n",
    "\n",
    "    coef_arr = result.applyfunc(lambda x: x % p)\n",
    "    this_coef = [int(v) % p for v in coef_arr]\n",
    "    print(this_coef)\n",
    "    \n",
    "    if len(prev_coef) == 0:\n",
    "        prev_coef = this_coef.copy()\n",
    "        r.sendline(str(prev_coef[5]).encode())\n",
    "        temp = r.recvline(keepends=False, timeout=10).strip().decode()\n",
    "        print(temp)\n",
    "        \n",
    "    else: \n",
    "        for val in this_coef:\n",
    "            for res in prev_coef:\n",
    "                if val == res:\n",
    "                    r.sendline(str(val).encode())\n",
    "                    flag = r.recvline(keepends=False, timeout=10).strip().decode()\n",
    "                    print(flag)\n",
    "                    break\n",
    "        r.sendline(str(this_coef[5]).encode())\n",
    "        temp = r.recvline(keepends=False, timeout=10).strip().decode()\n",
    "        print(temp)   \n",
    "            \n",
    "# r.interactive()"
   ]
  },
  {
   "cell_type": "code",
   "execution_count": 37,
   "id": "b27b0a1c",
   "metadata": {
    "vscode": {
     "languageId": "python"
    }
   },
   "outputs": [
    {
     "name": "stdout",
     "output_type": "stream",
     "text": [
      "Poly: [743, 975, 398, 480, 910, 264, 26, 454, 474, 362, 460, 125, 743, 510, 105, 105, 273, 102, 821, 23, 1003]\n",
      ":<\n",
      "[601, 482, 241, 533, 850, 591, 172, 24, 764, 785, 943, 385, 9, 165, 558, 877, 932, 268, 404, 781]\n"
     ]
    }
   ],
   "source": [
    "p = 1009\n",
    "FLAG = \"HEHE\"\n",
    "\n",
    "def gen(degree, secret):\n",
    "    poly = [random.randrange(0, p) for _ in range(degree + 1)]\n",
    "    index = random.randint(0, degree)\n",
    "    \n",
    "    poly[index] = secret\n",
    "    return poly\n",
    "\n",
    "def poly_eval(f, x):\n",
    "\treturn sum(c * pow(x, i, p) for i, c in enumerate(f)) % p\n",
    "\n",
    "def challenge(secret):\n",
    "\tt = int(input())\n",
    "\tassert 20 <= t <= 50, \"Number of parties not in range\"\n",
    "\n",
    "\tf = gen(t, secret)\n",
    "\n",
    "\tfor i in range(t):\n",
    "\t\tx = int(input())\n",
    "\t\tassert 0 < x < p, \"Bad input\"\n",
    "\t\tprint(poly_eval(f, x))\n",
    "\n",
    "\tif int(input()) == secret:\n",
    "\t\tprint(FLAG)\n",
    "\t\texit(0)\n",
    "\telse:\n",
    "\t\tprint(\":<\")\n",
    "\n",
    "def gen(degree, secret):\n",
    "\tpoly = [random.randrange(0, p) for _ in range(degree + 1)]\n",
    "\tindex = random.randint(0, degree)\n",
    "\n",
    "\tpoly[index] = secret\n",
    "\treturn poly\n",
    "\n",
    "def poly_eval(f, x):\n",
    "\treturn sum(c * pow(x, i, p) for i, c in enumerate(f)) % p\n",
    "\n",
    "secret = 102\n",
    "choose = 0\n",
    "\n",
    "noo_coef = []\n",
    "\n",
    "for _ in range(1):\n",
    "    t = 20\n",
    "    x_lst = [(i+1) for i in range(t)]\n",
    "    f = gen(t, secret)\n",
    "    print(f\"Poly: {f}\")\n",
    "    \n",
    "    for i in range(t):\n",
    "        x = x_lst[i]\n",
    "        \n",
    "        temp = poly_eval(f, x)\n",
    "        noo_coef.append(temp)\n",
    "        \n",
    "    if choose == secret:\n",
    "        print(FLAG)\n",
    "        exit(0)\n",
    "    else:\n",
    "        print(\":<\")\n",
    "\n",
    "V = Matrix([[pow(x, i, p) for i in range(t)] for x in range(1, t+1)])\n",
    "V_inv = V.inv_mod(p)\n",
    "\n",
    "noo_coef = Matrix(noo_coef)\n",
    "\n",
    "res = V_inv * noo_coef\n",
    "\n",
    "this_coef = [int(v) % p for v in res]\n",
    "print(this_coef)"
   ]
  },
  {
   "cell_type": "markdown",
   "id": "111d2d33",
   "metadata": {},
   "source": [
    "#### **Bài toán Shamir’s Secret Sharing (SSS)**"
   ]
  },
  {
   "cell_type": "code",
   "execution_count": null,
   "id": "d49d9fee",
   "metadata": {
    "vscode": {
     "languageId": "python"
    }
   },
   "outputs": [],
   "source": []
  }
 ],
 "metadata": {
  "kernelspec": {
   "display_name": "SageMath 9.5",
   "language": "sage",
   "name": "sagemath"
  },
  "language_info": {
   "codemirror_mode": {
    "name": "ipython",
    "version": 3
   },
   "file_extension": ".py",
   "mimetype": "text/x-python",
   "name": "sage",
   "nbconvert_exporter": "python",
   "pygments_lexer": "ipython3",
   "version": "3.11.2"
  }
 },
 "nbformat": 4,
 "nbformat_minor": 5
}
