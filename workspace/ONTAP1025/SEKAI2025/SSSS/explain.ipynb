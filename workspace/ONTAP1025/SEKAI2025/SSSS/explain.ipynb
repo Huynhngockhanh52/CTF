{
 "cells": [
  {
   "cell_type": "code",
   "execution_count": null,
   "id": "280d304a",
   "metadata": {
    "vscode": {
     "languageId": "python"
    }
   },
   "outputs": [],
   "source": [
    "import random, os"
   ]
  },
  {
   "cell_type": "code",
   "execution_count": null,
   "id": "a901638b",
   "metadata": {
    "vscode": {
     "languageId": "python"
    }
   },
   "outputs": [
    {
     "name": "stdout",
     "output_type": "stream",
     "text": [
      "115792089237316195423570985008687907853269984665640564039457584007913129639747\n"
     ]
    }
   ],
   "source": [
    "p = 2 ** 256 - 189\n",
    "# p = 115792089237316195423570985008687907853269984665640564039457584007913129639747"
   ]
  },
  {
   "cell_type": "markdown",
   "id": "04e897a2",
   "metadata": {},
   "source": [
    "#### **Hiểu rõ `gen(degree, secret)` và `poly_eval(f, x)` trong trường hữu hạn 𝔽ₚ**\n",
    "\n",
    "- `gen(degree, secret)`: sinh đa thức ngẫu nhiên bậc `degree` (danh sách hệ số dài `degree+1`) trên 𝔽ₚ rồi **gán** `secret` vào một hệ số ngẫu nhiên trong đa thức.\n",
    "- `poly_eval(f, x)`: tính giá trị đa thức `f` tại `x` theo modulo `p`.\n",
    "\n",
    "Ta biểu diễn đa thức theo **dạng danh sách hệ số** $f = [c_0, c_1, ..., c_t]$, tương ứng:\n",
    "$$\n",
    "f(x) \\equiv c_0 + c_1 x + c_2 x^2 + \\cdots + c_t x^t \\pmod p.\n",
    "$$\n",
    "Nói cách khác, `f[i]` là hệ số của $x^i$ (thứ tự **little-endian** theo bậc).\n"
   ]
  },
  {
   "cell_type": "markdown",
   "id": "aa0cfb60",
   "metadata": {},
   "source": [
    "#### ***1. Phương thức `gen(degree, secret)`***\n",
    "- Tạo một danh sách các hệ số `poly` có độ dài `degree + 1`.\n",
    "- Mỗi hệ số ban đầu được lấy ngẫu nhiên trong `[0, p-1]`.\n",
    "- Chọn ngẫu nhiên một chỉ số `index ∈ {0, …, degree}` và **gán** `poly[index] = secret`.\n",
    "- Trả về danh sách hệ số `poly`.\n",
    "\n",
    "#### ***2. Phương thức `poly_eval(f, x)`***\n",
    "- Tính **$f(x) \\equiv \\sum_{i=0}^{t} c_i x^i \\pmod p $**."
   ]
  },
  {
   "cell_type": "code",
   "execution_count": null,
   "id": "1b69aea7",
   "metadata": {
    "vscode": {
     "languageId": "python"
    }
   },
   "outputs": [],
   "source": [
    "def gen(degree, secret):\n",
    "\tpoly = [random.randrange(0, p) for _ in range(degree + 1)]\n",
    "\tindex = random.randint(0, degree)\n",
    "\n",
    "\tpoly[index] = secret\n",
    "\treturn \n",
    "\n",
    "def poly_eval(f, x):\n",
    "\treturn sum(c * pow(x, i, p) for i, c in enumerate(f)) % p"
   ]
  },
  {
   "cell_type": "markdown",
   "id": "fb79cdfd",
   "metadata": {},
   "source": [
    "#### ***3. Phương thức `challenge(secret)`***\n",
    "- Hàm này mô phỏng một **thử thách mật mã** dựa trên việc đánh giá đa thức trong trường hữu hạn 𝔽ₚ.\n",
    "- Cho một đầu vào `t` với $20 <= t <= 50$: Số bậc cao nhất của poly\n",
    "- với mỗi vòng lặp `t`, cho một số `x`, sau đó tính phần dư của đa thức cho `p`.\n",
    "- Nếu `input == secret` thì in flag, ngược lại thì không.\n",
    "\n",
    "Chương trình cuối cùng sẽ random `secret` và chỉ chạy 2 vòng thử thách để chúng ta tìm ra đáp án."
   ]
  },
  {
   "cell_type": "code",
   "execution_count": null,
   "id": "d51e94d3",
   "metadata": {
    "vscode": {
     "languageId": "python"
    }
   },
   "outputs": [],
   "source": [
    "def challenge(secret):\n",
    "\tt = int(input())\n",
    "\tassert 20 <= t <= 50, \"Number of parties not in range\"\n",
    "\n",
    "\tf = gen(t, secret)\n",
    "\n",
    "\tfor i in range(t):\n",
    "\t\tx = int(input())\n",
    "\t\tassert 0 < x < p, \"Bad input\"\n",
    "\t\tprint(poly_eval(f, x))\n",
    "\n",
    "\tif int(input()) == secret:\n",
    "\t\tprint(FLAG)\n",
    "\t\texit(0)\n",
    "\telse:\n",
    "\t\tprint(\":<\")\n",
    "  \n",
    "if __name__ == \"__main__\":\n",
    "\tsecret = random.randrange(0, p)\n",
    "\tfor _ in range(2):\n",
    "\t\tchallenge(secret)"
   ]
  }
 ],
 "metadata": {
  "kernelspec": {
   "display_name": "SageMath 9.5",
   "language": "sage",
   "name": "sagemath"
  },
  "language_info": {
   "codemirror_mode": {
    "name": "ipython",
    "version": 3
   },
   "file_extension": ".py",
   "mimetype": "text/x-python",
   "name": "sage",
   "nbconvert_exporter": "python",
   "pygments_lexer": "ipython3",
   "version": "3.11.2"
  }
 },
 "nbformat": 4,
 "nbformat_minor": 5
}
