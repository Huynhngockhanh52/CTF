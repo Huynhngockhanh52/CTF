{
 "cells": [
  {
   "cell_type": "markdown",
   "id": "a3c588fd",
   "metadata": {},
   "source": [
    "## **I Dream of Genni**    \n",
    "<h5><b>Point: 100</b></h5> \n",
    "\n",
    "I had the strangest dream last night.\n",
    "\n",
    "<img src=\"./image.png\" alt=\"Ảnh\" width=\"300\" height=\"500\">"
   ]
  },
  {
   "cell_type": "markdown",
   "id": "17f63109",
   "metadata": {},
   "source": [
    "#### **1. Các thư viện sử dụng**\n",
    "```python\n",
    "from hashlib import sha256\n",
    "from Crypto.Cipher import AES\n",
    "```\n",
    "Bài toán sử dụng kỹ thuật mã hóa AES\n",
    "\n",
    "#### **2. Các giá trị biến**\n",
    "``` python\n",
    "x = int(input('Enter an 8-digit multiplicand: '))\n",
    "y = int(input('Enter a 7-digit multiplier: '))\n",
    "assert 1e6 <= y < 1e7 <= x < 1e8, \"Incorrect lengths\"\n",
    "assert x * y != 3_81_40_42_24_40_28_42, \"Insufficient ntr-opy\"\n",
    "```\n",
    "Đầu vào `x`, `y` tương ứng 8 và 7 chữ số\n",
    "\n",
    "``` python\n",
    "ct = '75bd1089b2248540e3406aa014dc2b5add4fb83ffdc54d09beb878bbb0d42717e9cc6114311767dd9f3b8b070b359a1ac2eb695cd31f435680ea885e85690f89'\n",
    "```\n",
    "Giá trị của flag được mã hóa bởi kỹ thuật ```AES.MODE_ECB```"
   ]
  },
  {
   "cell_type": "markdown",
   "id": "088a0bc0",
   "metadata": {},
   "source": [
    "#### **3. Phương thức sử dụng**\n",
    "\n",
    "Phương thức ```dream_multiply(x, y)``` thực hiện pháp nhân \"mơ ước\" sao cho từng hàng chữ số `x[i+1] * y[i]` kết hợp lại (`i >= 1`) và trả về kết quả đó. Giống như hình minh họa ở trên."
   ]
  },
  {
   "cell_type": "code",
   "execution_count": 1,
   "id": "7f333974",
   "metadata": {},
   "outputs": [],
   "source": [
    "def dream_multiply(x, y):\n",
    "    x, y = str(x), str(y)\n",
    "    assert len(x) == len(y) + 1\n",
    "    digits = x[0]\n",
    "    for a, b in zip(x[1:], y):\n",
    "        digits += str(int(a) * int(b))\n",
    "    return int(digits)"
   ]
  }
 ],
 "metadata": {
  "kernelspec": {
   "display_name": "SageMath 9.5",
   "language": "sage",
   "name": "sagemath"
  },
  "language_info": {
   "codemirror_mode": {
    "name": "ipython",
    "version": 3
   },
   "file_extension": ".py",
   "mimetype": "text/x-python",
   "name": "python",
   "nbconvert_exporter": "python",
   "pygments_lexer": "ipython3",
   "version": "3.10.12"
  }
 },
 "nbformat": 4,
 "nbformat_minor": 5
}
