{
 "cells": [
  {
   "cell_type": "code",
   "execution_count": 46,
   "id": "91c6e62e",
   "metadata": {},
   "outputs": [
    {
     "name": "stdout",
     "output_type": "stream",
     "text": [
      "dem: 17\n"
     ]
    }
   ],
   "source": [
    "from sympy import nextprime, randprime\n",
    "from sympy.core.random import seed\n",
    "from math import prod, gcd\n",
    "from Crypto.Util.number import bytes_to_long\n",
    "\n",
    "\n",
    "p = randprime(2**127, 2**128)\n",
    "N = 1\n",
    "dem = 0\n",
    "while N < 2**2048:\n",
    "    N *= p\n",
    "    p = nextprime(p)\n",
    "    dem = dem + 1\n",
    "print(f\"dem: {dem}\")"
   ]
  }
 ],
 "metadata": {
  "kernelspec": {
   "display_name": "CTF",
   "language": "python",
   "name": "python3"
  },
  "language_info": {
   "codemirror_mode": {
    "name": "ipython",
    "version": 3
   },
   "file_extension": ".py",
   "mimetype": "text/x-python",
   "name": "python",
   "nbconvert_exporter": "python",
   "pygments_lexer": "ipython3",
   "version": "3.11.2"
  }
 },
 "nbformat": 4,
 "nbformat_minor": 5
}
