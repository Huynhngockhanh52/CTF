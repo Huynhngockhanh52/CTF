{
 "cells": [
  {
   "cell_type": "code",
   "execution_count": 35,
   "id": "e93499b9",
   "metadata": {},
   "outputs": [
    {
     "name": "stdout",
     "output_type": "stream",
     "text": [
      "242444312856123694689611504831894231761\n",
      "px nằm ở vị trí: 8\n",
      "242444312856123694689611504831894231653\n",
      "px nằm ở vị trí: 7\n",
      "242444312856123694689611504831894231099\n",
      "px nằm ở vị trí: 2\n",
      "242444312856123694689611504831894230373\n",
      "px nằm ở vị trí: 0\n",
      "pt: b'uiuctf{D0nt_U5e_Cons3cUt1vE_PriMeS}'\n"
     ]
    }
   ],
   "source": [
    "from sympy import nextprime, randprime\n",
    "from sympy.core.random import seed\n",
    "from math import prod, gcd\n",
    "from Crypto.Util.number import bytes_to_long\n",
    "\n",
    "from Crypto.Util.number import inverse, long_to_bytes\n",
    "\n",
    "# N = p0 * p1 * p2 * p3 * ...\n",
    "N =  34546497157207880069779144631831207265231460152307441189118439470134817451040294541962595051467936974790601780839436065863454184794926578999811185968827621504669046850175311261350438632559611677118618395111752688984295293397503841637367784035822653287838715174342087466343269494566788538464938933299114092019991832564114273938460700654437085781899023664719672163757553413657400329448277666114244272477880443449956274432819386599220473627937756892769036756739782458027074917177880632030971535617166334834428052274726261358463237730801653954955468059535321422372540832976374412080012294606011959366354423175476529937084540290714443009720519542526593306377\n",
    "\n",
    "ct =  32130352215164271133656346574994403191937804418876038099987899285740425918388836116548661879290345302496993945260385667068119439335225069147290926613613587179935141225832632053477195949276266017803704033127818390923119631817988517430076207710598936487746774260037498876812355794218544860496013734298330171440331211616461602762715807324092281416443801588831683678783343566735253424635251726943301306358608040892601269751843002396424155187122218294625157913902839943220894690617817051114073999655942113004066418001260441287880247349603218620539692362737971711719433735307458772641705989685797383263412327068222383880346012169152962953918108171850055943194\n",
    "\n",
    "def reverse_p(px, LOW=127, HIGH=128, N=N):\n",
    "    p0 = nextprime(px) # Căn bậc 17 của N\n",
    "    dem = 0\n",
    "    while p0 < 2**HIGH:\n",
    "        if N % p0 == 0:\n",
    "            return p0\n",
    "        else:\n",
    "            p0 = nextprime(p0)\n",
    "    return None\n",
    "\n",
    "def check_px(px, N=N):\n",
    "    dem = 0\n",
    "    while N > 1:\n",
    "        if N % px != 0:\n",
    "            return 17 - dem\n",
    "        N = N // px\n",
    "        dem +=1\n",
    "        px = nextprime(px)\n",
    "    return 17-dem\n",
    "\n",
    "def build_N(p0, MAX_bit=2048):\n",
    "    primes = []\n",
    "    N = 1\n",
    "    p = p0\n",
    "    while N.bit_length() < MAX_bit:\n",
    "        primes.append(p)\n",
    "        N *= p\n",
    "        p = nextprime(p)\n",
    "    return N, primes\n",
    "\n",
    "def phi_N(primes):\n",
    "    phi = 1\n",
    "    for p in primes:\n",
    "        phi *= (p - 1)\n",
    "    return phi\n",
    "\n",
    "e = 65537\n",
    "psqrt_17 = 242444312856123694689611504831894231744  # Căn bậc 17 của N\n",
    "pos_x = 17\n",
    "temp = 0\n",
    "p0 = 0\n",
    "while pos_x != 0:\n",
    "    temp += 1\n",
    "    # Tìm một số px bất kỳ trong N\n",
    "    px = reverse_p(psqrt_17 - 10**temp)\n",
    "    print(px)\n",
    "\n",
    "    # Check vị trí của px trong N\n",
    "    pos_x = check_px(px, N)\n",
    "    print(f\"px nằm ở vị trí: {pos_x}\")\n",
    "    p0 = px if pos_x == 0 else p0\n",
    "\n",
    "x, primes = build_N(px)\n",
    "phiN = phi_N(primes)\n",
    "\n",
    "d = inverse(e, phiN)\n",
    "pt = pow(ct, d, N)\n",
    "FLAG = long_to_bytes(pt)\n",
    "print(f\"pt: {FLAG}\")\n"
   ]
  },
  {
   "cell_type": "code",
   "execution_count": 6,
   "id": "85ad97be",
   "metadata": {},
   "outputs": [
    {
     "name": "stdout",
     "output_type": "stream",
     "text": [
      "18\n"
     ]
    }
   ],
   "source": [
    "a = N\n",
    "p0 = 2**127\n",
    "dem = 0\n",
    "while True:\n",
    "    a = a // p0\n",
    "    dem = dem + 1\n",
    "    if a <= 1:\n",
    "        break\n",
    "print(dem)"
   ]
  },
  {
   "cell_type": "code",
   "execution_count": 19,
   "id": "2b0e2c3d",
   "metadata": {},
   "outputs": [
    {
     "name": "stdout",
     "output_type": "stream",
     "text": [
      "Căn bậc 17 gần đúng: 242444312856123694689611504831894231744\n",
      "Chính xác hoàn toàn? False\n"
     ]
    }
   ],
   "source": [
    "import gmpy2\n",
    "\n",
    "N = 34546497157207880069779144631831207265231460152307441189118439470134817451040294541962595051467936974790601780839436065863454184794926578999811185968827621504669046850175311261350438632559611677118618395111752688984295293397503841637367784035822653287838715174342087466343269494566788538464938933299114092019991832564114273938460700654437085781899023664719672163757553413657400329448277666114244272477880443449956274432819386599220473627937756892769036756739782458027074917177880632030971535617166334834428052274726261358463237730801653954955468059535321422372540832976374412080012294606011959366354423175476529937084540290714443009720519542526593306377\n",
    "\n",
    "root, exact = gmpy2.iroot(N, 17)\n",
    "\n",
    "print(\"Căn bậc 17 gần đúng:\", root)\n",
    "print(\"Chính xác hoàn toàn?\", exact)\n"
   ]
  }
 ],
 "metadata": {
  "kernelspec": {
   "display_name": "CTF",
   "language": "python",
   "name": "python3"
  },
  "language_info": {
   "codemirror_mode": {
    "name": "ipython",
    "version": 3
   },
   "file_extension": ".py",
   "mimetype": "text/x-python",
   "name": "python",
   "nbconvert_exporter": "python",
   "pygments_lexer": "ipython3",
   "version": "3.11.2"
  }
 },
 "nbformat": 4,
 "nbformat_minor": 5
}
