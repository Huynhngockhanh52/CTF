{
 "cells": [
  {
   "cell_type": "code",
   "execution_count": null,
   "id": "6fc6fe53",
   "metadata": {},
   "outputs": [
    {
     "name": "stdout",
     "output_type": "stream",
     "text": [
      "[+] Found K: 41642293072\n",
      "[+] FLAG: b'uiuctf{SQu4Re_Ro0T5_AR3nT_R4nD0M}'\n",
      "[-] Không tìm thấy K phù hợp.\n"
     ]
    },
    {
     "ename": "",
     "evalue": "",
     "output_type": "error",
     "traceback": [
      "\u001b[1;31mThe Kernel crashed while executing code in the current cell or a previous cell. \n",
      "\u001b[1;31mPlease review the code in the cell(s) to identify a possible cause of the failure. \n",
      "\u001b[1;31mClick <a href='https://aka.ms/vscodeJupyterKernelCrash'>here</a> for more info. \n",
      "\u001b[1;31mView Jupyter <a href='command:jupyter.viewOutput'>log</a> for further details."
     ]
    }
   ],
   "source": [
    "from hashlib import md5\n",
    "from Crypto.Cipher import AES\n",
    "from Crypto.Util.Padding import unpad\n",
    "from decimal import Decimal, getcontext\n",
    "from random import randint\n",
    "\n",
    "leak = 4336282047950153046404\n",
    "ct_hex = \"7863c63a4bb2c782eb67f32928a1deceaee0259d096b192976615fba644558b2ef62e48740f7f28da587846a81697745\"\n",
    "ct = bytes.fromhex(ct_hex)\n",
    "\n",
    "MAX = round(Decimal(10**11).sqrt()) + 1\n",
    "\n",
    "# Tạo số thập phân từ leak\n",
    "leak_decimal = Decimal(leak) * Decimal(10) ** -22  # Vì leak dài 15 chữ số\n",
    "\n",
    "for sqrtK in range(10**5, MAX):  # Bạn có thể tăng MAX lên nhiều hơn\n",
    "    approx_sqrtK = Decimal(sqrtK) + leak_decimal\n",
    "    K_estimate = approx_sqrtK ** 2\n",
    "    K_rounded = int(K_estimate.to_integral_value(rounding='ROUND_HALF_EVEN'))\n",
    "\n",
    "    for delta in [-1, 0, 1]:\n",
    "        K_try = K_rounded + delta\n",
    "        key = md5(str(K_try).encode()).digest()\n",
    "        cipher = AES.new(key, AES.MODE_ECB)\n",
    "\n",
    "        try:\n",
    "            pt = unpad(cipher.decrypt(ct), 16)\n",
    "            if b'uiuctf' in pt:  # hoặc kiểm tra FLAG định dạng CTF thường có b'flag{' ...\n",
    "                print(f\"[+] Found K: {K_try}\")\n",
    "                print(f\"[+] FLAG: {pt}\")\n",
    "                exit(0)\n",
    "        except:\n",
    "            continue\n",
    "\n",
    "print(\"[-] Không tìm thấy K phù hợp.\")\n"
   ]
  },
  {
   "cell_type": "code",
   "execution_count": 9,
   "id": "4bf58d9d",
   "metadata": {},
   "outputs": [
    {
     "name": "stdout",
     "output_type": "stream",
     "text": [
      "100000\n",
      "76601683793319988935444327185337195551393252\n"
     ]
    }
   ],
   "source": [
    "print(Decimal(10**10).sqrt())\n",
    "print(int(str(Decimal(10**11).sqrt()).split('.')[-1]))"
   ]
  }
 ],
 "metadata": {
  "kernelspec": {
   "display_name": "CTF",
   "language": "python",
   "name": "python3"
  },
  "language_info": {
   "codemirror_mode": {
    "name": "ipython",
    "version": 3
   },
   "file_extension": ".py",
   "mimetype": "text/x-python",
   "name": "python",
   "nbconvert_exporter": "python",
   "pygments_lexer": "ipython3",
   "version": "3.11.2"
  }
 },
 "nbformat": 4,
 "nbformat_minor": 5
}
