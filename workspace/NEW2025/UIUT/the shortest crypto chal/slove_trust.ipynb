{
 "cells": [
  {
   "cell_type": "code",
   "execution_count": 1,
   "id": "f1d96cd2",
   "metadata": {},
   "outputs": [
    {
     "name": "stdout",
     "output_type": "stream",
     "text": [
      "00: [0, 10, 20, 30, 40, 50, 60, 70, 80, 90, 100]\n",
      "01: [1, 7, 43, 49, 51, 57, 93, 99]\n",
      "16: [2, 14, 36, 48, 52, 64, 86, 98]\n",
      "21: [17, 19, 31, 33, 67, 69, 81, 83]\n",
      "25: [5, 15, 25, 35, 45, 55, 65, 75, 85, 95]\n",
      "36: [12, 16, 34, 38, 62, 66, 84, 88]\n",
      "41: [11, 23, 27, 39, 61, 73, 77, 89]\n",
      "56: [4, 22, 28, 46, 54, 72, 78, 96]\n",
      "61: [9, 13, 37, 41, 59, 63, 87, 91]\n",
      "76: [18, 24, 26, 32, 68, 74, 76, 82]\n",
      "81: [3, 21, 29, 47, 53, 71, 79, 97]\n",
      "96: [6, 8, 42, 44, 56, 58, 92, 94]\n"
     ]
    }
   ],
   "source": [
    "from collections import defaultdict\n",
    "\n",
    "mod_result = defaultdict(list)\n",
    "\n",
    "for x in range(0, 101):\n",
    "    val = pow(x, 4, 100)\n",
    "    mod_result[val].append(x)\n",
    "\n",
    "# In kết quả theo thứ tự tăng dần của key\n",
    "for k in sorted(mod_result):\n",
    "    print(f\"{k:02}: {mod_result[k]}\")\n",
    "\n",
    "mod_2 = mod_result.keys()\n"
   ]
  },
  {
   "cell_type": "code",
   "execution_count": 2,
   "id": "2789427b",
   "metadata": {},
   "outputs": [
    {
     "name": "stdout",
     "output_type": "stream",
     "text": [
      "(0, 0): [(1, 16), (56, 61), (41, 76), (36, 81), (21, 96)]\n",
      "(0, 25): [(1, 41), (61, 81), (21, 21)]\n"
     ]
    }
   ],
   "source": [
    "from itertools import combinations\n",
    "\n",
    "mod_values = list(mod_result.keys())\n",
    "\n",
    "result_pairs = {}\n",
    "\n",
    "for p1 in mod_values:\n",
    "    for p2 in mod_values:\n",
    "        if p1 > p2:\n",
    "            continue  # bỏ các cặp (p2, p1) nếu đã có (p1, p2)\n",
    "        lhs = (p1 + p2) % 100\n",
    "        for p3 in mod_values:\n",
    "            for p4 in mod_values:\n",
    "                if p3 > p4:\n",
    "                    continue\n",
    "                rhs = (p3 + p4 + 17) % 100\n",
    "                if lhs == rhs:\n",
    "                    key = (p3, p4)\n",
    "                    value = (p1, p2)\n",
    "                    if key not in result_pairs:\n",
    "                        result_pairs[key] = []\n",
    "                    result_pairs[key].append(value)\n",
    "\n",
    "# ✅ In kết quả\n",
    "for k, v in result_pairs.items():\n",
    "    print(f\"{k}: {v}\")"
   ]
  },
  {
   "cell_type": "code",
   "execution_count": 3,
   "id": "1c67f8b7",
   "metadata": {},
   "outputs": [
    {
     "name": "stdout",
     "output_type": "stream",
     "text": [
      "Found: 1, 2, 0, 0\n",
      "Found: 651, 264, 530, 570\n",
      "Found: 651, 264, 570, 530\n"
     ]
    }
   ],
   "source": [
    "from collections import defaultdict\n",
    "\n",
    "MAX = 20000\n",
    "MAXMOD = MAX // 100\n",
    "\n",
    "for k, v in result_pairs.items():\n",
    "    x3 = mod_result[k[0]]\n",
    "    x4 = mod_result[k[1]]\n",
    "    \n",
    "    total_17 = defaultdict(list)\n",
    "\n",
    "    # Tính tất cả các p3, p4 ứng với key (k)\n",
    "    for temp3 in range(MAXMOD):\n",
    "        for mod_p3 in x3:\n",
    "            p3 = temp3 * 100 + mod_p3\n",
    "            p3_4 = p3 ** 4\n",
    "\n",
    "            for temp4 in range(MAXMOD):\n",
    "                for mod_p4 in x4:\n",
    "                    p4 = temp4 * 100 + mod_p4\n",
    "                    total = p3_4 + p4 ** 4\n",
    "                    total_17[total].append((p3, p4))\n",
    "\n",
    "    # Với mỗi value (p1, p2) của key này, tính từng total_non17\n",
    "    for val in v:\n",
    "        x1 = mod_result[val[0]]\n",
    "        x2 = mod_result[val[1]]\n",
    "        \n",
    "        for temp1 in range(MAXMOD):\n",
    "            for mod_p1 in x1:\n",
    "                p1 = temp1 * 100 + mod_p1\n",
    "                p1_4 = p1 ** 4\n",
    "\n",
    "                for temp2 in range(MAXMOD):\n",
    "                    for mod_p2 in x2:\n",
    "                        p2 = temp2 * 100 + mod_p2\n",
    "                        total = p1_4 + p2 ** 4\n",
    "                        total_non17 = total - 17\n",
    "                        if total_non17 in total_17:\n",
    "                            for p3, p4 in total_17[total_non17]:\n",
    "                                print(f\"Found: {p1}, {p2}, {p3}, {p4}\")\n",
    "\n",
    "    # Dọn bộ nhớ sau mỗi key\n",
    "    del total_17\n"
   ]
  },
  {
   "cell_type": "code",
   "execution_count": 4,
   "id": "ec29dc4a",
   "metadata": {},
   "outputs": [
    {
     "name": "stdout",
     "output_type": "stream",
     "text": [
      "b'uiuctf{D1oPh4nTine__Destr0yer__}'\n"
     ]
    }
   ],
   "source": [
    "from Crypto.Cipher import AES\n",
    "a = 530\n",
    "b = 570\n",
    "c = 264\n",
    "d = 651\n",
    "\n",
    "key = f\"{a*b*c*d}\".zfill(16).encode()\n",
    "cipher = AES.new(key, AES.MODE_ECB)\n",
    "\n",
    "ciphertext = bytes.fromhex(\"41593455378fed8c3bd344827a193bde7ec2044a3f7a3ca6fb77448e9de55155\")\n",
    "\n",
    "decrypted = cipher.decrypt(ciphertext) \n",
    "print(decrypted)"
   ]
  }
 ],
 "metadata": {
  "kernelspec": {
   "display_name": "CTF",
   "language": "python",
   "name": "python3"
  },
  "language_info": {
   "codemirror_mode": {
    "name": "ipython",
    "version": 3
   },
   "file_extension": ".py",
   "mimetype": "text/x-python",
   "name": "python",
   "nbconvert_exporter": "python",
   "pygments_lexer": "ipython3",
   "version": "3.11.2"
  }
 },
 "nbformat": 4,
 "nbformat_minor": 5
}
