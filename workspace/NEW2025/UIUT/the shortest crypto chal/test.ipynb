{
 "cells": [
  {
   "cell_type": "code",
   "execution_count": 13,
   "id": "f1d96cd2",
   "metadata": {},
   "outputs": [
    {
     "name": "stdout",
     "output_type": "stream",
     "text": [
      "00: [0, 10, 20, 30, 40, 50, 60, 70, 80, 90, 100]\n",
      "01: [1, 7, 43, 49, 51, 57, 93, 99]\n",
      "16: [2, 14, 36, 48, 52, 64, 86, 98]\n",
      "21: [17, 19, 31, 33, 67, 69, 81, 83]\n",
      "25: [5, 15, 25, 35, 45, 55, 65, 75, 85, 95]\n",
      "36: [12, 16, 34, 38, 62, 66, 84, 88]\n",
      "41: [11, 23, 27, 39, 61, 73, 77, 89]\n",
      "56: [4, 22, 28, 46, 54, 72, 78, 96]\n",
      "61: [9, 13, 37, 41, 59, 63, 87, 91]\n",
      "76: [18, 24, 26, 32, 68, 74, 76, 82]\n",
      "81: [3, 21, 29, 47, 53, 71, 79, 97]\n",
      "96: [6, 8, 42, 44, 56, 58, 92, 94]\n"
     ]
    }
   ],
   "source": [
    "from collections import defaultdict\n",
    "\n",
    "mod_result = defaultdict(list)\n",
    "\n",
    "for x in range(0, 101):\n",
    "    val = pow(x, 4, 100)\n",
    "    mod_result[val].append(x)\n",
    "\n",
    "# In kết quả theo thứ tự tăng dần của key\n",
    "for k in sorted(mod_result):\n",
    "    print(f\"{k:02}: {mod_result[k]}\")\n",
    "\n",
    "mod_2 = mod_result.keys()\n"
   ]
  },
  {
   "cell_type": "code",
   "execution_count": 14,
   "id": "2789427b",
   "metadata": {},
   "outputs": [
    {
     "name": "stdout",
     "output_type": "stream",
     "text": [
      "(1, 41) == (0, 25) + 17 mod 100\n",
      "(81, 61) == (0, 25) + 17 mod 100\n"
     ]
    }
   ],
   "source": [
    "from itertools import combinations\n",
    "\n",
    "mod_values = list(mod_result.keys())\n",
    "\n",
    "for p1, p2 in combinations(mod_values, 2):\n",
    "    for p3, p4 in combinations(mod_values, 2):\n",
    "        lhs = (p1 + p2) % 100\n",
    "        rhs = (p3 + p4 + 17) % 100\n",
    "        if lhs == rhs:\n",
    "            print(f\"({p1}, {p2}) == ({p3}, {p4}) + 17 mod 100\")"
   ]
  },
  {
   "cell_type": "code",
   "execution_count": 16,
   "id": "069c4161",
   "metadata": {},
   "outputs": [
    {
     "name": "stdout",
     "output_type": "stream",
     "text": [
      "Checked 1249, 19989, 395\n",
      "Checked 2499, 19989, 785\n",
      "Checked 3749, 19989, 1175\n",
      "Checked 4999, 19989, 1565\n",
      "Checked 6249, 19989, 1955\n",
      "Checked 7499, 19989, 2345\n",
      "Checked 8749, 19989, 2735\n",
      "Checked 9999, 19989, 3125\n",
      "Checked 11249, 19989, 3515\n",
      "Checked 12499, 19989, 3905\n",
      "Checked 13749, 19989, 4295\n",
      "Checked 14999, 19989, 4685\n",
      "Checked 16249, 19989, 5075\n",
      "Checked 17499, 19989, 5465\n",
      "Checked 18749, 19989, 5855\n",
      "Checked 19999, 19989, 6245\n",
      "Checked 1249, 19989, 6645\n",
      "Checked 2499, 19989, 7035\n",
      "Checked 3749, 19989, 7425\n",
      "Checked 4999, 19989, 7815\n",
      "Checked 6249, 19989, 8205\n",
      "Checked 7499, 19989, 8595\n",
      "Checked 8749, 19989, 8985\n",
      "Checked 9999, 19989, 9375\n",
      "Checked 11249, 19989, 9765\n",
      "Checked 12499, 19989, 10155\n",
      "Checked 13749, 19989, 10545\n",
      "Checked 14999, 19989, 10935\n",
      "Checked 16249, 19989, 11325\n",
      "Checked 17499, 19989, 11715\n",
      "Checked 18749, 19989, 12105\n",
      "Checked 19999, 19989, 12495\n",
      "Checked 1249, 19989, 12895\n",
      "Checked 2499, 19989, 13285\n",
      "Checked 3749, 19989, 13675\n",
      "Checked 4999, 19989, 14065\n",
      "Checked 6249, 19989, 14455\n",
      "Checked 7499, 19989, 14845\n",
      "Checked 8749, 19989, 15235\n",
      "Checked 9999, 19989, 15625\n",
      "Checked 11249, 19989, 16015\n",
      "Checked 12499, 19989, 16405\n",
      "Checked 13749, 19989, 16795\n",
      "Checked 14999, 19989, 17185\n",
      "Checked 16249, 19989, 17575\n",
      "Checked 17499, 19989, 17965\n",
      "Checked 18749, 19989, 18355\n",
      "Checked 19999, 19989, 18745\n",
      "Checked 1249, 19989, 19145\n",
      "Checked 2499, 19989, 19535\n",
      "Checked 3749, 19989, 19925\n"
     ]
    }
   ],
   "source": [
    "import gmpy2\n",
    "import gc\n",
    "\n",
    "# Giả sử mod_result đã có\n",
    "mod_01 = mod_result[1]\n",
    "mod_41 = mod_result[41]\n",
    "\n",
    "MAX = 20000\n",
    "MAXMOD = MAX // 100 \n",
    "dem = 0\n",
    "\n",
    "with open(\"output.txt\", \"a\") as f:\n",
    "    for idx_p3, p3 in enumerate(range(5, MAX+1, 10)):\n",
    "\n",
    "        p3_4 = p3**4 \n",
    "\n",
    "        for x in range(MAXMOD):\n",
    "            for mod_p1 in mod_01:\n",
    "                p1 = x * 100 + mod_p1\n",
    "                p1_4 = p1**4\n",
    "\n",
    "                for y in range(MAXMOD):\n",
    "                    for mod_p2 in mod_41:\n",
    "                        p2 = y * 100 + mod_p2\n",
    "                        p2_4 = p2**4\n",
    "\n",
    "                        temp = p1_4 + p2_4 - p3_4 - 17\n",
    "                        if temp >= 0:\n",
    "                            root4, ok = gmpy2.iroot(temp, 4)\n",
    "                            if root4**4 == temp and ok:\n",
    "                                f.write(f\"{p1}, {p2}, {p3}, {int(root4)}\\n\")\n",
    "                                print(f\"Found: {p1}, {p2}, {p3}, {int(root4)}\")\n",
    "                        dem += 1\n",
    "                        if dem % 100_000_000 == 0:\n",
    "                            print(f\"Checked {p1}, {p2}, {p3}\")\n",
    "                \n",
    "                del p2_4\n",
    "            del p1_4\n",
    "\n",
    "        # 🧹 Giải phóng rác mỗi 100 bước\n",
    "        if idx_p3 % 100 == 0:\n",
    "            gc.collect()\n"
   ]
  }
 ],
 "metadata": {
  "kernelspec": {
   "display_name": "CTF",
   "language": "python",
   "name": "python3"
  },
  "language_info": {
   "codemirror_mode": {
    "name": "ipython",
    "version": 3
   },
   "file_extension": ".py",
   "mimetype": "text/x-python",
   "name": "python",
   "nbconvert_exporter": "python",
   "pygments_lexer": "ipython3",
   "version": "3.11.2"
  }
 },
 "nbformat": 4,
 "nbformat_minor": 5
}
