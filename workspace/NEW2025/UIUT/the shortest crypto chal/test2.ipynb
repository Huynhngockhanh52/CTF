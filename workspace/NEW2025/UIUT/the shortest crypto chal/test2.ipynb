{
 "cells": [
  {
   "cell_type": "code",
   "execution_count": 1,
   "id": "f1d96cd2",
   "metadata": {},
   "outputs": [
    {
     "name": "stdout",
     "output_type": "stream",
     "text": [
      "00: [0, 10, 20, 30, 40, 50, 60, 70, 80, 90, 100]\n",
      "01: [1, 7, 43, 49, 51, 57, 93, 99]\n",
      "16: [2, 14, 36, 48, 52, 64, 86, 98]\n",
      "21: [17, 19, 31, 33, 67, 69, 81, 83]\n",
      "25: [5, 15, 25, 35, 45, 55, 65, 75, 85, 95]\n",
      "36: [12, 16, 34, 38, 62, 66, 84, 88]\n",
      "41: [11, 23, 27, 39, 61, 73, 77, 89]\n",
      "56: [4, 22, 28, 46, 54, 72, 78, 96]\n",
      "61: [9, 13, 37, 41, 59, 63, 87, 91]\n",
      "76: [18, 24, 26, 32, 68, 74, 76, 82]\n",
      "81: [3, 21, 29, 47, 53, 71, 79, 97]\n",
      "96: [6, 8, 42, 44, 56, 58, 92, 94]\n"
     ]
    }
   ],
   "source": [
    "from collections import defaultdict\n",
    "\n",
    "mod_result = defaultdict(list)\n",
    "\n",
    "for x in range(0, 101):\n",
    "    val = pow(x, 4, 100)\n",
    "    mod_result[val].append(x)\n",
    "\n",
    "# In kết quả theo thứ tự tăng dần của key\n",
    "for k in sorted(mod_result):\n",
    "    print(f\"{k:02}: {mod_result[k]}\")\n",
    "\n",
    "mod_2 = mod_result.keys()\n"
   ]
  },
  {
   "cell_type": "code",
   "execution_count": 2,
   "id": "2789427b",
   "metadata": {},
   "outputs": [
    {
     "name": "stdout",
     "output_type": "stream",
     "text": [
      "(1, 41) == (0, 25) + 17 mod 100\n",
      "(81, 61) == (0, 25) + 17 mod 100\n"
     ]
    }
   ],
   "source": [
    "from itertools import combinations\n",
    "\n",
    "mod_values = list(mod_result.keys())\n",
    "\n",
    "for p1, p2 in combinations(mod_values, 2):\n",
    "    for p3, p4 in combinations(mod_values, 2):\n",
    "        lhs = (p1 + p2) % 100\n",
    "        rhs = (p3 + p4 + 17) % 100\n",
    "        if lhs == rhs:\n",
    "            print(f\"({p1}, {p2}) == ({p3}, {p4}) + 17 mod 100\")"
   ]
  },
  {
   "cell_type": "code",
   "execution_count": 3,
   "id": "069c4161",
   "metadata": {},
   "outputs": [
    {
     "ename": "KeyboardInterrupt",
     "evalue": "",
     "output_type": "error",
     "traceback": [
      "\u001b[1;31m---------------------------------------------------------------------------\u001b[0m",
      "\u001b[1;31mKeyboardInterrupt\u001b[0m                         Traceback (most recent call last)",
      "Cell \u001b[1;32mIn[3], line 43\u001b[0m\n\u001b[0;32m     41\u001b[0m \u001b[38;5;28;01mif\u001b[39;00m temp \u001b[38;5;241m>\u001b[39m\u001b[38;5;241m=\u001b[39m \u001b[38;5;241m0\u001b[39m:\n\u001b[0;32m     42\u001b[0m     root4 \u001b[38;5;241m=\u001b[39m \u001b[38;5;28mround\u001b[39m(gmpy2\u001b[38;5;241m.\u001b[39msqrt(gmpy2\u001b[38;5;241m.\u001b[39msqrt(temp)))\n\u001b[1;32m---> 43\u001b[0m     \u001b[38;5;28;01mif\u001b[39;00m \u001b[43mfourth_power\u001b[49m\u001b[43m(\u001b[49m\u001b[43mroot4\u001b[49m\u001b[43m)\u001b[49m \u001b[38;5;241m==\u001b[39m temp:\n\u001b[0;32m     44\u001b[0m         \u001b[38;5;28mprint\u001b[39m(\u001b[38;5;124mf\u001b[39m\u001b[38;5;124m\"\u001b[39m\u001b[38;5;124m✅ Found: p1=\u001b[39m\u001b[38;5;132;01m{\u001b[39;00mp1\u001b[38;5;132;01m}\u001b[39;00m\u001b[38;5;124m, p2=\u001b[39m\u001b[38;5;132;01m{\u001b[39;00mp2\u001b[38;5;132;01m}\u001b[39;00m\u001b[38;5;124m, p3=\u001b[39m\u001b[38;5;132;01m{\u001b[39;00mp3\u001b[38;5;132;01m}\u001b[39;00m\u001b[38;5;124m, p4=\u001b[39m\u001b[38;5;132;01m{\u001b[39;00mroot4\u001b[38;5;132;01m}\u001b[39;00m\u001b[38;5;124m\"\u001b[39m)\n\u001b[0;32m     46\u001b[0m \u001b[38;5;66;03m# Đếm kiểm tra\u001b[39;00m\n",
      "Cell \u001b[1;32mIn[3], line 17\u001b[0m, in \u001b[0;36mfourth_power\u001b[1;34m(x)\u001b[0m\n\u001b[0;32m     14\u001b[0m \u001b[38;5;66;03m# Precompute lũy thừa bậc 4 của tất cả số trong khoảng để tiết kiệm thời gian\u001b[39;00m\n\u001b[0;32m     15\u001b[0m power4_cache \u001b[38;5;241m=\u001b[39m {}\n\u001b[1;32m---> 17\u001b[0m \u001b[38;5;28;01mdef\u001b[39;00m \u001b[38;5;21mfourth_power\u001b[39m(x):\n\u001b[0;32m     18\u001b[0m     \u001b[38;5;28;01mif\u001b[39;00m x \u001b[38;5;129;01mnot\u001b[39;00m \u001b[38;5;129;01min\u001b[39;00m power4_cache:\n\u001b[0;32m     19\u001b[0m         power4_cache[x] \u001b[38;5;241m=\u001b[39m x\u001b[38;5;241m*\u001b[39m\u001b[38;5;241m*\u001b[39m\u001b[38;5;241m4\u001b[39m\n",
      "\u001b[1;31mKeyboardInterrupt\u001b[0m: "
     ]
    }
   ],
   "source": [
    "import gmpy2\n",
    "\n",
    "# Giả sử bạn đã có dict chứa các số có tận cùng là 01, 41 v.v.\n",
    "# Ví dụ:\n",
    "# mod_result = {1: [101, 201, ...], 41: [141, 241, ...]}\n",
    "mod_01 = mod_result[1]\n",
    "mod_41 = mod_result[41]\n",
    "\n",
    "MAX = 20000\n",
    "MAXMOD = MAX // 100\n",
    "\n",
    "dem = 0\n",
    "\n",
    "# Precompute lũy thừa bậc 4 của tất cả số trong khoảng để tiết kiệm thời gian\n",
    "power4_cache = {}\n",
    "\n",
    "def fourth_power(x):\n",
    "    if x not in power4_cache:\n",
    "        power4_cache[x] = x**4\n",
    "    return power4_cache[x]\n",
    "\n",
    "# Vòng duyệt qua p3\n",
    "for p3 in range(5, 1501, 10):\n",
    "    p3_4 = fourth_power(p3)\n",
    "\n",
    "    # Duyệt p1 có tận cùng thuộc mod_01\n",
    "    for x in range(0, MAXMOD):\n",
    "        for mod_p1 in mod_01:\n",
    "            p1 = x * 100 + mod_p1\n",
    "            p1_4 = fourth_power(p1)\n",
    "\n",
    "            # Duyệt p2 có tận cùng thuộc mod_41\n",
    "            for y in range(0, MAXMOD):\n",
    "                for mod_p2 in mod_41:\n",
    "                    p2 = y * 100 + mod_p2\n",
    "                    p2_4 = fourth_power(p2)\n",
    "\n",
    "                    # Tính hiệu\n",
    "                    temp = p1_4 + p2_4 - p3_4 - 17\n",
    "\n",
    "                    if temp >= 0:\n",
    "                        root4 = round(gmpy2.sqrt(gmpy2.sqrt(temp)))\n",
    "                        if fourth_power(root4) == temp:\n",
    "                            print(f\"✅ Found: p1={p1}, p2={p2}, p3={p3}, p4={root4}\")\n",
    "                    \n",
    "                    # Đếm kiểm tra\n",
    "                    dem += 1\n",
    "                    if dem % 100_000_000 == 0:\n",
    "                        print(f\"⏳ Checked {dem:,} combinations. Current: p1={p1}, p2={p2}, p3={p3}\")\n"
   ]
  }
 ],
 "metadata": {
  "kernelspec": {
   "display_name": "CTF",
   "language": "python",
   "name": "python3"
  },
  "language_info": {
   "codemirror_mode": {
    "name": "ipython",
    "version": 3
   },
   "file_extension": ".py",
   "mimetype": "text/x-python",
   "name": "python",
   "nbconvert_exporter": "python",
   "pygments_lexer": "ipython3",
   "version": "3.11.2"
  }
 },
 "nbformat": 4,
 "nbformat_minor": 5
}
