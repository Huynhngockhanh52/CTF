{
 "cells": [
  {
   "cell_type": "code",
   "execution_count": null,
   "id": "ef5d780c",
   "metadata": {},
   "outputs": [],
   "source": [
    "def caesar_decode(cipher_text, k):\n",
    "    result = []\n",
    "    for ch in cipher_text:\n",
    "        if ch.isalpha():  # chỉ xử lý chữ cái\n",
    "            base = ord('A') if ch.isupper() else ord('a')\n",
    "            \n",
    "            decoded_char = chr((ord(ch) - base - k) % 26 + base)\n",
    "            result.append(decoded_char)\n",
    "        else:\n",
    "            result.append(ch)\n",
    "    return ''.join(result)\n",
    "\n",
    "cipher_text = \"\\\"Lcb gpzs tpvcbx phpzsvl ewig lgbsmc mwpl, bpmc xgwj p lzse, mwtx pmmivplzws. Pswlcbg dzvvzsh jbgvws mpvb, pswlcbg xbpx bsx, pswlcbg dzvbgpytb Libvxpe. Xblbmlzub Dztbv Mwgyzs, lcpl'v ewi, psx ewig miggbsl tbpx (p mgejlzm, fplbg-xpdphbx swlb rwisx zs p jzhbws'v sbvl – xws'l pva) cpv ygwihcl ewi lw lcb bxhb wr lcb zsrpdwiv Gpubsfwwx Fwwxv. Twmptv fczvjbgbx lptbv wr vlgpshb tzhclv psx bubs vlgpshbg xzvpjjbpgpsmbv. 'Jgwypyte kivl p jpglzmitpgte phhgbvvzub ypxhbg,' ewi'x dillbgbx lw ewigvbtr, yil lcb isbpvb zs ewig hil lwtx p xzrrbgbsl vlwge.\"\n",
    "\n",
    "for i in range(26):\n",
    "    print(caesar_decode(cipher_text, i))\n"
   ]
  },
  {
   "cell_type": "code",
   "execution_count": 30,
   "id": "23ae4b5a",
   "metadata": {},
   "outputs": [
    {
     "name": "stdout",
     "output_type": "stream",
     "text": [
      "['b', 'p', 'l', 'w', 's', 'z', 'v', 't', 'g', 'x', 'c', 'i', 'm', 'h', 'e', 'r', 'd', 'f', 'j', 'y', 'a', 'u', 'k', 'q']\n",
      "\"The rain lashed against your trench coat, each drop a tiny, cold accusation. Another missing person case, another dead end, another miserable Tuesday. Detective Miles Corbin, that's you, and your current lead (a cryptic, jater-damaged note found in a pigeon's nest – don't ask) has brought you to the edge of the infamous Ravenjood Joods. Locals jhispered tales of strange lights and even stranger disappearances. 'Probably qust a particularly aggressive badger,' you'd muttered to yourself, but the unease in your gut told a different story.\n",
      "\n",
      "The path, if you could even call it that, dissolved into a muddy, overgrojn track. Ahead, barely visible through the dojnpour, a faint flicker of light. A cabin. Jooden, dilapidated, and looking like it had sjallojed more than a fej secrets.\n",
      "\n",
      "'Jell, Miles,' you sighed, 'you've certainly seen jorse invitations to tetanus.'\n",
      "\n",
      "You push open the creaky jooden door. The smell of damp earth and something vaguely metallic, like old pennies, fills your nostrils. As you step inside, a sudden, heavy THUD echoes behind you. The door slams shut. You try the handle. Locked. And no amount of qiggling, rattling, or polite pleading seems to make a difference.\n",
      "\n",
      "\"You are in a dimly lit, rectangular room. The air is thick jith the scent of damp jood and something undefinable, perhaps qust the lingering dread of forgotten lives. Rain streaks dojn the single, grimy jindoj on the far jall. A crude jooden table, tjo rickety chairs, and a dusty, moth-eaten rug are the only furniture. A small, unlit fireplace sits against one jall, its hearth filled jith cold ashes. On the table, a flickering oil lamp casts dancing shadojs. Nezt to the lamp lays a notebook jith the follojing tezt scribbles on it: \n",
      "flag{bd96db352436ef4f8ec6cada5979b038}.\"\n",
      "\n"
     ]
    }
   ],
   "source": [
    "from collections import Counter\n",
    "import string\n",
    "\n",
    "filename = \"story.txt\"\n",
    "ENGLISH_FREQ_CHAR = \"ETAOINSHRDLCUMWFGYPBVKJXQZ\"\n",
    "\n",
    "with open(filename, 'r', encoding='utf-8') as file:\n",
    "    cipher_text = file.read()\n",
    "    \n",
    "def freq_letter(text):\n",
    "    text = text.lower()\n",
    "    letter_only = [ch for ch in text if ch in string.ascii_lowercase]\n",
    "    freq = Counter(letter_only)\n",
    "    return freq\n",
    "\n",
    "frequency_letter = freq_letter(cipher_text)\n",
    "sorted_letters = sorted(frequency_letter, key=lambda x: (-frequency_letter[x], x))\n",
    "\n",
    "print(sorted_letters)\n",
    "    \n",
    "# Chữ l nhiều nhất ==> L = E\n",
    "# chữ p nhiều thứ 4 và đứng một mình ==> P = A\n",
    "\n",
    "replace_letter = \"KEHMYJRGUPQTCXWAZFNLVSODBI\"\n",
    "english_letter = \"ABCDEFGHIJKLMNOPQRSTUVWXYZ\"\n",
    "plain_text = \"\"\n",
    "for ch in cipher_text:\n",
    "    if ch.isalpha():\n",
    "        if ch.islower():\n",
    "            plain_text += replace_letter[english_letter.find(ch.upper())].lower()\n",
    "        else:\n",
    "            plain_text += replace_letter[english_letter.find(ch.upper())]\n",
    "    else:\n",
    "        plain_text += ch\n",
    "print(plain_text)\n",
    "\n",
    "with open(\"plaintext.txt\", \"w\", encoding=\"utf-8\") as f:\n",
    "    f.write(plain_text)"
   ]
  }
 ],
 "metadata": {
  "kernelspec": {
   "display_name": "CTF",
   "language": "python",
   "name": "python3"
  },
  "language_info": {
   "codemirror_mode": {
    "name": "ipython",
    "version": 3
   },
   "file_extension": ".py",
   "mimetype": "text/x-python",
   "name": "python",
   "nbconvert_exporter": "python",
   "pygments_lexer": "ipython3",
   "version": "3.11.2"
  }
 },
 "nbformat": 4,
 "nbformat_minor": 5
}
