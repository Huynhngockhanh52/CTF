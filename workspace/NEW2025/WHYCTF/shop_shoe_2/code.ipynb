{
 "cells": [
  {
   "cell_type": "code",
   "execution_count": 41,
   "id": "e0da8df9",
   "metadata": {},
   "outputs": [
    {
     "name": "stdout",
     "output_type": "stream",
     "text": [
      "Key (base64): U3qsr_mcAz6AuYrmjeWKOg==\n",
      "Cipher: NYGeAk7uIogWoYYvYWpluUBTFjTzBGY9MPUP4UoDuKjEOuXjB8Y4NY4T90eG | Giải mã lại: page=home\n",
      "Cipher: 1auP-YiKovgyxKZE7EAM77dfPdoMqq1yaQH85r3RGHtFGtZCGzV7ijS07NnW | Giải mã lại: page=home\n",
      "Cipher: KNTmRItZvWUS21dUeu-fo0VP_CVl71Mi8Ky_bpndf8ofTGpP78eZ8jn7r0t7 | Giải mã lại: page=home\n",
      "Cipher: qUCA_K5S2M-rPfRyJrSruWXDc__X2x-aEYDgUYm5momiKHjLrVYsqkVYmkHC | Giải mã lại: page=home\n"
     ]
    }
   ],
   "source": [
    "import base64\n",
    "import os\n",
    "from cryptography.hazmat.primitives.ciphers.aead import AESGCM\n",
    "\n",
    "# Tạo key bí mật (16 bytes = 128-bit)\n",
    "# Nếu muốn giữ cố định key để giải mã, lưu key này ra file hoặc DB\n",
    "key = AESGCM.generate_key(bit_length=128)\n",
    "aesgcm = AESGCM(key)\n",
    "\n",
    "def encrypt_urlsafe(plaintext: str) -> str:\n",
    "    nonce = os.urandom(12)  # 96-bit IV\n",
    "    salt = os.urandom(8)    # Thêm salt để khác biệt mỗi lần\n",
    "    data = salt + plaintext.encode()\n",
    "    ciphertext = aesgcm.encrypt(nonce, data, None)\n",
    "    token_bytes = nonce + ciphertext\n",
    "    return base64.urlsafe_b64encode(token_bytes).decode()\n",
    "\n",
    "def decrypt_urlsafe(token: str) -> str:\n",
    "    token_bytes = base64.urlsafe_b64decode(token.encode())\n",
    "    nonce = token_bytes[:12]\n",
    "    ciphertext = token_bytes[12:]\n",
    "    data = aesgcm.decrypt(nonce, ciphertext, None)\n",
    "    salt = data[:8]\n",
    "    return data[8:].decode()\n",
    "\n",
    "# Ví dụ chạy\n",
    "print(\"Key (base64):\", base64.urlsafe_b64encode(key).decode())\n",
    "\n",
    "for _ in range(4):\n",
    "    cipher = encrypt_urlsafe(\"page=home\")\n",
    "    print(\"Cipher:\", cipher, \"| Giải mã lại:\", decrypt_urlsafe(cipher))\n"
   ]
  }
 ],
 "metadata": {
  "kernelspec": {
   "display_name": "CTF",
   "language": "python",
   "name": "python3"
  },
  "language_info": {
   "codemirror_mode": {
    "name": "ipython",
    "version": 3
   },
   "file_extension": ".py",
   "mimetype": "text/x-python",
   "name": "python",
   "nbconvert_exporter": "python",
   "pygments_lexer": "ipython3",
   "version": "3.11.2"
  }
 },
 "nbformat": 4,
 "nbformat_minor": 5
}
