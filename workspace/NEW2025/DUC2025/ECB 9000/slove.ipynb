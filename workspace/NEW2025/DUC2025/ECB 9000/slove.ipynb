{
 "cells": [
  {
   "cell_type": "markdown",
   "id": "af416309",
   "metadata": {},
   "source": [
    "#### **Cách giải bài này:**\n",
    "Gọi `1234567890123456` là mã mà ta cần tìm, x là vị trí cần brute force. Ta chỉ cần shift khoảng trắng từ 1 đến n, tương ứng với từng ô. Ví dụ:\n",
    "- 1234567890123456 = IWN9QY/5ELyMpZWEgi7eZw\n",
    "- _______________1 234567890123456_ = Jz20oOJZdNXjm/4R/Kr87Q TWmcY4RdKUqKexWi4MPTgQ\n",
    "- Từ đây, brute force ô cuối để biết được chữ cái đầu: _______________x 1234567890123456 = Jz20oOJZdNXjm/4R/Kr87Q IWN9QY/5ELyMpZWEgi7eZw ==> Chữ cái đầu là D\n",
    "- Tương tự, ta cứ dịch đi 2 ô để tìm:\n",
    "- ______________12 34567890123456__ = RvUMrggFkiwfRTsC0HdhyA 9g0TsALgguyz0QgMLeOxJA\n",
    "- Suy ra, chữ tiếp theo là: O\n",
    "- ..."
   ]
  },
  {
   "cell_type": "code",
   "execution_count": null,
   "id": "b5ccc91e",
   "metadata": {},
   "outputs": [],
   "source": []
  }
 ],
 "metadata": {
  "language_info": {
   "name": "python"
  }
 },
 "nbformat": 4,
 "nbformat_minor": 5
}
