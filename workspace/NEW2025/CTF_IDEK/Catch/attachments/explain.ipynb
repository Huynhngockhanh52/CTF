{
 "cells": [
  {
   "cell_type": "code",
   "execution_count": null,
   "id": "7734738b",
   "metadata": {},
   "outputs": [],
   "source": [
    "from Crypto.Random.random import randint, choice\n",
    "import os\n",
    "\n",
    "# In a realm where curiosity roams free, our fearless cat sets out on an epic journey.\n",
    "# Even the cleverest feline must respect the boundaries of its world—this magical limit holds all wonders within.\n",
    "limit = 0xe5db6a6d765b1ba6e727aa7a87a792c49bb9ddeb2bad999f5ea04f047255d5a72e193a7d58aa8ef619b0262de6d25651085842fd9c385fa4f1032c305f44b8a4f92b16c8115d0595cebfccc1c655ca20db597ff1f01e0db70b9073fbaa1ae5e489484c7a45c215ea02db3c77f1865e1e8597cb0b0af3241cd8214bd5b5c1491f\n",
    "# 161411139670770968531535247674401613102839567845219955087163205911090766193199881375203884967436075676810510094624490873765685331101041092890302638149771122520786415161307461143451707449979558081493648727968357526510996395524371672181873315066779647452231037655908300322299261984462076469824977852124652194079f"
   ]
  },
  {
   "cell_type": "markdown",
   "id": "f8f6e16d",
   "metadata": {},
   "source": [
    "##### ***1. walking(x, y, part)***\n",
    "- Biến đổi tuyến tính, `part` được chia thành 04 phần, mỗi phần có 2 byte (16bit)\n",
    "- `epart` là danh sách 4 số `[a, b, c, d]` từ `part`\n",
    "- Chuyển đổi `x`, `y` thành `xx`, `yy` theo công thức\n",
    "$$xx = a.x+b.y$$\n",
    "$$yy = c.x+d.y$$"
   ]
  },
  {
   "cell_type": "code",
   "execution_count": null,
   "id": "6c6364f0",
   "metadata": {},
   "outputs": [],
   "source": [
    "# Hàm biến đổi x, y thành xx, yy theo tuyến tính\n",
    "def walking(x, y, part):\n",
    "    # Each step is guided by a fragment of the cat's own secret mind.\n",
    "    epart = [int.from_bytes(part[i:i+2], \"big\") for i in range(0, len(part), 2)]\n",
    "    xx = epart[0] * x + epart[1] * y\n",
    "    yy = epart[2] * x + epart[3] * y\n",
    "    return xx, yy"
   ]
  },
  {
   "cell_type": "markdown",
   "id": "e0e47281",
   "metadata": {},
   "source": [
    "#### **2. Lớp `Cat`**\n",
    "\n",
    "##### ***2.1. `__init__(self)`***\n",
    "- Khởi tạo một con mèo với vị trí ban đầu là số nguyên 256 bit ngẫu nhiên, `(x, y)` là vị trí của con mèo.\n",
    "- Vòng lặp vô hạn, với `mind` là chuỗi 1000 byte ngẫu nhiên từ hệ thống, mỗi lần lặp sẽ cắt `mind` thành các đoạn nhỏ 8 byte ==> có 125 bước di chuyển. Kiểm tra tất cả các bước có khác nhau không? Mục tiêu là đảm bảo mỗi bước là duy nhất, khác nhau đôi một. \n",
    "- `self.step` lưu trữ các bước di chuyển đôi một khác nhau này.\n",
    "\n",
    "##### ***2.2. `moving(self)`***\n",
    "- Phương thức di chuyển của con mèo, tối đa 30 bước.\n",
    "- Tại mỗi bước, con mèo chọn một `part` ngẫu nhiên từ `self.step`, sau đó biến đổi vị trí `(x, y)` --> `(xx, yy)`.\n",
    "- Nếu vượt khỏi giới hạn (`limit`), thì modulo trở lại vùng hợp lệ và dừng lại.\n",
    "\n",
    "##### ***2.3. `position(self)`***\n",
    "- Lấy vị trí hiện tại của con mèo."
   ]
  },
  {
   "cell_type": "code",
   "execution_count": null,
   "id": "9269dc8d",
   "metadata": {},
   "outputs": [],
   "source": [
    "class Cat:\n",
    "    def __init__(self):\n",
    "        # The cat's starting position is born of pure randomness.\n",
    "        self.x = randint(0, 2**256)\n",
    "        self.y = randint(0, 2**256)\n",
    "        # Deep within, its mind holds a thousand mysterious fragments.\n",
    "        while True:\n",
    "            self.mind = os.urandom(1000)\n",
    "            self.step = [self.mind[i:i+8] for i in range(0, 1000, 8)]\n",
    "            if len(set(self.step)) == len(self.step):\n",
    "                break\n",
    "\n",
    "    # The epic chase begins: the cat ponders and strides toward the horizon.\n",
    "    def moving(self):\n",
    "        for _ in range(30):\n",
    "            # A moment of reflection: choose a thought from the cat's endless mind.\n",
    "            part = choice(self.step)\n",
    "            self.step.remove(part)\n",
    "            # With each heartbeat, the cat takes a cryptic step.\n",
    "            xx, yy = walking(self.x, self.y, part)\n",
    "            self.x, self.y = xx, yy\n",
    "            # When the wild spirit reaches the edge, it respects the boundary and pauses.\n",
    "            if self.x > limit or self.y > limit:\n",
    "                self.x %= limit\n",
    "                self.y %= limit\n",
    "                break\n",
    "\n",
    "    # When the cosmos beckons, the cat reveals its secret coordinates.\n",
    "    def position(self):\n",
    "        return (self.x, self.y)"
   ]
  },
  {
   "cell_type": "markdown",
   "id": "c31ce3ce",
   "metadata": {},
   "source": [
    "#### **3. Bắt đầu thử thách**\n",
    "\n",
    "- Thử thách bao gồm 20 vòng, mỗi vòng yêu cầu tìm một con mèo.\n",
    "- Khởi tạo con mèo, đưa ra vị trí con mèo lúc ban đầu. In ra tất cả các bước di chuyển của con mèo (125 bước)\n",
    "- Mèo thực hiện di chuyển (với 30 bước), sau đó in ra vị trí hiện tại của con mèo. \n",
    "- Yêu cầu: Người chơi tìm ra, dự đoán hoặc tính toán lại chính xác đường đi của mèo. Nhập một chuỗi hex, sẽ được chia lại thành từng đoạn 8 byte. \n",
    "- Nói cách khác: Người chơi cần tính toán lại 30 bước đi của con mèo."
   ]
  },
  {
   "cell_type": "code",
   "execution_count": null,
   "id": "dcffb317",
   "metadata": {},
   "outputs": [],
   "source": [
    "for round in range(20):\n",
    "    try:\n",
    "        print(f\"👉 Hunt {round+1}/20 begins!\")\n",
    "        cat = Cat()\n",
    "\n",
    "        # At the start, you and the cat share the same starlit square.\n",
    "        human_pos = cat.position()\n",
    "        print(f\"🐱✨ Co-location: {human_pos}\")\n",
    "        print(f\"🔮 Cat's hidden mind: {cat.mind.hex()}\")\n",
    "\n",
    "        # But the cat, ever playful, dashes into the unknown...\n",
    "        cat.moving()\n",
    "        print(\"😸 The chase is on!\")\n",
    "\n",
    "        print(f\"🗺️ Cat now at: {cat.position()}\")\n",
    "\n",
    "        # Your turn: recall the cat's secret path fragments to catch up.\n",
    "        mind = bytes.fromhex(input(\"🤔 Path to recall (hex): \"))\n",
    "\n",
    "        # Step by step, follow the trail the cat has laid.\n",
    "        for i in range(0, len(mind), 8):\n",
    "            part = mind[i:i+8]\n",
    "            if part not in cat.mind:\n",
    "                print(\"❌ Lost in the labyrinth of thoughts.\")\n",
    "                exit()\n",
    "            human_pos = walking(human_pos[0], human_pos[1], part)\n",
    "\n",
    "        # At last, if destiny aligns...\n",
    "        if human_pos == cat.position():\n",
    "            print(\"🎉 Reunion! You have found your feline friend! 🐾\")\n",
    "        else:\n",
    "            print(\"😿 The path eludes you... Your heart aches.\")\n",
    "            exit()\n",
    "    except Exception:\n",
    "        print(\"🙀 A puzzle too tangled for tonight. Rest well.\")\n",
    "        exit()\n",
    "\n",
    "# Triumph at last: the final cat yields the secret prize.\n",
    "print(f\"🏆 Victory! The treasure lies within: {open('flag.txt').read()}\")"
   ]
  }
 ],
 "metadata": {
  "language_info": {
   "name": "python"
  }
 },
 "nbformat": 4,
 "nbformat_minor": 5
}
