{
 "cells": [
  {
   "cell_type": "markdown",
   "metadata": {},
   "source": [
    "#### **Bước 1. Phân tích các phương thức có trong chương trinh**\n",
    "Import thư viện và khai báo các biến:"
   ]
  },
  {
   "cell_type": "code",
   "execution_count": 16,
   "metadata": {},
   "outputs": [],
   "source": [
    "import sys\n",
    "from fileinput import input\n",
    "\n",
    "lookup1 = \"\\n \\\"#()*+/1:=[]abcdefghijklmnopqrstuvwxyz\"\n",
    "lookup2 = \"ABCDEFGHIJKLMNOPQRSTabcdefghijklmnopqrst\"\n"
   ]
  },
  {
   "cell_type": "markdown",
   "metadata": {},
   "source": [
    "##### ***1.1. Quy trình***\n",
    "Chương trình này thực hiện một loại mã hóa đơn giản dựa trên sự dịch chuyển ký tự. Mỗi ký tự trong chuỗi đầu vào sẽ được mã hóa thành một ký tự khác trong chuỗi lookup2, phụ thuộc vào vị trí của ký tự đó trong lookup1 và vị trí ký tự trước đó."
   ]
  },
  {
   "cell_type": "code",
   "execution_count": 17,
   "metadata": {},
   "outputs": [],
   "source": [
    "# Chương trình này nhận input như thế này thì không chạy được\n",
    "# chars = \"\"\n",
    "\n",
    "# for line in input():\n",
    "#     chars += line\n",
    "\n",
    "# out = \"\"\n",
    "# prev = 0\n",
    "\n",
    "# for char in chars:\n",
    "#     cur = lookup1.index(char)\n",
    "#     out += lookup2[(cur - prev) % 40]\n",
    "#     prev = cur\n",
    "\n",
    "# sys.stdout.write(out)"
   ]
  },
  {
   "cell_type": "markdown",
   "metadata": {},
   "source": [
    "#### **Bước 2. Viết chương trình giải mã***\n",
    "Viết lại chương trình để thực hiện giải mã, dựa trên đoạn bản mã đã cho trong file `ciphertext`\n",
    "\n",
    "Trong bài này vì mắt xích quan trọng nhất là mã cuối của chữ cuối cùng ta không biết được. Do đó, ta sẽ thử bằng phương pháp Brute-force.\n",
    "1. Đảo ngược chuỗi (vì chương trình nên bắt đầu bằng ký tự cuối cùng), chuyển mảng dữ liệu thành các giá trị index\n",
    "2. Thực hiện một vòng lặp từ `0` đến `len(lookup1)`. Mỗi vòng lặp ta giả sử đó là index của ký tự cuối cùng trong plaintext. Sau đó, thực hiện công thức như sau:\n",
    "    - **B1.** Lặp xung quanh mảng giá trị vừa được chuyển đổi, với mỗi giá trị, thực hiện lấy kĩ tự tại index chỉ định trong `lookup1`. \n",
    "    - **B2.** Tiếp tục gán lại giá trị X:\n",
    "    $$ X = (X + a_i) \\mod 40$$\n",
    "    - **B3.** Xong một vòng thì in ra chuỗi chuyển đổi\n",
    "3. Kiểm tra chuỗi nào có nghĩa ta thử vào flag: **picoCTF{}**"
   ]
  },
  {
   "cell_type": "code",
   "execution_count": 42,
   "metadata": {},
   "outputs": [
    {
     "name": "stdout",
     "output_type": "stream",
     "text": [
      "Chuỗi với i = 0: #asciiorder\n",
      "#fortychars\n",
      "#selfinput\n",
      "#pythontwo\n",
      "\n",
      "chars = \"\"\n",
      "from fileinput import input\n",
      "for line in input():\n",
      "    chars += line\n",
      "b = 1 / 1\n",
      "\n",
      "for i in range(len(chars)):\n",
      "    if i == b * b * b:\n",
      "        print chars[i] #prints\n",
      "        b += 1 / 1\n",
      "\n"
     ]
    }
   ],
   "source": [
    "# Nhận dữ liệu đầu vào\n",
    "chars = \"\"\n",
    "lines = None\n",
    "\n",
    "with open('ciphertext', 'r') as file:\n",
    "    lines = file.readlines()\n",
    "\n",
    "for line in lines:\n",
    "    chars += str(line)\n",
    "# print(char)\n",
    "\n",
    "# Đảo ngược và chuyển chuỗi thành một mảng các index trong lookup2:\n",
    "chars = chars[::-1]\n",
    "# print(chars)\n",
    "\n",
    "num_chars = []\n",
    "for char in chars:\n",
    "    num_chars.append(lookup2.index(char))\n",
    "# print(num_chars)\n",
    "\n",
    "max_for = len(lookup1)\n",
    "for m in range(max_for):\n",
    "    X = m\n",
    "    text_decrypt = \"\"\n",
    "    for enc_i in num_chars:\n",
    "        text_decrypt += lookup1[X]\n",
    "        X = (X - enc_i) % 40\n",
    "    # # Giải mã ký tự cuối cùng\n",
    "    # text_decrypt += lookup1[X]\n",
    "\n",
    "    # Đảo ngược chuỗi lại\n",
    "    text_decrypt = text_decrypt[::-1]\n",
    "    if X == 0:\n",
    "        with open('decrypt.txt', 'w', encoding='utf-8') as file:\n",
    "            file.write(text_decrypt)\n",
    "        # print(f'Chuỗi với i = {X}: {repr(text_decrypt)}') # Chạy in ra \\n\n",
    "        print(f'Chuỗi với i = {X}: {text_decrypt}')"
   ]
  },
  {
   "cell_type": "markdown",
   "metadata": {},
   "source": [
    "***Kết quả:*** Thu được một chương trình\n",
    "```python\n",
    "#asciiorder\n",
    "#fortychars\n",
    "#selfinput\n",
    "#pythontwo\n",
    "\n",
    "chars = \"\"\n",
    "from fileinput import input\n",
    "for line in input():\n",
    "    chars += line\n",
    "b = 1 / 1\n",
    "\n",
    "for i in range(len(chars)):\n",
    "    if i == b * b * b:\n",
    "        print(chars[i])  # in ra ký tự tại chỉ số i\n",
    "        b += 1 / 1\n",
    "```\n",
    "Do đó, ta viết lại chương trình và thực thi nó:"
   ]
  },
  {
   "cell_type": "code",
   "execution_count": 46,
   "metadata": {},
   "outputs": [
    {
     "name": "stdout",
     "output_type": "stream",
     "text": [
      "adlibs\n",
      "picoCTF{adlibs}\n"
     ]
    }
   ],
   "source": [
    "chars = \"\"\n",
    "with open('decrypt.txt', 'r') as file:\n",
    "    lines = file.readlines()\n",
    "\n",
    "for line in lines:\n",
    "    chars += str(line)\n",
    "\n",
    "b = 1\n",
    "flag = \"\"\n",
    "for i in range(len(chars)):\n",
    "    if i == b * b * b:\n",
    "        print(chars[i], end=\"\")\n",
    "        flag += chars[i]\n",
    "        b += 1\n",
    "print()\n",
    "print(f\"picoCTF{{{flag}}}\")"
   ]
  }
 ],
 "metadata": {
  "kernelspec": {
   "display_name": "CTF",
   "language": "python",
   "name": "python3"
  },
  "language_info": {
   "codemirror_mode": {
    "name": "ipython",
    "version": 3
   },
   "file_extension": ".py",
   "mimetype": "text/x-python",
   "name": "python",
   "nbconvert_exporter": "python",
   "pygments_lexer": "ipython3",
   "version": "3.11.2"
  }
 },
 "nbformat": 4,
 "nbformat_minor": 2
}
