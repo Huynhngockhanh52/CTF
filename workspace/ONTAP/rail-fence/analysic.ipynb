{
 "cells": [
  {
   "cell_type": "markdown",
   "metadata": {},
   "source": [
    "#### **Bước 1. Phân tích các phương thức có trong chương trinh**\n",
    "**Bài toán:** Một loại mật mã chuyển vị là mật mã rail-fence cipher, được mô tả ở đây. Đây là một mật mã như vậy được mã hóa bằng hàng rào đường sắt có 4 đường ray. Bạn có thể giải mã nó? Tải tin nhắn tại đây. Đặt tin nhắn được giải mã ở định dạng cờ picoCTF, picoCTF{decoded_message}.\n",
    "\n",
    "**Hint:** \n",
    "- H\n"
   ]
  },
  {
   "cell_type": "markdown",
   "metadata": {},
   "source": [
    "**Phân tích**\n",
    "\n"
   ]
  },
  {
   "cell_type": "markdown",
   "metadata": {},
   "source": [
    "##### ***1.1. Đếm tấn suất ký tự trong file mã hóa***\n",
    "Viết phương thức đếm ký tự từ một file"
   ]
  },
  {
   "cell_type": "code",
   "execution_count": 6,
   "metadata": {},
   "outputs": [
    {
     "name": "stdout",
     "output_type": "stream",
     "text": [
      "Ta _7N6D8Dhlg:W3D_H3C31N__387ef sHR053F38N43DFD i33___N6\n",
      "Key k = 2: T7ae f_ 7sNH6RD085D3hFl3g8:NW433DD_FHD3 Ci3313N_____3N86\n",
      "Key k = 3: TW43aD3_ HD3_CF371DNN_ _63i8D73e8f3 Ds_HhR_0l5_3gFN3:86N\n",
      "Key k = 4: The flag is: WH3R3_D035_7H3_F3NC3_8361N_4ND_3ND_83F6D8D7\n",
      "Key k = 5: TD303518aDN33F_h l_3_83g_:8N_47W73e3_DfDN_ FNDsH63H 6iRC\n",
      "Key k = 6: T6_7338eHDa83fN_4 CD h3s3_DH1l_gNRF_D0_:7W_5 Ni333ND8F36\n",
      "Key k = 7: TNWNsN_4H_36aDD_R3_D03_8 DH85F_D373h_lCeF Ni3f3g7:1 8363\n",
      "Key k = 8: T7gC75D_F3e3:Na6W1fFD_ 3 N3D 8D_s8iN3NH__D_hH3R436_3083l\n",
      "Key k = 9: T7lH_s3D_ 8H33gNa6:C8RNiN34073WD 831e5336_D3fNDD_h__ FF_\n",
      "Key k = 10: T7l_Ne0N _i45f_HgNa6:3_ 333N3DFs3CWD 8338H3F_6_D8R71DD_h\n"
     ]
    }
   ],
   "source": [
    "def rail_fence_encrypt(text, key):\n",
    "    # Tạo danh sách chứa các hàng kích thước (len(text), key)\n",
    "    rail = [['' for _ in range(len(text))] for _ in range(key)]\n",
    "    \n",
    "    direction_down = False\n",
    "    row = 0\n",
    "    \n",
    "    for i in range(len(text)):\n",
    "        # Đặt ký tự vào hàng hiện tại\n",
    "        rail[row][i] = text[i]\n",
    "        \n",
    "        # Nếu ở hàng trên cùng hoặc dưới cùng, thay đổi hướng\n",
    "        if row == 0 or row == key - 1:\n",
    "            direction_down = not direction_down\n",
    "        \n",
    "        # Dịch chuyển lên hoặc xuống\n",
    "        row += 1 if direction_down else -1\n",
    "    \n",
    "    encrypted_text = []\n",
    "    for r in rail:\n",
    "        encrypted_text.append(''.join(r))\n",
    "    \n",
    "    return ''.join(encrypted_text)\n",
    "\n",
    "def rail_fence_decrypt(cipher, key):\n",
    "    cols = len(cipher)\n",
    "    rail = [['' for _ in range(cols)] for __ in range(key)]\n",
    "    direction_down = False\n",
    "    row = 0\n",
    "    \n",
    "    # Đánh dấu các vị trí zigzag\n",
    "    for i in range(cols):\n",
    "        rail[row][i] = '*'\n",
    "        if row == 0 or row == key - 1:\n",
    "            direction_down = not direction_down\n",
    "        row += 1 if direction_down else -1\n",
    "    \n",
    "    # Điền các ký tự từ cipher vào các vị trí đã đánh dấu\n",
    "    index = 0\n",
    "    for i in range(key):\n",
    "        for j in range(cols):\n",
    "            if rail[i][j] == '*' and index < len(cipher):\n",
    "                rail[i][j] = cipher[index]\n",
    "                index += 1\n",
    "    \n",
    "    # Giải mã bằng cách đọc lại theo zigzag\n",
    "    result = []\n",
    "    row = 0\n",
    "    direction_down = False\n",
    "    for i in range(len(cipher)):\n",
    "        result.append(rail[row][i])\n",
    "        \n",
    "        if row == 0 or row == key - 1:\n",
    "            direction_down = not direction_down\n",
    "        \n",
    "        row += 1 if direction_down else -1\n",
    "    \n",
    "    return ''.join(result)\n",
    "\n",
    "# Thực hiện giải mã:\n",
    "cipher = \"\"\n",
    "with open('message.txt', 'r') as file:\n",
    "    lines = file.readlines()\n",
    "\n",
    "for line in lines:\n",
    "    cipher += line.strip()\n",
    "    \n",
    "print(cipher)\n",
    "\n",
    "for key in range(2, 11):\n",
    "    plaintext = rail_fence_decrypt(cipher, key)\n",
    "    print(f\"Key k = {key}: {plaintext}\")"
   ]
  }
 ],
 "metadata": {
  "kernelspec": {
   "display_name": "CTF",
   "language": "python",
   "name": "python3"
  },
  "language_info": {
   "codemirror_mode": {
    "name": "ipython",
    "version": 3
   },
   "file_extension": ".py",
   "mimetype": "text/x-python",
   "name": "python",
   "nbconvert_exporter": "python",
   "pygments_lexer": "ipython3",
   "version": "3.11.2"
  }
 },
 "nbformat": 4,
 "nbformat_minor": 2
}
