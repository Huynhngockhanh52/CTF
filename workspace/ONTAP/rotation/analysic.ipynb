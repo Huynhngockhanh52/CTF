{
 "cells": [
  {
   "cell_type": "markdown",
   "metadata": {},
   "source": [
    "#### **Bước 1. Phân tích các phương thức có trong chương trinh**\n",
    "Bài này chỉ cho bản mã: `xqkwKBN{z0bib1wv_l3kzgxb3l_429in00n}`\n",
    "\n",
    "Ta có mẫu của Flag: `picoCTF{...}`"
   ]
  },
  {
   "cell_type": "markdown",
   "metadata": {},
   "source": [
    "Nhìn mẫu Flag và bản mã, có thể thấy chữ `c -> k`, `C->K`. Như vậy, đây có thể là một mã Caeser. Ta thử viết chương trình mã Caeser:"
   ]
  },
  {
   "cell_type": "code",
   "execution_count": 9,
   "metadata": {},
   "outputs": [
    {
     "name": "stdout",
     "output_type": "stream",
     "text": [
      "Giải mã k = 8: picoCTF{r0tat1on_d3crypt3d_429af00f}\n",
      "\n"
     ]
    }
   ],
   "source": [
    "def caesar_encrypt(plaintext, key):\n",
    "    ciphertext = \"\"\n",
    "    for char in plaintext:\n",
    "        # Kiểm tra nếu ký tự là chữ cái\n",
    "        if char.isalpha():\n",
    "            shift = key % 26\n",
    "            ascii_offset = ord('A') if char.isupper() else ord('a')\n",
    "            new_char = chr((ord(char) - ascii_offset + shift) % 26 + ascii_offset)\n",
    "            ciphertext += new_char\n",
    "        else:\n",
    "            ciphertext += char  # Giữ nguyên ký tự không phải chữ cái\n",
    "    return ciphertext\n",
    "\n",
    "def caesar_decrypt(ciphertext, key):\n",
    "    plaintext = \"\"\n",
    "    for char in ciphertext:\n",
    "        if char.isalpha():\n",
    "            shift = key % 26 \n",
    "            ascii_offset = ord('A') if char.isupper() else ord('a')\n",
    "            new_char = chr((ord(char) - ascii_offset - shift) % 26 + ascii_offset)\n",
    "            plaintext += new_char\n",
    "        else:\n",
    "            plaintext += char \n",
    "    return plaintext\n",
    "\n",
    "plaintext = \"picoCTF{}\"\n",
    "key = 4\n",
    "\n",
    "# Ciphertext\n",
    "# ciphertext = \"xqkwKBN{z0bib1wv_l3kzgxb3l_429in00n}\"\n",
    "ciphertext = \"\"\n",
    "with open('encrypted.txt', 'r') as file:\n",
    "    lines = file.readlines()\n",
    "for line in lines:\n",
    "    ciphertext += str(line)\n",
    "\n",
    "# Giải mã và in ra plaintext\n",
    "for i in range(0,26):\n",
    "    decrypted_text = caesar_decrypt(ciphertext, i)\n",
    "    if \"picoCTF\" in decrypted_text:\n",
    "        print(f\"Giải mã k = {i}: {decrypted_text}\")\n"
   ]
  }
 ],
 "metadata": {
  "kernelspec": {
   "display_name": "CTF",
   "language": "python",
   "name": "python3"
  },
  "language_info": {
   "codemirror_mode": {
    "name": "ipython",
    "version": 3
   },
   "file_extension": ".py",
   "mimetype": "text/x-python",
   "name": "python",
   "nbconvert_exporter": "python",
   "pygments_lexer": "ipython3",
   "version": "3.11.2"
  }
 },
 "nbformat": 4,
 "nbformat_minor": 2
}
