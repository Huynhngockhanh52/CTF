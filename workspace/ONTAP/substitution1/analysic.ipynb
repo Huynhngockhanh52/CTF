{
 "cells": [
  {
   "cell_type": "markdown",
   "metadata": {},
   "source": [
    "#### **Bước 1. Phân tích các phương thức có trong chương trinh**\n",
    "**Bài toán:** Tin nhắn thứ hai đã được gửi đến và nó có vẻ gần giống với tin nhắn đầu tiên. Có lẽ điều tương tự sẽ hoạt động trở lại?\n",
    "\n",
    "**Hint:** \n",
    "- Hãy thử tinh chỉnh cuộc tấn công tần số (frequency attack)?\n",
    "- Dấu câu và các từ riêng lẻ có giúp bạn thực hiện bất kỳ sự thay thế nào không?\n",
    "\n",
    "**Phân tích**\n",
    "- Tương tự như substitution2, bài này cũng thực hiện một phương pháp mật mã thay thế, ta sẽ dựa trên tần suất. \n",
    "\n",
    "- Bài này đơn giản hơn bài substitution2 vì nó đã phân ra thành các từ. Dựa trên cờ, ta suy ra được: `c -> l`; `f -> o`; `i -> t`; `o -> v`; `p ->q`; `t -> k`\n",
    "\n",
    "- Ta thấy chữ `g` thường xuyên xuất hiện một mình, do đó, có thể `a -> g`\n",
    "\n",
    "- Tiếp tục, ta thực hiện như substitutions2\n",
    "    - `\"abcdefghijklmnopqrstuvwxyz\"`\n",
    "    - `\"g*l**o**t*****vq***k******\"`\n",
    "\n"
   ]
  },
  {
   "cell_type": "markdown",
   "metadata": {},
   "source": [
    "##### ***1.1. Đếm tấn suất ký tự trong file mã hóa***\n",
    "Viết phương thức đếm ký tự từ một file"
   ]
  },
  {
   "cell_type": "code",
   "execution_count": 2,
   "metadata": {},
   "outputs": [
    {
     "name": "stdout",
     "output_type": "stream",
     "text": [
      "['e', 't', 'a', 'o', 'i', 'n', 's', 'h', 'r', 'd', 'l', 'c', 'u', 'm', 'w', 'f', 'g', 'y', 'p', 'b', 'v', 'k', 'j', 'x', 'q', 'z']\n",
      "['j', 'g', 'k', 'e', 't', 'b', 'v', 'u', 'l', 's', 'o', 'w', 'z', 'x', 'h', 'y', 'q', 'r', 'd', 'm', 'f', 'i', 'a']\n"
     ]
    }
   ],
   "source": [
    "import string\n",
    "\n",
    "# Thực hiện:\n",
    "frequency_En = ['e', 't', 'a', 'o', 'i', 'n', 's', 'h', 'r', 'd', 'l', 'c', 'u', 'm', 'w', 'f', 'g', 'y', 'p', 'b', 'v', 'k', 'j', 'x', 'q', 'z']\n",
    "\n",
    "cipher = \"\"\n",
    "with open('message.txt', 'r') as file:\n",
    "    lines = file.readlines()\n",
    "\n",
    "for line in lines:\n",
    "    cipher += line.strip()\n",
    "# print(cipher)\n",
    "\n",
    "def frequency_characters(text):\n",
    "    char_count = {}\n",
    "    \n",
    "    for char in text:\n",
    "        if char.isalpha(): \n",
    "            char = char.lower()  \n",
    "            if char in char_count:\n",
    "                char_count[char] += 1\n",
    "            else:\n",
    "                char_count[char] = 1\n",
    "    \n",
    "    return char_count\n",
    "\n",
    "def most_frequent_characters(fre_dict_char):\n",
    "    # Sắp xếp các ký tự theo giá trị xuất hiện nhiều nhất (giảm dần)\n",
    "    sorted_characters = sorted(fre_dict_char.keys(), key=lambda char: fre_dict_char[char], reverse=True)\n",
    "    sorted_frequencies = [fre_dict_char[char] for char in sorted_characters]\n",
    "    \n",
    "    return sorted_characters, sorted_frequencies\n",
    "\n",
    "most_fre_chars, num_fre_chars = most_frequent_characters(frequency_characters(cipher))\n",
    "print(frequency_En)\n",
    "print(most_fre_chars)\n"
   ]
  },
  {
   "cell_type": "markdown",
   "metadata": {},
   "source": [
    "- Ký tự nhiều nhất là `j` => `e -> j`\n",
    "    - `\"abcdefghijklmnopqrstuvwxyz\"`\n",
    "    - `\"g*l*jo**t*****vq***k******\"`\n",
    "    \n",
    "Tiếp tục mã hóa."
   ]
  },
  {
   "cell_type": "code",
   "execution_count": null,
   "metadata": {},
   "outputs": [],
   "source": [
    "flag_enc  = \"qtlvLKO{OE3AH3ULY_4774LI5_4E3_L001_6J0659OM}\"\n",
    "flag_form = \"picoCTF{F*3**3*C*_4774C*5_4*3_C001_6E0659F*}\"\n",
    "# Suy ra: p -> v; i -> q; c -> k; o -> m; t -> f; f -> l\n",
    "\n",
    "# Ta có mảng thay thế một số chữ:\n",
    "original_chars = string.ascii_lowercase\n",
    "#                \"abcdefghijklmnopqrstuvwxyz\"\n",
    "encrypts_chars = \"gmlzjoxwtaisruvqnebkhfdcyp\"\n",
    "char_mapping = {encrypts_chars[i]: original_chars[i] for i in range(len(original_chars)) if encrypts_chars[i] != '*'}\n",
    "print(char_mapping)\n",
    "\n",
    "def decrypt_message(cipher, char_map):\n",
    "    res = []\n",
    "    for char in cipher:\n",
    "        if char in char_mapping:\n",
    "            res.append(char_mapping[char])  # Thay thế ký tự\n",
    "        elif char.isupper():  # Nếu ký tự là chữ hoa\n",
    "            if char.lower() not in char_mapping:\n",
    "                res.append('*')\n",
    "            else:\n",
    "                res.append(char_mapping[char.lower()].upper())\n",
    "        elif char.isalpha():\n",
    "            res.append('*')\n",
    "        else:\n",
    "            res.append(char)  # Giữ nguyên ký tự không phải chữ cái\n",
    "\n",
    "    return ''.join(res)\n",
    "print(cipher)\n",
    "print(decrypt_message(cipher, char_mapping))\n",
    "print(decrypt_message(flag_enc, char_mapping))"
   ]
  },
  {
   "cell_type": "markdown",
   "metadata": {},
   "source": [
    "- Tiếp theo, ta có `kwj osgz ib` sẽ giống với `the flag is`. Suy ra: `h -> w`; `f -> o`; `l -> s`; `g -> x`; `s -> b` \n",
    "\n",
    "    - `\"abcdefghijklmnopqrstuvwxyz\"`\n",
    "    - `\"g*l*joxwt**s**vq**bk******\"`\n",
    "\n",
    "- Cuối cùng ta cho vào công cụ dịch tự động để xem kết quả.\n",
    "- Links: https://www.dcode.fr/frequency-analysis "
   ]
  }
 ],
 "metadata": {
  "kernelspec": {
   "display_name": "CTF",
   "language": "python",
   "name": "python3"
  },
  "language_info": {
   "codemirror_mode": {
    "name": "ipython",
    "version": 3
   },
   "file_extension": ".py",
   "mimetype": "text/x-python",
   "name": "python",
   "nbconvert_exporter": "python",
   "pygments_lexer": "ipython3",
   "version": "3.11.2"
  }
 },
 "nbformat": 4,
 "nbformat_minor": 2
}
