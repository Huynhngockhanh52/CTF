{
 "cells": [
  {
   "cell_type": "markdown",
   "metadata": {},
   "source": [
    "#### **Bước 1. Phân tích các phương thức có trong chương trình**\n",
    "**Bài toán:** Tôi có 2 hình ảnh này, bạn có thể làm một lá cờ từ chúng không? `scrambled1.png` `scrambled2.png`\n",
    "\n",
    "**Hint:** \n",
    "- https://en.wikipedia.org/wiki/Visual_cryptography \n",
    "- Hãy nghĩ đến những cách khác nhau mà bạn có thể \"xếp chồng\" hình ảnh\n"
   ]
  },
  {
   "cell_type": "markdown",
   "metadata": {},
   "source": [
    "**Phân tích**\n",
    "\n",
    "Ban đầu, có thể ta thử gộp 2 ảnh lại làm 1 xem được không?\n",
    "\n",
    "**Tham khảo**"
   ]
  },
  {
   "cell_type": "code",
   "execution_count": 16,
   "metadata": {},
   "outputs": [],
   "source": [
    "from PIL import Image\n",
    "import numpy as np\n",
    "import glob\n",
    "import os\n",
    "\n",
    "def sum_images(img_file_lst):\n",
    "    \n",
    "    # Mở và chuyển đổi tất cả ảnh sang định dạng RGB và NumPy array\n",
    "    img_RGB_lst = [np.array(Image.open(img).convert('RGB')) for img in img_file_lst]\n",
    "    \n",
    "    # Cộng tất cả các ảnh với nhau, đảm bảo giá trị không vượt quá 255\n",
    "    result = np.zeros_like(img_RGB_lst[0], dtype=np.int32)  # Mảng để chứa kết quả\n",
    "    \n",
    "    # Đảm bảo rằng tất cả các ảnh đều có cùng kích thước\n",
    "    width, height = img_RGB_lst[0].shape[1], img_RGB_lst[0].shape[0]\n",
    "    for img in img_RGB_lst:\n",
    "        if img.shape[1] != width or img.shape[0] != height:\n",
    "            raise ValueError(\"All images must have the same dimensions\")\n",
    "        result += img\n",
    "    \n",
    "    # Đảm bảo các giá trị nằm trong khoảng từ 0 đến 255\n",
    "    result = result % 256\n",
    "\n",
    "    # Chuyển đổi kết quả về dạng ảnh\n",
    "    result_image = Image.fromarray(result.astype(np.uint8))\n",
    "    return result_image\n",
    "\n",
    "# Đường dẫn tới thư mục chứa ảnh\n",
    "image_folder = \".\"\n",
    "\n",
    "# Tìm tất cả các file ảnh có dạng scrambled*.png\n",
    "image_files = glob.glob(os.path.join(image_folder, \"scrambled*.png\"))\n",
    "\n",
    "res = sum_images(image_files)\n",
    "res.show()\n",
    "\n",
    "# picoCTF{7188864c}"
   ]
  }
 ],
 "metadata": {
  "kernelspec": {
   "display_name": "CTF",
   "language": "python",
   "name": "python3"
  },
  "language_info": {
   "codemirror_mode": {
    "name": "ipython",
    "version": 3
   },
   "file_extension": ".py",
   "mimetype": "text/x-python",
   "name": "python",
   "nbconvert_exporter": "python",
   "pygments_lexer": "ipython3",
   "version": "3.11.2"
  }
 },
 "nbformat": 4,
 "nbformat_minor": 2
}
