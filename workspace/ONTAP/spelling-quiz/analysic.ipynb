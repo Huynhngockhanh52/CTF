{
 "cells": [
  {
   "cell_type": "markdown",
   "metadata": {},
   "source": [
    "#### **Bước 1. Phân tích các phương thức có trong chương trình**\n",
    "**Bài toán:** Tôi đã tìm thấy lá cờ, nhưng anh trai tôi đã viết một chương trình để mã hóa tất cả các tệp văn bản của anh ấy. Anh ấy cũng có một hướng dẫn học bài kiểm tra chính tả, nhưng tôi không biết điều đó có hữu ích không?\n",
    "\n",
    "**Hint:** \n",
    "- ...\n"
   ]
  },
  {
   "cell_type": "markdown",
   "metadata": {},
   "source": [
    "##### ***1.1. Phân tích các đoạn trong chương trình***\n"
   ]
  },
  {
   "cell_type": "code",
   "execution_count": null,
   "metadata": {},
   "outputs": [],
   "source": [
    "import random\n",
    "import os"
   ]
  },
  {
   "attachments": {
    "image.png": {
     "image/png": "[encoded data removed]"
    }
   },
   "cell_type": "markdown",
   "metadata": {},
   "source": [
    "- Tạo danh sách tất cả các tệp có phần mở rộng `.txt` nằm trong thư mục hiện tại và tất cả các thư mục con của nó\n",
    "![image.png](attachment:image.png)"
   ]
  },
  {
   "cell_type": "code",
   "execution_count": null,
   "metadata": {},
   "outputs": [],
   "source": [
    "files = [\n",
    "    os.path.join(path, file)\n",
    "    for path, dirs, files in os.walk('.')\n",
    "    for file in files\n",
    "    if file.split('.')[-1] == 'txt'\n",
    "]"
   ]
  },
  {
   "cell_type": "markdown",
   "metadata": {},
   "source": [
    "- Tạo ra bảng mã hóa tương ứng chuyển đổi từng ký tự (giống như mật mã thay thế)"
   ]
  },
  {
   "cell_type": "code",
   "execution_count": null,
   "metadata": {},
   "outputs": [],
   "source": [
    "alphabet = list('abcdefghijklmnopqrstuvwxyz')\n",
    "random.shuffle(shuffled := alphabet[:]) # Gán giá trị ngẫu nhiên cho biến shuffled\n",
    "dictionary = dict(zip(alphabet, shuffled))"
   ]
  },
  {
   "cell_type": "markdown",
   "metadata": {},
   "source": [
    "- Cuối cùng, thực hiện mã hóa thay thế trên tất cả các file"
   ]
  },
  {
   "cell_type": "code",
   "execution_count": null,
   "metadata": {},
   "outputs": [],
   "source": [
    "for filename in files:\n",
    "    text = open(filename, 'r').read()\n",
    "    encrypted = ''.join([\n",
    "        dictionary[c]\n",
    "        if c in dictionary else c\n",
    "        for c in text\n",
    "    ])\n",
    "    open(filename, 'w').write(encrypted)"
   ]
  },
  {
   "cell_type": "markdown",
   "metadata": {},
   "source": [
    "#### **Bước 2. Phân tích**\n",
    "- Như đã trình bày, bài toán này chỉ là một bài toán thực hiện mã hóa thay thế. Do đó, bước đầu tiên, ta sẽ tính toán các giá trị thường lặp lại. Ta sẽ dựa trên file `study-guide.txt`\n",
    "\n",
    "- Tiếp theo, ta tính toán tầng suất các chữ thường lặp lại nhiều nhất trong bài toán theo cụm 2 ký tự, 3 ký tự.\n",
    "\n",
    "- Cuối cùng, ta dựa vào đó để đoán các ký tự thay thế.\n"
   ]
  },
  {
   "cell_type": "code",
   "execution_count": 1,
   "metadata": {},
   "outputs": [
    {
     "name": "stdout",
     "output_type": "stream",
     "text": [
      "['e', 't', 'a', 'o', 'i', 'n', 's', 'h', 'r', 'd', 'l', 'c', 'u', 'm', 'w', 'f', 'g', 'y', 'p', 'b', 'v', 'k', 'j', 'x', 'q', 'z']\n",
      "['r', 'w', 'x', 't', 'i', 'a', 'c', 'v', 'l', 'n', 'o', 'b', 'm', 's', 'f', 'd', 'q', 'u', 'y', 'p', 'g', 'e', 'k', 'z', 'j', 'h']\n"
     ]
    }
   ],
   "source": [
    "import string\n",
    "\n",
    "# Thực hiện:\n",
    "frequency_En = ['e', 't', 'a', 'o', 'i', 'n', 's', 'h', 'r', 'd', 'l', 'c', 'u', 'm', 'w', 'f', 'g', 'y', 'p', 'b', 'v', 'k', 'j', 'x', 'q', 'z']\n",
    "\n",
    "cipher = \"\"\n",
    "with open('study-guide.txt', 'r') as file:\n",
    "    lines = file.readlines()\n",
    "\n",
    "for line in lines:\n",
    "    cipher += line.strip()\n",
    "# print(cipher)\n",
    "\n",
    "def frequency_characters(text):\n",
    "    char_count = {}\n",
    "    for char in text:\n",
    "        if char.isalpha(): \n",
    "            char = char.lower()  \n",
    "            if char in char_count:\n",
    "                char_count[char] += 1\n",
    "            else:\n",
    "                char_count[char] = 1\n",
    "    \n",
    "    return char_count\n",
    "\n",
    "def most_frequent_characters(fre_dict_char):\n",
    "    # Sắp xếp các ký tự theo giá trị xuất hiện nhiều nhất (giảm dần)\n",
    "    sorted_characters = sorted(fre_dict_char.keys(), key=lambda char: fre_dict_char[char], reverse=True)\n",
    "    sorted_frequencies = [fre_dict_char[char] for char in sorted_characters]\n",
    "    \n",
    "    return sorted_characters, sorted_frequencies\n",
    "\n",
    "most_fre_chars, num_fre_chars = most_frequent_characters(frequency_characters(cipher))\n",
    "print(frequency_En)\n",
    "print(most_fre_chars)"
   ]
  },
  {
   "cell_type": "markdown",
   "metadata": {},
   "source": [
    "- Suy ra có thể `e -> r`\n",
    "\n",
    "Bây giờ, ta tính tần suất 2 chữ cái và 3 chữ cái"
   ]
  },
  {
   "cell_type": "code",
   "execution_count": 20,
   "metadata": {},
   "outputs": [
    {
     "name": "stdout",
     "output_type": "stream",
     "text": [
      "['rc', 'wt', 'vw', 'it', 'ra', 'vr', 'xv', 'xl', 'cr', 'rt', 'xt', 'wn', 'wa', 'cw', 'cx', 'av', 'lw', 'tr', 'lr', 'ci']\n",
      "['of', 'to', 'in', 'it', 'is', 'be', 'as', 'at', 'on', 'by', 'he', 'or', 'an', 'if', 'no', 'us', 'we', 'do', 'up', 'go', 'me', 'my']\n",
      "\n",
      "['wtd', 'xvw', 'raa', 'wit', 'vrc', 'tra', 'vwi', 'rtv', 'xvr', 'ioa', 'vwn', 'wnx', 'wav', 'nxl', 'tit', 'ulr', 'brc', 'xtv', 'xll', 'rcw']\n",
      "['the', 'and', 'for', 'you', 'not', 'are', 'all', 'new', 'was', 'can', 'has', 'but', 'our', 'one', 'may', 'out', 'use', 'any', 'see', 'his']\n",
      "\n",
      "['vwit', 'traa', 'xvwi', 'wnxl', 'xulr', 'xllq', 'iprc', 'vwtd', 'vwpr', 'tvrc', 'srtv', 'rtra', 'ilid', 'nxll', 'avwn', 'wtvr', 'xvrm', 'xtvw', 'lwtd', 'vwnx']\n",
      "['that', 'with', 'have', 'this', 'from', 'they', 'will', 'your', 'been', 'good', 'more', 'them', 'than', 'some', 'time', 'when', 'each', 'many', 'make', 'very', 'into', 'just', 'like', 'know']\n"
     ]
    }
   ],
   "source": [
    "from collections import Counter \n",
    "\n",
    "most_3_letter_EN = [\n",
    "    \"the\", \"and\", \"for\", \"you\", \"not\", \"are\", \"all\", \"new\", \"was\", \n",
    "    \"can\", \"has\", \"but\", \"our\", \"one\", \"may\", \"out\", \"use\", \"any\", \n",
    "    \"see\", \"his\"\n",
    "]\n",
    "\n",
    "most_2_letter_EN = [\n",
    "    \"of\", \"to\", \"in\", \"it\", \"is\", \"be\", \"as\", \"at\", \"on\", \n",
    "    \"by\", \"he\", \"or\", \"an\", \"if\", \"no\", \"us\", \"we\", \"do\", \n",
    "    \"up\", \"go\", \"me\", \"my\"\n",
    "]\n",
    "\n",
    "most_4_letter_EN = [\n",
    "    \"that\", \"with\", \"have\", \"this\", \"from\", \"they\", \"will\", \"your\", \n",
    "    \"been\", \"good\", \"more\", \"them\", \"than\", \"some\", \"time\", \"when\", \n",
    "    \"each\", \"many\", \"make\", \"very\", \"into\", \"just\", \"like\", \"know\"\n",
    "]\n",
    "\n",
    "# Định nghĩa một phương thức tính tần suất 2gram, 3gram:\n",
    "def ngram_frequency(text_lst, n=2):\n",
    "    \"\"\"\n",
    "    Đọc văn bản và tính số lượng k-gram (chuỗi gồm k ký tự liên tiếp).\n",
    "    \n",
    "    Parameters:\n",
    "    text_lst (list): Danh sách chuỗi văn bản cần phân tích.\n",
    "    k (int): Độ dài của mỗi k-gram.\n",
    "    \n",
    "    Returns:\n",
    "    Counter: Tần suất xuất hiện của các k-gram.\n",
    "    \"\"\"\n",
    "    overall_kgram_freq = Counter()  # tạo Counter để lưu tần suất\n",
    "    \n",
    "    # Kiểm tra danh sách đầu vào phải là list\n",
    "    assert type(text_lst) == list\n",
    "    \n",
    "    # Thực hiện phân tách từng line:\n",
    "    for line in text_lst:\n",
    "        line = line.lower()\n",
    "        letters = [char for char in line if char.isalpha()]\n",
    "        kgrams = [''.join(letters[i:i+n]) for i in range(len(letters) - n + 1)]\n",
    "        \n",
    "        # Cập nhật tần suất k-gram\n",
    "        overall_kgram_freq.update(kgrams)\n",
    "    \n",
    "    return overall_kgram_freq\n",
    "\n",
    "gram_2 = ngram_frequency(lines, 2)\n",
    "gram_3 = ngram_frequency(lines, 3)\n",
    "gram_4 = ngram_frequency(lines, 4)\n",
    "\n",
    "most_2gram = [word for word, _ in gram_2.most_common(20)]\n",
    "most_3gram = [word for word, _ in gram_3.most_common(20)]\n",
    "most_4gram = [word for word, _ in gram_4.most_common(20)]\n",
    "\n",
    "print(most_2gram)\n",
    "print(most_2_letter_EN)\n",
    "print()\n",
    "\n",
    "print(most_3gram)\n",
    "print(most_3_letter_EN)\n",
    "print()\n",
    "\n",
    "print(most_4gram)\n",
    "print(most_4_letter_EN)"
   ]
  },
  {
   "cell_type": "markdown",
   "metadata": {},
   "source": [
    "- Nhìn vào đây ta vẫn chưa đoán được cụ thể. Thử tìm kiếm các 2gram, 3gram đầu dòng để đoán:"
   ]
  },
  {
   "cell_type": "code",
   "execution_count": 23,
   "metadata": {},
   "outputs": [
    {
     "name": "stdout",
     "output_type": "stream",
     "text": [
      "['a', 'b', 'n', 'o', 'x', 's', 'm', 'v', 'c', 'u', 't', 'w', 'r', 'f', 'i', 'y', 'd', 'l', 'e', 'p']\n",
      "['ot', 'ni', 'bc', 'cr', 'ti', 'wt', 'ao', 'mr', 'mw', 'nx', 'bx', 'xt', 'vc', 'ip', 'nf', 'av', 'ar', 'br', 'sx', 'sw']\n",
      "['tit', 'bcr', 'ipr', 'bci', 'nit', 'mwa', 'wtv', 'aou', 'otm', 'xtv', 'ota', 'aob', 'otn', 'brc', 'swa', 'fqb', 'bxc', 'ars', 'iov', 'vcx']\n",
      "['iprc', 'wtvr', 'otmr', 'xtvw', 'aobr', 'arsw', 'otni', 'bilq', 'titn', 'bxcx', 'baro', 'otcr', 'fqbr', 'vcxt', 'swnc', 'tita', 'brcw', 'siti', 'titb', 'bcrn']\n",
      "['wtvrc', 'aobrc', 'otmrc', 'barom', 'fqbrc', 'vcxta', 'swnci', 'niotv', 'titni', 'iprca', 'fqmci', 'otnit', 'bfivi', 'rlrnv', 'solvw', 'titcr', 'frvrc', 'bcrni', 'iprcn', 'titmr']\n"
     ]
    }
   ],
   "source": [
    "def ngram_first_frequency(text_lst, n=2):\n",
    "    \"\"\"\n",
    "    Đọc văn bản và tính số lượng k-gram word đầu tiên mỗi dòng.\n",
    "    \n",
    "    Parameters:\n",
    "    text_lst (list): Danh sách chuỗi văn bản cần phân tích.\n",
    "    k (int): Độ dài của mỗi k-gram.\n",
    "    \n",
    "    Returns:\n",
    "    Counter: Tần suất xuất hiện của các k-gram.\n",
    "    \"\"\"\n",
    "    # Kiểm tra danh sách đầu vào phải là list\n",
    "    assert type(text_lst) == list\n",
    "    \n",
    "    # Thực hiện phân tách từng line:\n",
    "    kfirst_gram = [line[:n] for line in text_lst if n <= len(line)]\n",
    "    return Counter(kfirst_gram)\n",
    "\n",
    "# 1 First gram\n",
    "most_1first_gram = [word for word, _ in ngram_first_frequency(lines, 1).most_common(20)]\n",
    "\n",
    "print(most_1first_gram)\n",
    "\n",
    "# 2 First gram\n",
    "most_2first_gram = [word for word, _ in ngram_first_frequency(lines, 2).most_common(20)]\n",
    "\n",
    "print(most_2first_gram)\n",
    "\n",
    "# 3 First gram\n",
    "most_3first_gram = [word for word, _ in ngram_first_frequency(lines, 3).most_common(20)]\n",
    "\n",
    "print(most_3first_gram)\n",
    "\n",
    "# 4 First gram\n",
    "most_4first_gram = [word for word, _ in ngram_first_frequency(lines, 4).most_common(20)]\n",
    "\n",
    "print(most_4first_gram)\n",
    "\n",
    "# 5 First gram\n",
    "most_5first_gram = [word for word, _ in ngram_first_frequency(lines, 5).most_common(20)]\n",
    "\n",
    "print(most_5first_gram)"
   ]
  },
  {
   "cell_type": "markdown",
   "metadata": {},
   "source": [
    "##### ***2.2. Solution***\n",
    "Làm theo cách thông thường ta không thể làm được, ta có thể sử dụng trang web: https://www.dcode.fr/monoalphabetic-substitution, sau đó nhờ nó giải mã tự động là được\n",
    "\n",
    "Ngoài ra, tham khảo công cụ trong Github: https://github.com/Dvd848/CTFs/blob/master/2021_picoCTF_redpwn/spelling-quiz.md"
   ]
  },
  {
   "cell_type": "code",
   "execution_count": 26,
   "metadata": {},
   "outputs": [
    {
     "name": "stdout",
     "output_type": "stream",
     "text": [
      "{'a': 's', 'b': 'p', 'c': 'r', 'd': 'g', 'e': 'w', 'f': 'h', 'g': 'k', 'h': 'j', 'i': 'o', 'j': 'z', 'k': 'x', 'l': 'l', 'm': 'd', 'n': 'c', 'o': 'u', 'p': 'v', 'q': 'y', 'r': 'e', 's': 'm', 't': 'n', 'u': 'b', 'v': 't', 'w': 'i', 'x': 'a', 'y': 'f', 'z': 'q'}\n",
      "perhaps_the_dog_jumped_over_was_just_tired\n"
     ]
    }
   ],
   "source": [
    "flag_enc  = \"brcfxba_vfr_mid_hosbrm_iprc_exa_hoav_vwcrm\"\n",
    "flag_form = \"\"\n",
    "\n",
    "# Ta có mảng thay thế một số chữ:\n",
    "original_chars = \"sprgwhkjozxldcuvyemnbtiafq\"\n",
    "encrypts_chars = \"abcdefghijklmnopqrstuvwxyz\"\n",
    "char_mapping = {encrypts_chars[i]: original_chars[i] for i in range(len(original_chars)) if encrypts_chars[i] != '*'}\n",
    "print(char_mapping)\n",
    "\n",
    "def decrypt_message(cipher, char_map):\n",
    "    res = []\n",
    "    for char in cipher:\n",
    "        if char in char_mapping:\n",
    "            res.append(char_mapping[char])  # Thay thế ký tự\n",
    "        elif char.isupper():  # Nếu ký tự là chữ hoa\n",
    "            if char.lower() not in char_mapping:\n",
    "                res.append('*')\n",
    "            else:\n",
    "                res.append(char_mapping[char.lower()].upper())\n",
    "        elif char.isalpha():\n",
    "            res.append('*')\n",
    "        else:\n",
    "            res.append(char)  # Giữ nguyên ký tự không phải chữ cái\n",
    "\n",
    "    return ''.join(res)\n",
    "\n",
    "print(decrypt_message(flag_enc, char_mapping))"
   ]
  }
 ],
 "metadata": {
  "kernelspec": {
   "display_name": "CTF",
   "language": "python",
   "name": "python3"
  },
  "language_info": {
   "codemirror_mode": {
    "name": "ipython",
    "version": 3
   },
   "file_extension": ".py",
   "mimetype": "text/x-python",
   "name": "python",
   "nbconvert_exporter": "python",
   "pygments_lexer": "ipython3",
   "version": "3.11.2"
  }
 },
 "nbformat": 4,
 "nbformat_minor": 2
}
