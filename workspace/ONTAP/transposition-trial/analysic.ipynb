{
 "cells": [
  {
   "cell_type": "markdown",
   "metadata": {},
   "source": [
    "#### **Bước 1. Phân tích các phương thức có trong chương trinh**\n",
    "Bài này đưa cho chúng ta một gợi ý rằng, tất cả dữ liệu được chia làm các khối, mỗi khối gồm 3 ký tự và dữ liệu trong khối được xáo trộn trên một luật nhất định. \n",
    "\n",
    "File mã hóa nhìn vào ta có thể đoán được thứ tự bị xáo trộn.\n",
    "Do đó, ta sẽ thực hiện dễ dàng để giải mã. Để khó hơn, ta sẽ thư viết một chương trình nếu ta không đoán được thứ tự đó."
   ]
  },
  {
   "cell_type": "code",
   "execution_count": 2,
   "metadata": {},
   "outputs": [
    {
     "name": "stdout",
     "output_type": "stream",
     "text": [
      "['heT', 'fl ', 'g a', 's i', 'icp', 'CTo', '{7F', '4NR', 'P05', '1N5', '_16', '_35', 'P3X', '51N', '3_V', '091', 'B0A', 'E}2']\n"
     ]
    }
   ],
   "source": [
    "cipher = 'heTfl g as iicpCTo{7F4NRP051N5_16_35P3X51N3_V091B0AE}2'\n",
    "\n",
    "def split_into_blocks(text, block_size=3):\n",
    "    # Duyệt chuỗi theo từng khối có độ dài `block_size`\n",
    "    blocks = [text[i:i + block_size] for i in range(0, len(text), block_size)]\n",
    "    return blocks\n",
    "\n",
    "cipher_blocks = split_into_blocks(cipher, 3)\n",
    "print(cipher_blocks)"
   ]
  },
  {
   "cell_type": "code",
   "execution_count": 3,
   "metadata": {},
   "outputs": [
    {
     "name": "stdout",
     "output_type": "stream",
     "text": [
      "[[0, 1, 2], [0, 2, 1], [1, 0, 2], [1, 2, 0], [2, 0, 1], [2, 1, 0]]\n"
     ]
    }
   ],
   "source": [
    "import itertools\n",
    "\n",
    "def generate_permutations(n):\n",
    "    # Tạo mảng chứa các phần tử từ 1 đến n\n",
    "    origin_arr = list(range(0, n))\n",
    "    \n",
    "    # Sử dụng permutations để lấy tất cả các hoán vị\n",
    "    permutations_list = list(itertools.permutations(origin_arr))\n",
    "    \n",
    "    # Chuyển đổi các hoán vị từ tuple thành list\n",
    "    permutations_list = [list(permutation) for permutation in permutations_list]\n",
    "    \n",
    "    return permutations_list\n",
    "\n",
    "n3 = generate_permutations(3)\n",
    "print(n3)\n"
   ]
  },
  {
   "cell_type": "code",
   "execution_count": 5,
   "metadata": {},
   "outputs": [
    {
     "name": "stdout",
     "output_type": "stream",
     "text": [
      "heTfl g as iicpCTo{7F4NRP051N5_16_35P3X51N3_V091B0AE}2\n",
      "hTef lga si ipcCoT{F74RNP5015N_61_53PX35N13V_019BA0E2}\n",
      "ehTlf  ga sicipTCo7{FN4R0P5N151_63_53PX15N_3V9010BA}E2\n",
      "eThl f ag iscpiToC7F{NR405PN5116_35_3XP1N5_V39100AB}2E\n",
      "The flag is picoCTF{7R4N5P051N6_15_3XP3N51V3_109AB02E}\n",
      "Teh lfa gi spcioTCF7{RN450P5N161_53_X3PN15V_3190A0B2}E\n"
     ]
    }
   ],
   "source": [
    "def decrypt_block(cipher_blocks, change_arr):\n",
    "    res = \"\"\n",
    "    for block in cipher_blocks:\n",
    "        # Chuyển đổi vị trí của khối lại ban đầu và cộng vào res\n",
    "        for idx in change_arr:\n",
    "            res += block[idx]\n",
    "            \n",
    "    print(res)\n",
    "    \n",
    "for arr in n3:\n",
    "    decrypt_block(cipher_blocks, arr)"
   ]
  }
 ],
 "metadata": {
  "kernelspec": {
   "display_name": "CTF",
   "language": "python",
   "name": "python3"
  },
  "language_info": {
   "codemirror_mode": {
    "name": "ipython",
    "version": 3
   },
   "file_extension": ".py",
   "mimetype": "text/x-python",
   "name": "python",
   "nbconvert_exporter": "python",
   "pygments_lexer": "ipython3",
   "version": "3.11.2"
  }
 },
 "nbformat": 4,
 "nbformat_minor": 2
}
