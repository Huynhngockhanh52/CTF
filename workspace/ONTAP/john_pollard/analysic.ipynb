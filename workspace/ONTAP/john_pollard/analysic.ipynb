{
 "cells": [
  {
   "cell_type": "markdown",
   "metadata": {},
   "source": [
    "#### **Bước 1. Phân tích các phương thức có trong chương trình**\n",
    "**Bài toán:** Sometimes RSA certificates are breakable\n",
    "\n",
    "**Hint:** \n",
    "- The flag is in the format picoCTF{p,q}\n",
    "- Try swapping p and q if it does not work\n"
   ]
  },
  {
   "cell_type": "markdown",
   "metadata": {},
   "source": [
    "**Phân tích**\n",
    "\n",
    "Bây giờ, ta có được một chứng chỉ RSA được sử dụng để xác thực. Nhiệm vụ là từ chứng chỉ này phân tích được hai số p, q để thu được flag.\n",
    "\n",
    "Đầu tiên, đọc mã vào biến."
   ]
  },
  {
   "cell_type": "code",
   "execution_count": 18,
   "metadata": {},
   "outputs": [
    {
     "name": "stdout",
     "output_type": "stream",
     "text": [
      "N: 4966306421059967\n",
      "e: 65537\n",
      "picoCTF{73176001,67867967}\n",
      "picoCTF{67867967,73176001}\n"
     ]
    }
   ],
   "source": [
    "from cryptography import x509\n",
    "from cryptography.hazmat.backends import default_backend\n",
    "from cryptography.hazmat.primitives.asymmetric import rsa\n",
    "import base64\n",
    "import sympy\n",
    "from itertools import permutations\n",
    "from pprint import pprint\n",
    "\n",
    "# Đọc chứng chỉ từ file\n",
    "with open(\"cert\", \"rb\") as cert_file:\n",
    "    certificate_pem = cert_file.read()\n",
    "\n",
    "# Giải mã chứng chỉ\n",
    "certificate = x509.load_pem_x509_certificate(certificate_pem, default_backend())\n",
    "\n",
    "# Lấy khóa công khai từ chứng chỉ\n",
    "public_key = certificate.public_key()\n",
    "\n",
    "# Kiểm tra nếu là khóa RSA\n",
    "if isinstance(public_key, rsa.RSAPublicKey):\n",
    "    # Trích xuất modulus và số mũ công khai\n",
    "    public_numbers = public_key.public_numbers()\n",
    "    modulus = public_numbers.n\n",
    "    exponent = public_numbers.e\n",
    "    \n",
    "    # Hiển thị modulus và số mũ\n",
    "    print(\"N:\", modulus)\n",
    "    print(\"e:\", exponent)\n",
    "    \n",
    "    # Trích xuất ra p, q:\n",
    "    factors = sympy.factorint(modulus)\n",
    "    pq_lst = list(factors.keys())\n",
    "    \n",
    "    # Lấy tất cả hoán vị của mảng\n",
    "    permutations_list = list(permutations(pq_lst))\n",
    "    \n",
    "    flag = \"picoCTF{\"\n",
    "    for pq in permutations_list:\n",
    "        temp = flag + \",\".join(map(str, pq)) + \"}\"\n",
    "        print(temp)\n",
    "else:\n",
    "    print(\"Không phải là khóa RSA.\")\n",
    "\n",
    "# Flag: picoCTF{73176001,67867967}"
   ]
  }
 ],
 "metadata": {
  "kernelspec": {
   "display_name": "CTF",
   "language": "python",
   "name": "python3"
  },
  "language_info": {
   "codemirror_mode": {
    "name": "ipython",
    "version": 3
   },
   "file_extension": ".py",
   "mimetype": "text/x-python",
   "name": "python",
   "nbconvert_exporter": "python",
   "pygments_lexer": "ipython3",
   "version": "3.11.2"
  }
 },
 "nbformat": 4,
 "nbformat_minor": 2
}
