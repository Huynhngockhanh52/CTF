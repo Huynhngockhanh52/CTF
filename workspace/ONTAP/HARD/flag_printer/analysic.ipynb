{
 "cells": [
  {
   "cell_type": "markdown",
   "metadata": {},
   "source": [
    "#### **Bước 1. Phân tích các phương thức có trong chương trình**\n",
    "**Bài toán:** Tôi đã tạo một chương trình để giải quyết một vấn đề, nhưng có vẻ như nó quá chậm.\n",
    "\n",
    "Tải chương trình tại đây .\n",
    "Tải xuống tin nhắn tại đây .\n",
    "\n",
    "**Hint:** \n",
    "- $ax^2 + bx+c$"
   ]
  },
  {
   "cell_type": "markdown",
   "metadata": {},
   "source": [
    "**Phân tích**\n",
    "\n",
    "- Lý thuyết về **`Galois`**: Thư viện Galois là một thư viện trong Python cho phép bạn thực hiện các phép toán trên trường Galois, một khái niệm quan trọng trong lý thuyết số và mật mã học. Trường Galois là một cấu trúc đại số giúp giải quyết các bài toán liên quan đến đa thức và mã hóa."
   ]
  },
  {
   "cell_type": "code",
   "execution_count": 9,
   "metadata": {},
   "outputs": [
    {
     "name": "stdout",
     "output_type": "stream",
     "text": [
      "[1 3 6 2 5 3]\n"
     ]
    }
   ],
   "source": [
    "import galois\n",
    "\n",
    "p = 7\n",
    "GF = galois.GF(p)\n",
    "\n",
    "a = GF(5)           # Số phải nhỏ hơn p, nếu lớn hơn thì sẽ thông báo lỗi\n",
    "b = GF(2)\n",
    "\n",
    "c = GF([1, 3, 6, 2, 5, 3])\n",
    "print(c)\n",
    "\n"
   ]
  },
  {
   "cell_type": "markdown",
   "metadata": {},
   "source": [
    "##### ***1.1. Phân tích chương trình***"
   ]
  },
  {
   "cell_type": "code",
   "execution_count": 5,
   "metadata": {},
   "outputs": [],
   "source": [
    "import galois\n",
    "import numpy as np\n",
    "\n",
    "MOD = 7514777789"
   ]
  },
  {
   "cell_type": "markdown",
   "metadata": {},
   "source": [
    "- **1. Đọc dữ liệu từ Flie**\n",
    "    - Đoạn mã này mở tệp `encoded.txt` và đọc tất cả các dòng trong tệp.\n",
    "    - Mỗi dòng được giả định chứa một cặp số `x` và `y` cách nhau bằng một dấu cách.\n",
    "    - Các cặp số này được chuyển đổi thành kiểu số nguyên và được lưu vào danh sách `points`."
   ]
  },
  {
   "cell_type": "code",
   "execution_count": null,
   "metadata": {},
   "outputs": [],
   "source": [
    "points = []\n",
    "for line in open('encoded.txt', 'r').read().strip().split('\\n'):\n",
    "    x, y = line.split(' ')\n",
    "    points.append((int(x), int(y)))\n",
    "\n",
    "GF = galois.GF(MOD)"
   ]
  },
  {
   "cell_type": "markdown",
   "metadata": {},
   "source": [
    "- **2. Chuẩn bị ma trận và giải phương trình**\n",
    "    - `matrix`: Ma trận sẽ chứa các hệ số của hệ phương trình.\n",
    "    - `solution`: Danh sách chứa các giá trị `y` đã được chuẩn hóa trong trường Galois.\n",
    "    - Đoạn mã này lặp qua từng điểm trong `points`:\n",
    "        - `y` được thêm vào danh sách `solution`.\n",
    "        - Tạo một hàng `row` cho ma trận, trong đó mỗi phần tử là `x` được nâng lên lũy thừa từ `0` đến `len(points) - 1`, sau đó tính `mod` với `MOD` và chuyển sang trường Galois.\n",
    "        - Hàng này sau đó được thêm vào `matrix`."
   ]
  },
  {
   "cell_type": "code",
   "execution_count": null,
   "metadata": {},
   "outputs": [],
   "source": [
    "matrix = []\n",
    "solution = []\n",
    "for point in points:\n",
    "    x, y = point\n",
    "    solution.append(GF(y % MOD))\n",
    "\n",
    "    row = []\n",
    "    for i in range(len(points)):\n",
    "        row.append(GF((x ** i) % MOD))\n",
    "    \n",
    "    matrix.append(GF(row))"
   ]
  },
  {
   "cell_type": "markdown",
   "metadata": {},
   "source": [
    "- **3. Giải hệ phương trình tuyến tính và kết xuất kết quả**\n",
    "    - Sử dụng `np.linalg.solve` để giải hệ phương trình tuyến tính dưới dạng ma trận `matrix` và danh sách `solution`. Kết quả trả về là các giá trị của biến, tương ứng với các giá trị byte mà bạn cần để tạo ra tệp hình ảnh.\n",
    "    - Kết quả sau đó được chuyển đổi thành một mảng byte và ghi vào tệp `output.bmp` với chế độ ghi nhị phân `('wb')`."
   ]
  },
  {
   "cell_type": "code",
   "execution_count": null,
   "metadata": {},
   "outputs": [],
   "source": [
    "# open('output.bmp', 'wb').write(bytearray(np.linalg.solve(GF(matrix), GF(solution)).tolist()[:-1]))\n"
   ]
  },
  {
   "cell_type": "markdown",
   "metadata": {},
   "source": [
    "##### ***1.2. Định hướng chương trình***"
   ]
  },
  {
   "cell_type": "markdown",
   "metadata": {},
   "source": [
    "- Dựa trên luồng chương trình, có thể chương trình đang gặp vấn đề tại việc tính toán hàng `row` cho ma trận. Ta có thể tính toán điểm này bằng cách, cho chương trình chạy, nếu gặp lại một số đồng dư giống nhau thì dừng lại. Sau đó, tính toán độ dài hiện tại, và nhân kích thước mảng lên là xong.\n",
    " \n",
    "- \n",
    "\n",
    "Sau đây, ta thực hiện viết code"
   ]
  },
  {
   "cell_type": "code",
   "execution_count": 13,
   "metadata": {},
   "outputs": [],
   "source": [
    "import galois\n",
    "import numpy as np\n",
    "\n",
    "MOD = 7514777789\n",
    "\n",
    "points = []\n",
    "for line in open('encoded.txt', 'r').read().strip().split('\\n'):\n",
    "    x, y = line.split(' ')\n",
    "    points.append((int(x), int(y)))\n",
    "\n",
    "GF = galois.GF(MOD)"
   ]
  },
  {
   "cell_type": "code",
   "execution_count": null,
   "metadata": {},
   "outputs": [],
   "source": [
    "len_points = len(points)\n",
    "\n",
    "# Chỉnh sửa lại quy trình sau:\n",
    "matrix = []\n",
    "solution = []\n",
    "for point in points:\n",
    "    x, y = point\n",
    "    solution.append(GF(y % MOD))\n",
    "\n",
    "    row = []\n",
    "    # Tại đây\n",
    "    loop_x = 1\n",
    "    # mod_x = GF(x % MOD)\n",
    "    row.append(GF(x % MOD))\n",
    "    for i in range(2, len(points)):\n",
    "        mod_x = GF((x ** i) % MOD)\n",
    "        if mod_x == row[0]:\n",
    "            loop_x = i\n",
    "            break\n",
    "        else:\n",
    "            row.append(mod_x)\n",
    "    \n",
    "    if (x == 9):\n",
    "        break\n",
    "    print(len(row), row)\n",
    "    \n",
    "    \n",
    "    matrix.append(GF(row))\n"
   ]
  },
  {
   "cell_type": "markdown",
   "metadata": {},
   "source": [
    "https://ctftime.org/writeup/39181 \n",
    "có phương pháp tính đa thức Lagrange"
   ]
  }
 ],
 "metadata": {
  "kernelspec": {
   "display_name": "CTF",
   "language": "python",
   "name": "python3"
  },
  "language_info": {
   "codemirror_mode": {
    "name": "ipython",
    "version": 3
   },
   "file_extension": ".py",
   "mimetype": "text/x-python",
   "name": "python",
   "nbconvert_exporter": "python",
   "pygments_lexer": "ipython3",
   "version": "3.11.2"
  }
 },
 "nbformat": 4,
 "nbformat_minor": 2
}
