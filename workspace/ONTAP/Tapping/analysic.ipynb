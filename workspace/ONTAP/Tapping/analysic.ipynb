{
 "cells": [
  {
   "cell_type": "markdown",
   "metadata": {},
   "source": [
    "#### **Bước 1. Phân tích các phương thức có trong chương trình**\n",
    "**Bài toán:** Có tiếng gõ phát ra từ các dây điện. Nó đang nói gì vậy nc jupiter.challenges.picoctf.org 48247?\n",
    "\n",
    "**Hint:** \n",
    "- Loại mã hóa nào sử dụng dấu gạch ngang và dấu chấm?\n",
    "- Cờ có định dạng `PICOCTF{}`\n",
    "\n"
   ]
  },
  {
   "attachments": {
    "image.png": {
     "image/png": "[encoded data removed]"
    }
   },
   "cell_type": "markdown",
   "metadata": {},
   "source": [
    "**Phân tích**\n",
    "\n",
    "Khi kết nối `ncat jupiter.challenges.picoctf.org 48247`, ta thu được mã Morse:\n",
    "![image.png](attachment:image.png)\n",
    "**Cách giải quyết** \n",
    "\n",
    "Viết chương trình dịch mã"
   ]
  },
  {
   "cell_type": "code",
   "execution_count": 8,
   "metadata": {},
   "outputs": [
    {
     "name": "stdout",
     "output_type": "stream",
     "text": [
      "[x] Opening connection to jupiter.challenges.picoctf.org on port 48247\n",
      "[x] Opening connection to jupiter.challenges.picoctf.org on port 48247: Trying 3.131.60.8\n",
      "[+] Opening connection to jupiter.challenges.picoctf.org on port 48247: Done\n",
      "PICOCTF{M0RS3C0D31SFUN1261438181}\n"
     ]
    }
   ],
   "source": [
    "from pwn import *\n",
    "from Crypto.Util.number import *\n",
    "import subprocess\n",
    "from IPython.display import clear_output\n",
    "\n",
    "# Mảng chữ cái và mã Morse tương ứng\n",
    "letters = [\n",
    "    'A', 'B', 'C', 'D', 'E', 'F', 'G', 'H', 'I', 'J',\n",
    "    'K', 'L', 'M', 'N', 'O', 'P', 'Q', 'R', 'S', 'T',\n",
    "    'U', 'V', 'W', 'X', 'Y', 'Z'\n",
    "]\n",
    "\n",
    "morse_letters = [\n",
    "    '.-', '-...', '-.-.', '-..', '.', '..-.', '--.', '....', '..', '.---',\n",
    "    '-.-', '.-..', '--', '-.', '---', '.--.', '--.-', '.-.', '...', '-',\n",
    "    '..-', '...-', '.--', '-..-', '-.--', '--..'\n",
    "]\n",
    "\n",
    "# Mảng chứa các chữ số và mảng mã Morse tương ứng\n",
    "digits = ['0', '1', '2', '3', '4', '5', '6', '7', '8', '9']\n",
    "\n",
    "morse_digits = [\n",
    "    '-----',  # 0\n",
    "    '.----',  # 1\n",
    "    '..---',  # 2\n",
    "    '...--',  # 3\n",
    "    '....-',  # 4\n",
    "    '.....',  # 5\n",
    "    '-....',  # 6\n",
    "    '--...',  # 7\n",
    "    '---..',  # 8\n",
    "    '----.'   # 9\n",
    "]\n",
    "\n",
    "char_lst = letters + digits\n",
    "morse_lst = morse_letters + morse_digits\n",
    "\n",
    "char_mapping = {morse_lst[i]: char_lst[i] for i in range(len(morse_lst))}\n",
    "\n",
    "# Tạo một conection remote:\n",
    "port = 48247\n",
    "r = remote('jupiter.challenges.picoctf.org', port)\n",
    "\n",
    "# Lấy flag được mã hóa\n",
    "flag_enc = r.recvline(keepends=False).strip().decode()\n",
    "\n",
    "flag_enc_lst = flag_enc.split()\n",
    "flag = []\n",
    "for block in flag_enc_lst:\n",
    "    if block in char_mapping:\n",
    "        flag.append(char_mapping[block])\n",
    "    else:\n",
    "        flag.append(block)\n",
    "print(\"\".join(flag))"
   ]
  }
 ],
 "metadata": {
  "kernelspec": {
   "display_name": "CTF",
   "language": "python",
   "name": "python3"
  },
  "language_info": {
   "codemirror_mode": {
    "name": "ipython",
    "version": 3
   },
   "file_extension": ".py",
   "mimetype": "text/x-python",
   "name": "python",
   "nbconvert_exporter": "python",
   "pygments_lexer": "ipython3",
   "version": "3.11.2"
  }
 },
 "nbformat": 4,
 "nbformat_minor": 2
}
