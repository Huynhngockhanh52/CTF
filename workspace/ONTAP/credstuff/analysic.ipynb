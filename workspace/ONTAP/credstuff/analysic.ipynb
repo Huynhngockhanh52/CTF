{
 "cells": [
  {
   "cell_type": "markdown",
   "metadata": {},
   "source": [
    "#### **Bước 1. Phân tích các phương thức có trong chương trinh**\n",
    "**Bài toán:** Chúng tôi đã tìm thấy thông tin đăng nhập của một trang web chợ đen bị rò rỉ. Bạn có thể tìm thấy mật khẩu của người dùng `cultiris` và giải mã thành công không?\n",
    "\n",
    "Người dùng đầu tiên trong `usernames.txt` tương ứng với mật khẩu đầu tiên trong `passwords.txt`. Người dùng thứ hai tương ứng với mật khẩu thứ hai, v.v.\n",
    "\n",
    "**Hint:** \n",
    "- Các mật khẩu khác sẽ gợi ý về phương thức mã hóa\n",
    "\n",
    "**Phân tích**"
   ]
  },
  {
   "cell_type": "markdown",
   "metadata": {},
   "source": [
    "##### ***1.1. Viết hàm lấy mật khẩu và username tương ứng của người dùng `cultiris`***"
   ]
  },
  {
   "cell_type": "code",
   "execution_count": 2,
   "metadata": {},
   "outputs": [
    {
     "name": "stdout",
     "output_type": "stream",
     "text": [
      "cultiris cvpbPGS{P7e1S_54I35_71Z3}\n"
     ]
    }
   ],
   "source": [
    "# Thực hiện giải mã:\n",
    "username = \"cultiris\"\n",
    "password = \"\"\n",
    "idx_target = None\n",
    "with open('usernames.txt', 'r') as file:\n",
    "    users_lst = file.readlines()\n",
    "for idx, line in enumerate(users_lst):\n",
    "    if line.strip() == username:\n",
    "        idx_target = idx\n",
    "        break\n",
    "\n",
    "if idx_target is not None:\n",
    "    with open('passwords.txt', 'r') as file:\n",
    "        pass_lst = file.readlines()\n",
    "        assert idx_target < len(pass_lst)\n",
    "        password = pass_lst[idx_target].strip()\n",
    "print(username, password)"
   ]
  },
  {
   "cell_type": "markdown",
   "metadata": {},
   "source": [
    "- Dễ thấy flag giống với `picoCTF{}`, nhưng ta không biết phương thức mã hóa\n",
    "- Tương tự ta có thể thấy `c -> p`\n",
    "- Thử biến đổi thay thế để xem mật khẩu"
   ]
  },
  {
   "cell_type": "code",
   "execution_count": null,
   "metadata": {},
   "outputs": [],
   "source": [
    "flag_enc  = \"cvpbPGS{P7e1S_54I35_71Z3}\"\n",
    "flag_form = \"picoCTF{P7e1S_54I35_71Z3}\"\n",
    "# Suy ra: p -> v; i -> q; c -> k; o -> m; t -> f; f -> l\n",
    "\n",
    "original_chars = \"abcdefghijklmnopqrstuvwxyz\"\n",
    "encrypts_chars = \"**p**s**v*****bc***g******\"\n"
   ]
  },
  {
   "cell_type": "markdown",
   "metadata": {},
   "source": [
    "Nhìn vào đây, có thể thấy, mô hình giống Caeser với `n -> a`; ..."
   ]
  },
  {
   "cell_type": "code",
   "execution_count": 12,
   "metadata": {},
   "outputs": [
    {
     "name": "stdout",
     "output_type": "stream",
     "text": [
      "picoCTF{C7r1F_54V35_71M3}\n"
     ]
    }
   ],
   "source": [
    "def caesar_encrypt(plaintext, shift):\n",
    "    encrypted_text = \"\"\n",
    "    for char in plaintext:\n",
    "        if char.isalpha():  # Kiểm tra nếu ký tự là chữ cái\n",
    "            shift_base = ord('A') if char.isupper() else ord('a')  # Xác định bảng chữ cái A-Z (65) hoặc a-z (97)\n",
    "            \n",
    "            encrypted_text += chr((ord(char) - shift_base + shift) % 26 + shift_base)\n",
    "        else:\n",
    "            encrypted_text += char  # Giữ nguyên các ký tự không phải chữ cái\n",
    "    return encrypted_text\n",
    "\n",
    "def caesar_decrypt(ciphertext, shift):\n",
    "    decrypted_text = \"\"\n",
    "    \n",
    "    for char in ciphertext:\n",
    "        if char.isalpha():  \n",
    "            shift_base = ord('A') if char.isupper() else ord('a')  \n",
    "            \n",
    "            decrypted_text += chr((ord(char) - shift_base - shift) % 26 + shift_base)\n",
    "        else:\n",
    "            decrypted_text += char\n",
    "    return decrypted_text\n",
    "\n",
    "plaintext = caesar_decrypt(password, ord('n')-ord('a'))\n",
    "print(plaintext)"
   ]
  }
 ],
 "metadata": {
  "kernelspec": {
   "display_name": "CTF",
   "language": "python",
   "name": "python3"
  },
  "language_info": {
   "codemirror_mode": {
    "name": "ipython",
    "version": 3
   },
   "file_extension": ".py",
   "mimetype": "text/x-python",
   "name": "python",
   "nbconvert_exporter": "python",
   "pygments_lexer": "ipython3",
   "version": "3.11.2"
  }
 },
 "nbformat": 4,
 "nbformat_minor": 2
}
