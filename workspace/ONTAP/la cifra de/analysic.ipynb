{
 "cells": [
  {
   "cell_type": "markdown",
   "metadata": {},
   "source": [
    "#### **Bước 1. Phân tích các phương thức có trong chương trình**\n",
    "**Bài toán:** Tôi tìm thấy mật mã này trong một cuốn sách cũ. Bạn có thể hiểu được nó nói gì không? Kết nối với `nc jupiter.challenges.picoctf.org 5726`.\n",
    "\n",
    "**Hint:** \n",
    "- Có những công cụ giúp việc này trở nên dễ dàng.\n",
    "- Có lẽ việc nhìn lại lịch sử sẽ giúp ích\n"
   ]
  },
  {
   "cell_type": "markdown",
   "metadata": {},
   "source": [
    "**Phân tích**\n",
    "\n",
    "Nhìn vào bài toán, ta có thể thấy, đây có thể làm một bài toán mã hóa thay thế.\n",
    "\n",
    "Bây  giờ, trước hết, ta lấy dữ liệu cần mã hóa:\n",
    "\n",
    "Nhìn vào flag, ta có thể thấy, đây không phải là mật mã thay thế. Ta có thể sử dụng `Vigenère` để thử giải mã"
   ]
  },
  {
   "cell_type": "code",
   "execution_count": 2,
   "metadata": {},
   "outputs": [
    {
     "name": "stdout",
     "output_type": "stream",
     "text": [
      "[x] Opening connection to jupiter.challenges.picoctf.org on port 5726\n",
      "[x] Opening connection to jupiter.challenges.picoctf.org on port 5726: Trying 3.131.60.8\n",
      "[+] Opening connection to jupiter.challenges.picoctf.org on port 5726: Done\n"
     ]
    },
    {
     "name": "stderr",
     "output_type": "stream",
     "text": [
      "C:\\Users\\Dell\\AppData\\Local\\Temp\\ipykernel_13828\\2371226947.py:7: BytesWarning: Text is not bytes; assuming ASCII, no guarantees. See https://docs.pwntools.com/#bytes\n",
      "  get_success = r.recvuntil('Encrypted message:\\n').decode()\n"
     ]
    },
    {
     "name": "stdout",
     "output_type": "stream",
     "text": [
      "[*] Closed connection to jupiter.challenges.picoctf.org port 5726\n"
     ]
    },
    {
     "name": "stderr",
     "output_type": "stream",
     "text": [
      "C:\\Users\\Dell\\AppData\\Local\\Temp\\ipykernel_13828\\2371226947.py:8: BytesWarning: Text is not bytes; assuming ASCII, no guarantees. See https://docs.pwntools.com/#bytes\n",
      "  cipher = r.recvuntil('\\n\\n\\n').decode()\n"
     ]
    }
   ],
   "source": [
    "from pwn import *\n",
    "\n",
    "# Tạo một conection remote:\n",
    "port = 5726\n",
    "r = remote('jupiter.challenges.picoctf.org', port)\n",
    "\n",
    "get_success = r.recvuntil('Encrypted message:\\n').decode()\n",
    "cipher = r.recvuntil('\\n\\n\\n').decode()\n",
    "r.close()"
   ]
  },
  {
   "cell_type": "markdown",
   "metadata": {},
   "source": [
    "Nhìn vào flag, có thể đoán ra, key chỉ gồm 4 chữ cái, và trong đó sẽ có một chữ `a`, hãy thử hoán vị từ `flag` và tính toán\n",
    "\n",
    "**Tham khảo**   https://github.com/kevinjycui/picoCTF-2019-writeup/blob/master/Cryptography/la%20cifra%20de/README.md "
   ]
  },
  {
   "cell_type": "code",
   "execution_count": 19,
   "metadata": {},
   "outputs": [
    {
     "name": "stdout",
     "output_type": "stream",
     "text": [
      "picoCTF{b311a50_0r_v1gn3r3_c1ph3r6fe60eaa}\n"
     ]
    }
   ],
   "source": [
    "flag_enc = \"pohzCZK{m311a50_0x_a1rn3x3_h1ah3x6kp60egf}\"\n",
    "flag     = \"picoCTF{.................................}\"\n",
    "\n",
    "def vigenere_encrypt(plaintext, key):\n",
    "    key = key.lower()  # Khóa được chuyển sang chữ thường\n",
    "    ciphertext = []\n",
    "    key_index = 0\n",
    "    \n",
    "    for char in plaintext:\n",
    "        if char.isalpha():  \n",
    "            if char.islower():\n",
    "                shift = (ord(char) - ord('a') + ord(key[key_index]) - ord('a')) % 26\n",
    "                ciphertext.append(chr(shift + ord('a')))\n",
    "            else:\n",
    "                shift = (ord(char.lower()) - ord('A') + ord(key[key_index]) - ord('a')) % 26\n",
    "                ciphertext.append(chr(shift + ord('A')))\n",
    "            \n",
    "            key_index = (key_index + 1) % len(key)  # Dịch chuyển trong khóa\n",
    "        else:\n",
    "            ciphertext.append(char)  # Bỏ qua ký tự không phải chữ cái\n",
    "    \n",
    "    return ''.join(ciphertext)\n",
    "\n",
    "def vigenere_decrypt(ciphertext, key):\n",
    "    key = key.lower()  # Khóa được chuyển sang chữ thường\n",
    "    # ciphertext = ciphertext.lower()\n",
    "    plaintext = []\n",
    "    key_index = 0\n",
    "    \n",
    "    for char in ciphertext:\n",
    "        if char.isalpha(): \n",
    "            if char.islower():\n",
    "                shift = (ord(char) - ord(key[key_index]) + 26) % 26\n",
    "                plaintext.append(chr(shift + ord('a')))\n",
    "            else:\n",
    "                shift = (ord(char.lower()) - ord(key[key_index]) + 26) % 26\n",
    "                plaintext.append(chr(shift + ord('A')))\n",
    "            \n",
    "            key_index = (key_index + 1) % len(key) \n",
    "        else:\n",
    "            plaintext.append(char)  # Bỏ qua ký tự không phải chữ cái\n",
    "    \n",
    "    return ''.join(plaintext)\n",
    "\n",
    "key = \"agfl\"\n",
    "ciphertext = cipher\n",
    "flag = vigenere_decrypt(flag_enc, key)\n",
    "\n",
    "print(flag)"
   ]
  }
 ],
 "metadata": {
  "kernelspec": {
   "display_name": "CTF",
   "language": "python",
   "name": "python3"
  },
  "language_info": {
   "codemirror_mode": {
    "name": "ipython",
    "version": 3
   },
   "file_extension": ".py",
   "mimetype": "text/x-python",
   "name": "python",
   "nbconvert_exporter": "python",
   "pygments_lexer": "ipython3",
   "version": "3.11.2"
  }
 },
 "nbformat": 4,
 "nbformat_minor": 2
}
