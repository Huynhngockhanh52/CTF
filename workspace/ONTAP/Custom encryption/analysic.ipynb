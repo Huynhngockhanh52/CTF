{
 "cells": [
  {
   "cell_type": "markdown",
   "metadata": {},
   "source": [
    "#### **Bước 1. Phân tích các phương thức có trong chương trinh**\n"
   ]
  },
  {
   "cell_type": "code",
   "execution_count": 6,
   "metadata": {},
   "outputs": [],
   "source": [
    "from random import randint\n",
    "import sys"
   ]
  },
  {
   "cell_type": "markdown",
   "metadata": {},
   "source": [
    "##### ***1.1. generator(g, x, p)***\n",
    "Tính toán: $(g^x) \\mod p $"
   ]
  },
  {
   "cell_type": "code",
   "execution_count": 7,
   "metadata": {},
   "outputs": [],
   "source": [
    "def generator(g, x, p):\n",
    "    return pow(g, x) % p"
   ]
  },
  {
   "cell_type": "markdown",
   "metadata": {},
   "source": [
    "##### ***1.2. encrypt(plaintext, key)***\n",
    "Phương thức mã hóa một chuỗi văn bản (plaintext) bằng cách nhân mã ASCII của từng ký tự với một khóa (key) và một hằng số (311).\n",
    "1. Lặp từng ký tự trong `plaintext`\n",
    "2. Mỗi ký tự --> ASCII: $c = \\text{ord}(c) \\times key \\times 311$\n",
    "3. Mỗi phần tử lưu vào mảng `cipher`, trả về mảng `cipher`."
   ]
  },
  {
   "cell_type": "code",
   "execution_count": 8,
   "metadata": {},
   "outputs": [],
   "source": [
    "def encrypt(plaintext, key):\n",
    "    cipher = []\n",
    "    for char in plaintext:\n",
    "        cipher.append(((ord(char) * key * 311)))\n",
    "    return cipher"
   ]
  },
  {
   "cell_type": "markdown",
   "metadata": {},
   "source": [
    "##### ***1.3. is_prime(p)***\n",
    "Phương thức kiểm tra `p` có phải là số nguyên tố hay không?"
   ]
  },
  {
   "cell_type": "code",
   "execution_count": 9,
   "metadata": {},
   "outputs": [],
   "source": [
    "def is_prime(p):\n",
    "    v = 0\n",
    "    for i in range(2, p + 1):\n",
    "        if p % i == 0:\n",
    "            v = v + 1\n",
    "    if v > 1:\n",
    "        return False\n",
    "    else:\n",
    "        return True"
   ]
  },
  {
   "cell_type": "markdown",
   "metadata": {},
   "source": [
    "##### ***1.4. dynamic_xor_encrypt(plaintext, text_key)***\n",
    "Phương thức mã hóa văn bản sử dụng phương pháp **`XOR`** với một khóa chuỗi `ext_key`.\n",
    "1. Duyệt từng ký tự theo thứ tự ngược lại trong `plaintext`, lấy chỉ số: `i`\n",
    "2. Lấy ký tự tương ứng từ `text_key` theo chỉ số `i`.\n",
    "3. Thực hiện phép **`XOR`** giữa mã ASCII của `char` và `key_char`, sau đó chuyển đổi giá trị trở lại thành ký tự --> Lưu vào `cipher_text`"
   ]
  },
  {
   "cell_type": "code",
   "execution_count": 10,
   "metadata": {},
   "outputs": [],
   "source": [
    "def dynamic_xor_encrypt(plaintext, text_key):\n",
    "    cipher_text = \"\"\n",
    "    key_length = len(text_key)\n",
    "    for i, char in enumerate(plaintext[::-1]):\n",
    "        key_char = text_key[i % key_length]\n",
    "        encrypted_char = chr(ord(char) ^ ord(key_char))\n",
    "        cipher_text += encrypted_char\n",
    "    return cipher_text"
   ]
  },
  {
   "cell_type": "markdown",
   "metadata": {},
   "source": [
    "##### ***1.5. test(plain_text, text_key)***\n",
    "Phương thức thực hiện quy trình mã hóa văn bản sử dụng các phương thức khác nhau.\n",
    "1. Cho `p` và `g` là hai số nguyên tố\n",
    "2. Lấy ngẫu nhiên $a \\in (p-10, p)$ và $b \\in (g-10, g)$\n",
    "3. Sinh ra hai bộ tạo `u`, `v` với: $u = \\text{generator}(g, a, p)$ và $v = \\text{generator}(g, b, p)$\n",
    "4. Sinh ra hai bộ tạo `key` và `b_key` với: $key = \\text{generator}(v, a, p)$ và $b\\_key = \\text{generator}(u, b, p)$. Điều này nghĩa là:\n",
    "$ key = (g^b)^a \\mod p = b\\_key$\n",
    "5. Tạo một $share\\_key = key$\n",
    "6. Thực hiện: `semi_cipher = dynamic_xor_encrypt(plain_text, text_key)`\n",
    "7. Thực hiện: `cipher = encrypt(semi_cipher, shared_key)`\n",
    "8. Trả về `cipher`"
   ]
  },
  {
   "cell_type": "code",
   "execution_count": 11,
   "metadata": {},
   "outputs": [],
   "source": [
    "def test(plain_text, text_key):\n",
    "    p = 97\n",
    "    g = 31\n",
    "    if not is_prime(p) and not is_prime(g):\n",
    "        print(\"Enter prime numbers\")\n",
    "        return\n",
    "    a = randint(p-10, p)\n",
    "    b = randint(g-10, g)\n",
    "    print(f\"a = {a}\")\n",
    "    print(f\"b = {b}\")\n",
    "    u = generator(g, a, p)\n",
    "    v = generator(g, b, p)\n",
    "    key = generator(v, a, p)\n",
    "    b_key = generator(u, b, p)\n",
    "    shared_key = None\n",
    "    if key == b_key:\n",
    "        shared_key = key\n",
    "    else:\n",
    "        print(\"Invalid key\")\n",
    "        return\n",
    "    semi_cipher = dynamic_xor_encrypt(plain_text, text_key)\n",
    "    cipher = encrypt(semi_cipher, shared_key)\n",
    "    print(f'cipher is: {cipher}')"
   ]
  },
  {
   "cell_type": "markdown",
   "metadata": {},
   "source": [
    "#### **Bước 2. Hiểu chương trình**\n",
    "Chương trình cho trước 02 biến: $a = 94$ và $b = 21$. Các tham số $p=97$ và $g=31$\n",
    "\n",
    "**Yêu cầu:** Phải giải mã được thông điệp message từ biến `cipher` cho trước\n",
    "\n",
    "1. Ta có thể tính được `share_key`: \n",
    "$$share\\_key = (g^a)^b \\mod p$$\n",
    "2. Thực hiện chia ngược lại bằng hàm decrypt, ta được một biến `semi_decrypt`: \n",
    "$$semi\\_decrypt = \\text{round}\\left(\\frac{item}{311 \\times share\\_key}\\right)$$\n",
    "3. Chuyển cipher thành các ký tự rồi tiếp tục sử dụng hàm `dynamic_xor_encrypt`, vì bản chất $$a \\oplus b \\oplus b = a$$\n"
   ]
  },
  {
   "cell_type": "code",
   "execution_count": 30,
   "metadata": {},
   "outputs": [
    {
     "name": "stdout",
     "output_type": "stream",
     "text": [
      "[9, 68, 66, 93, 3, 80, 65, 22, 74, 42, 0, 83, 21, 5, 68, 0, 22, 86, 1, 62, 24, 27, 6, 6, 17, 6, 26, 51, 32, 49, 26, 7, 12, 17]\n",
      "picoCTF{custom_d2cr0pt6d_8b41f976}\n",
      "47\n"
     ]
    }
   ],
   "source": [
    "# Đọc nội dung từ tệp\n",
    "with open('enc_flag', 'r') as file:\n",
    "    lines = file.readlines()\n",
    "\n",
    "# Khởi tạo biến\n",
    "a = None\n",
    "b = None\n",
    "cipher = []\n",
    "\n",
    "# Trích xuất giá trị từ các dòng\n",
    "for line in lines:\n",
    "    if line.startswith('a ='):\n",
    "        a = int(line.split('=')[1].strip())\n",
    "    elif line.startswith('b ='):\n",
    "        b = int(line.split('=')[1].strip())\n",
    "    elif line.startswith('cipher is:'):\n",
    "        cipher = eval(line.split(':')[1].strip())\n",
    "\n",
    "p = 97\n",
    "g = 31\n",
    "\n",
    "key = generator(generator(g, b, p), a, p)\n",
    "\n",
    "# Định nghĩa một phương thức decrypt():\n",
    "def decrypt(cipher:list, key: int) -> str:\n",
    "    s = []\n",
    "    plaintext = \"\"\n",
    "    for item in cipher:\n",
    "        num = item // (key * 311)\n",
    "        s.append(num)\n",
    "        char = chr(num)\n",
    "        plaintext += char\n",
    "    print(s)\n",
    "    return plaintext, s\n",
    "\n",
    "semi_plaintext, plaintext_arr = decrypt(cipher, key)\n",
    "def dynamic_xor_decrypt(plaintext_arr, text_key):\n",
    "    cipher_text = \"\"\n",
    "    key_length = len(text_key)\n",
    "    for i, char in enumerate(plaintext_arr):\n",
    "        key_char = text_key[i % key_length]\n",
    "        encrypted_char = chr(char ^ ord(key_char))\n",
    "        cipher_text += encrypted_char\n",
    "    cipher_text = cipher_text[::-1]\n",
    "    return cipher_text\n",
    "\n",
    "plaintext = dynamic_xor_decrypt(plaintext_arr, \"trudeau\")\n",
    "print(plaintext)\n",
    "\n",
    "print(key)"
   ]
  }
 ],
 "metadata": {
  "kernelspec": {
   "display_name": "CTF",
   "language": "python",
   "name": "python3"
  },
  "language_info": {
   "codemirror_mode": {
    "name": "ipython",
    "version": 3
   },
   "file_extension": ".py",
   "mimetype": "text/x-python",
   "name": "python",
   "nbconvert_exporter": "python",
   "pygments_lexer": "ipython3",
   "version": "3.11.2"
  }
 },
 "nbformat": 4,
 "nbformat_minor": 2
}
