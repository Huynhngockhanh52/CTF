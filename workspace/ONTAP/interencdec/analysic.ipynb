{
 "cells": [
  {
   "cell_type": "code",
   "execution_count": 66,
   "metadata": {},
   "outputs": [
    {
     "name": "stdout",
     "output_type": "stream",
     "text": [
      "picoCTF{caesar_d3cr9pt3d_890d2379}\n"
     ]
    }
   ],
   "source": [
    "import base64\n",
    "\n",
    "# Chuỗi cần giải mã\n",
    "with open('enc_flag', 'rb') as file:\n",
    "    flag_enc = file.readline().strip()\n",
    "\n",
    "# print(flag_enc)\n",
    "\n",
    "b64decode1 = base64.b64decode(flag_enc).decode()\n",
    "b64decode1 = b64decode1.replace(\"b'\", \"\").replace(\"'\", \"\")\n",
    "b64decode2 = base64.b64decode(b64decode1).decode()\n",
    "\n",
    "flag_base_decode = \"wpjvJAM{jhlzhy_k3jy9wa3k_890k2379}\"\n",
    "flag             = \"picoCTF{.........................}\"\n",
    "\n",
    "original_chars = \"abcdefghijklmnopqrstuvwxyz\"\n",
    "encrypts_chars = \"**j**m**p*****vw***a******\"\n",
    "# ==> Caeser cipher\n",
    "\n",
    "def caesar_decrypt(ciphertext, key):\n",
    "    plaintext = \"\"\n",
    "    for char in ciphertext:\n",
    "        if char.isalpha():\n",
    "            shift = key % 26 \n",
    "            ascii_offset = ord('A') if char.isupper() else ord('a')\n",
    "            new_char = chr((ord(char) - ascii_offset - shift) % 26 + ascii_offset)\n",
    "            plaintext += new_char\n",
    "        else:\n",
    "            plaintext += char \n",
    "    return plaintext\n",
    "\n",
    "flag = caesar_decrypt(b64decode2, 26 - ord('t') + ord('a'))\n",
    "print(flag)"
   ]
  }
 ],
 "metadata": {
  "kernelspec": {
   "display_name": "CTF",
   "language": "python",
   "name": "python3"
  },
  "language_info": {
   "codemirror_mode": {
    "name": "ipython",
    "version": 3
   },
   "file_extension": ".py",
   "mimetype": "text/x-python",
   "name": "python",
   "nbconvert_exporter": "python",
   "pygments_lexer": "ipython3",
   "version": "3.11.2"
  }
 },
 "nbformat": 4,
 "nbformat_minor": 2
}
