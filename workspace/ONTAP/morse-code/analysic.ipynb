{
 "cells": [
  {
   "cell_type": "markdown",
   "metadata": {},
   "source": [
    "#### **Bước 1. Phân tích các phương thức có trong chương trình**\n",
    "**Bài toán:** Mã Morse rất nổi tiếng. Bạn có thể giải mã được không?\n",
    "\n",
    "Tải xuống tệp ở đây .\n",
    "\n",
    "Bao bọc câu trả lời của bạn bằng picoCTF{}, đặt dấu gạch dưới thay cho dấu ngắt và sử dụng toàn bộ chữ thường.\n",
    "\n",
    "**Hint:** \n",
    "- Có lẽ có cách nào đó để biến nó thành miếng lót 2x\n",
    "- Audacity là một chương trình thực sự tốt để phân tích âm thanh mã morse.\n",
    "\n",
    "\n",
    "**Tham khảo** https://medium.com/@cjohngalvan/picoctf-morse-code-94c8d191d27a\n",
    "\n",
    "**Phân tích**\n",
    "\n",
    "Sử dụng công cụ https://morsecode.world/international/decoder/audio-decoder-adaptive.html. Sau đó, upload file và máy sẽ đọc dữ liệu.\n",
    "\n",
    "Hoặc các công cụ khác:\n",
    "- https://morsecode.world/international/decoder/audio-decoder-adaptive.html\n",
    "- https://morsecode.world/international/decoder/audio-decoder-expert.html\n",
    "- https://databorder.com/transfer/morse-sound-receiver/\n",
    "\n",
    "Nhớ rằng dấu `\" \"` thay bằng `\"_\"`"
   ]
  }
 ],
 "metadata": {
  "kernelspec": {
   "display_name": "CTF",
   "language": "python",
   "name": "python3"
  },
  "language_info": {
   "codemirror_mode": {
    "name": "ipython",
    "version": 3
   },
   "file_extension": ".py",
   "mimetype": "text/x-python",
   "name": "python",
   "nbconvert_exporter": "python",
   "pygments_lexer": "ipython3",
   "version": "3.11.2"
  }
 },
 "nbformat": 4,
 "nbformat_minor": 2
}
