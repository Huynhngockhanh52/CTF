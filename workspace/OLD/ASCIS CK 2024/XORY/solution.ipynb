{
 "cells": [
  {
   "cell_type": "code",
   "execution_count": 8,
   "metadata": {},
   "outputs": [],
   "source": [
    "import random, os\n",
    "\n",
    "def xory(msg, key):\n",
    "    ct = []\n",
    "    for i in range(len(msg)):\n",
    "        ct.append(msg[i] ^ key[i%len(key)])\n",
    "    return bytes(ct)\n",
    "\n",
    "# #KEY = random.randbytes(5)\n",
    "# KEY = os.urandom(5)\n",
    "# FLAG = open('../flag.txt', 'rb').read()\n",
    "\n",
    "# cipher = xory(FLAG, KEY)\n",
    "# print(cipher.hex())\n",
    "\n",
    "\n",
    "# nc 183.91.11.30 60001\n"
   ]
  },
  {
   "cell_type": "code",
   "execution_count": 4,
   "metadata": {},
   "outputs": [
    {
     "name": "stdout",
     "output_type": "stream",
     "text": [
      "[x] Opening connection to 183.91.11.30 on port 60001\n",
      "[x] Opening connection to 183.91.11.30 on port 60001: Trying 183.91.11.30\n",
      "[+] Opening connection to 183.91.11.30 on port 60001: Done\n",
      "8adc47c542b0d734de4efaba5bfb22ffe45bbd7794f634f94ea0e134fb4e9dc451f11b\n"
     ]
    }
   ],
   "source": [
    "from pwn import *\n",
    "\n",
    "# Tạo một conection remote:\n",
    "port = 60001\n",
    "r = remote('183.91.11.30', port)\n",
    "ciphertext = r.recvline(keepends=False).strip().decode()\n",
    "# print(ciphertext)\n",
    "\n",
    "\n"
   ]
  },
  {
   "cell_type": "code",
   "execution_count": 10,
   "metadata": {},
   "outputs": [
    {
     "name": "stdout",
     "output_type": "stream",
     "text": [
      "b'\\x8a\\xdcG\\xc5B\\xb0\\xd74\\xdeN\\xfa\\xba[\\xfb\"\\xff\\xe4[\\xbdw\\x94\\xf64\\xf9N\\xa0\\xe14\\xfbN\\x9d\\xc4Q\\xf1\\x1b'\n",
      "b'ASCIS{X0R_15_w34k_1f_y0u_kn0w_VKU}\\n'\n"
     ]
    }
   ],
   "source": [
    "flag_enc_byte = bytes.fromhex(ciphertext)\n",
    "print(flag_enc_byte)\n",
    "\n",
    "flag_e = b\"ASCIS\"\n",
    "cipher_e = flag_enc_byte[:5]\n",
    "\n",
    "nums = xory(flag_e, cipher_e)\n",
    "\n",
    "flag = xory(flag_enc_byte, nums)\n",
    "print(flag)"
   ]
  },
  {
   "cell_type": "code",
   "execution_count": null,
   "metadata": {},
   "outputs": [],
   "source": []
  }
 ],
 "metadata": {
  "kernelspec": {
   "display_name": "CTF",
   "language": "python",
   "name": "python3"
  },
  "language_info": {
   "codemirror_mode": {
    "name": "ipython",
    "version": 3
   },
   "file_extension": ".py",
   "mimetype": "text/x-python",
   "name": "python",
   "nbconvert_exporter": "python",
   "pygments_lexer": "ipython3",
   "version": "3.11.2"
  }
 },
 "nbformat": 4,
 "nbformat_minor": 2
}
