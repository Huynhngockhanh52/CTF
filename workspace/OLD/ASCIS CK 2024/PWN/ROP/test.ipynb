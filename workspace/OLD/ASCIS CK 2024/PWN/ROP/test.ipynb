{
 "cells": [
  {
   "cell_type": "code",
   "execution_count": 5,
   "metadata": {},
   "outputs": [
    {
     "name": "stdout",
     "output_type": "stream",
     "text": [
      "\u0000\u0000\u0000\u0005\n"
     ]
    }
   ],
   "source": [
    "import base64\n",
    "\n",
    "part1 = 'AAAABQ=='\n",
    "decoded_part1 = base64.b64decode(part1).decode('utf-8', errors='ignore')\n",
    "print(decoded_part1)"
   ]
  },
  {
   "cell_type": "code",
   "execution_count": 24,
   "metadata": {},
   "outputs": [
    {
     "name": "stdout",
     "output_type": "stream",
     "text": [
      "b'K\\xd2\\x98\\xfb\\x974\\xfe>W\\xf3f\\xcd\\xd3<\\x89\\xe6s`\\x04\\xc8\\xec\\xde\\x1eh\\x814J2I<\\x0f!\\xad>\\xce\\xa3\\xee\\xd6\\x17\\xf2\\xcc\\xb8\\xcf\\x9d\\xe6\\n>\\xe8X!`}\\xde{\\x01\\x1f\\x8c\\xcc\\x13\\x17!\\xcc\\x8dS\\x8e\\xf7k\\x9e\\x8bFa\\xb4\\x13\\xc7\\xd0\\xde\\xf1\\xf5\\xd7b\\xb0\\xb9\\xad\\xd4\\x1e\\x0e\\xeb\\xf1VSA\\x804\\x00\\xe8b\\xcb0\\xa5\\xf3\\xb2pg\\xd2\\n\\x96\\x1f%\\x02\\xa5\\x8b\\x02N\\xbd5.\\xe7fhA/\\xcc\\xae\\xa4\\x1d\\x10\\x03\\x10\\x85\\xccs\\xf9\\xeeEMD\\xd5k-\\x13\\x86\\x00\\x82l\\xfc\\x01\\xd0\\xe8\\x1f+\\xe6\\\\G\\x0c\\xb6\\xe2\\xa5QG['\n",
      "[75, 210, 152, 251, 151, 52, 254, 62, 87, 243, 102, 205, 211, 60, 137, 230, 115, 96, 4, 200, 236, 222, 30, 104, 129, 52, 74, 50, 73, 60, 15, 33, 173, 62, 206, 163, 238, 214, 23, 242, 204, 184, 207, 157, 230, 10, 62, 232, 88, 33, 96, 125, 222, 123, 1, 31, 140, 204, 19, 23, 33, 204, 141, 83, 142, 247, 107, 158, 139, 70, 97, 180, 19, 199, 208, 222, 241, 245, 215, 98, 176, 185, 173, 212, 30, 14, 235, 241, 86, 83, 65, 128, 52, 0, 232, 98, 203, 48, 165, 243, 178, 112, 103, 210, 10, 150, 31, 37, 2, 165, 139, 2, 78, 189, 53, 46, 231, 102, 104, 65, 47, 204, 174, 164, 29, 16, 3, 16, 133, 204, 115, 249, 238, 69, 77, 68, 213, 107, 45, 19, 134, 0, 130, 108, 252, 1, 208, 232, 31, 43, 230, 92, 71, 12, 182, 226, 165, 81, 71, 91]\n"
     ]
    }
   ],
   "source": [
    "import base64\n",
    "\n",
    "part0 = \"AAAABQ==\"                              # [0, 0, 0, 5]\n",
    "part1 = 'dJW1EzDTFJeMC04aao8uSg=='             # [69, 123, 120, 68, 238, 126, 76, 209, 171, 56, 144, 25, 229, 91, 172, 18]\n",
    "part2 = \"S9KY+5c0/j5X82bN0zyJ5nNgBMjs3h5ogTRKMkk8DyGtPs6j7tYX8sy4z53mCj7oWCFgfd57AR+MzBMXIcyNU473a56LRmG0E8fQ3vH112Kwua3UHg7r8VZTQYA0AOhiyzCl87JwZ9IKlh8lAqWLAk69NS7nZmhBL8yupB0QAxCFzHP57kVNRNVrLROGAIJs/AHQ6B8r5lxHDLbipVFHWw==\"\n",
    "# [25, 79, 123, 220, 114, 11, 97, 198, 76, 89, 52, 144, 199, 239, 43, 179, 190, 214, 217, 69, 169, 38, 184, 87, 99, 39, 32, 43, 150, 158, 76, 229, 97, 118, 116, 236, 223, 145, 146, 56, 179, 123, 189, 229, 0, 130, 254, 65, 211, 221, 19, 188, 149, 13, 79, 116, 121, 145, 140, 166, 135, 194, 69, 172, 96, 98, 93, 91, 74, 215, 229, 84, 127, 250, 183, 16, 176, 85, 209, 147, 102, 169, 26, 81, 53, 244, 71, 59, 102, 174, 100, 47, 49, 118, 168, 151, 102, 131, 211, 63, 191, 208, 41, 227, 242, 15, 190, 249, 145, 111, 135, 26, 121, 241, 51, 186, 237, 202, 210, 175, 62, 154, 28, 84, 34, 202, 142, 232, 8, 68, 20, 175, 32, 203, 83, 128, 150, 154, 243, 25, 235, 155, 32, 208, 7, 64, 90, 87, 66, 168, 182, 185, 197, 7, 21, 100, 69, 111, 196, 161]\n",
    "\n",
    "decoded_part1 = base64.b64decode(part2)\n",
    "print(decoded_part1) \n",
    "ascii_values = [byte for byte in decoded_part1]\n",
    "print(ascii_values)"
   ]
  }
 ],
 "metadata": {
  "kernelspec": {
   "display_name": "CTF",
   "language": "python",
   "name": "python3"
  },
  "language_info": {
   "codemirror_mode": {
    "name": "ipython",
    "version": 3
   },
   "file_extension": ".py",
   "mimetype": "text/x-python",
   "name": "python",
   "nbconvert_exporter": "python",
   "pygments_lexer": "ipython3",
   "version": "3.11.2"
  }
 },
 "nbformat": 4,
 "nbformat_minor": 2
}
