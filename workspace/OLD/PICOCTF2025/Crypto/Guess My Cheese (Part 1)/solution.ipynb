{
 "cells": [
  {
   "cell_type": "code",
   "execution_count": 1,
   "metadata": {},
   "outputs": [],
   "source": [
    "from sys import exit\n",
    "from Crypto.Util.number import bytes_to_long, inverse, long_to_bytes\n",
    "import random\n",
    "import string\n",
    "from pwn import *\n",
    "CHARSET = string.ascii_uppercase + string.ascii_lowercase + string.digits\n",
    "\n",
    "import numpy as np\n",
    "import math"
   ]
  },
  {
   "cell_type": "markdown",
   "metadata": {},
   "source": [
    "## **Bài toán GUESS MY CHEESE (Part 1)**\n",
    "\n",
    "Bài toán này yêu cầu chúng ta giải mã đoạn mã đã cho với các thuật toán liên quan đến tuyến tính bao gồm:\n",
    "- **Caesar Cipher**\n",
    "- **Affine Cipher**\n",
    "- **Vigenère Cipher**\n",
    "- **Hill Cipher**"
   ]
  },
  {
   "cell_type": "code",
   "execution_count": 2,
   "metadata": {},
   "outputs": [],
   "source": [
    "def affine_encrypt(text, a, b):\n",
    "    \"\"\"Mã hóa Affine Cipher với công thức: E(x) = (a*x + b) mod 26\"\"\"\n",
    "    encrypted_text = \"\"\n",
    "    for char in text.upper():\n",
    "        if char.isalpha():\n",
    "            x = ord(char) - ord('A')\n",
    "            encrypted_text += chr(((a * x + b) % 26) + ord('A'))\n",
    "        else:\n",
    "            encrypted_text += char\n",
    "    return encrypted_text\n",
    "\n",
    "def affine_decrypt(text, a, b):\n",
    "    \"\"\"Giải mã Affine Cipher bằng cách tìm nghịch đảo của a.\"\"\"\n",
    "    decrypted_text = \"\"\n",
    "    mod_inv_a = pow(a, -1, 26)  # Tìm nghịch đảo modulo của a\n",
    "    for char in text.upper():\n",
    "        if char.isalpha():\n",
    "            y = ord(char) - ord('A')\n",
    "            decrypted_text += chr(((mod_inv_a * (y - b)) % 26) + ord('A'))\n",
    "        else:\n",
    "            decrypted_text += char\n",
    "    return decrypted_text\n",
    "\n",
    "def caesar_variant_encrypt(text, shift_pattern):\n",
    "    \"\"\"Mã hóa Caesar với độ dịch chuyển thay đổi theo một pattern.\"\"\"\n",
    "    encrypted_text = \"\"\n",
    "    for i, char in enumerate(text.upper()):\n",
    "        if char.isalpha():\n",
    "            shift = shift_pattern[i % len(shift_pattern)]  # Lặp lại pattern\n",
    "            encrypted_text += chr(((ord(char) - ord('A') + shift) % 26) + ord('A'))\n",
    "        else:\n",
    "            encrypted_text += char\n",
    "    return encrypted_text\n",
    "\n",
    "def caesar_variant_decrypt(text, shift_pattern):\n",
    "    \"\"\"Giải mã Caesar bằng cách dịch ngược lại theo pattern.\"\"\"\n",
    "    decrypted_text = \"\"\n",
    "    for i, char in enumerate(text.upper()):\n",
    "        if char.isalpha():\n",
    "            shift = shift_pattern[i % len(shift_pattern)]\n",
    "            decrypted_text += chr(((ord(char) - ord('A') - shift) % 26) + ord('A'))\n",
    "        else:\n",
    "            decrypted_text += char\n",
    "    return decrypted_text\n",
    "\n",
    "def columnar_transposition_encrypt(text, key):\n",
    "    \"\"\"Mã hóa Columnar Transposition dựa trên một key nhất định.\"\"\"\n",
    "    text = text.replace(\" \", \"\")  # Loại bỏ khoảng trắng\n",
    "    num_cols = len(key)\n",
    "    num_rows = math.ceil(len(text) / num_cols)\n",
    "    matrix = [['' for _ in range(num_cols)] for _ in range(num_rows)]\n",
    "    \n",
    "    # Điền ma trận theo hàng ngang\n",
    "    index = 0\n",
    "    for r in range(num_rows):\n",
    "        for c in range(num_cols):\n",
    "            if index < len(text):\n",
    "                matrix[r][c] = text[index]\n",
    "                index += 1\n",
    "    \n",
    "    # Đọc theo thứ tự cột dựa trên key\n",
    "    sorted_key = sorted([(val, i) for i, val in enumerate(key)])\n",
    "    encrypted_text = \"\"\n",
    "    for _, col in sorted_key:\n",
    "        for row in matrix:\n",
    "            if row[col]:\n",
    "                encrypted_text += row[col]\n",
    "    return encrypted_text\n",
    "\n",
    "def columnar_transposition_decrypt(text, key):\n",
    "    \"\"\"Giải mã Columnar Transposition dựa trên key.\"\"\"\n",
    "    num_cols = len(key)\n",
    "    num_rows = math.ceil(len(text) / num_cols)\n",
    "    matrix = [['' for _ in range(num_cols)] for _ in range(num_rows)]\n",
    "    \n",
    "    sorted_key = sorted([(val, i) for i, val in enumerate(key)])\n",
    "    index = 0\n",
    "    for _, col in sorted_key:\n",
    "        for r in range(num_rows):\n",
    "            if index < len(text):\n",
    "                matrix[r][col] = text[index]\n",
    "                index += 1\n",
    "    \n",
    "    decrypted_text = \"\".join(\"\".join(row) for row in matrix).strip()\n",
    "    return decrypted_text"
   ]
  },
  {
   "cell_type": "code",
   "execution_count": 3,
   "metadata": {},
   "outputs": [
    {
     "data": {
      "text/plain": [
       "'ZAMORANOIOW'"
      ]
     },
     "execution_count": 3,
     "metadata": {},
     "output_type": "execute_result"
    }
   ],
   "source": [
    "# Có các cặp dữ liệu sau:\n",
    "plain_lst = [\"MOZZARELLA\", \"RICOTTA\"]\n",
    "cipher_lst = [\"ZFMMPOBWWP\", \"FAOMJJK\"]\n",
    "\n",
    "def find_affine_key(plain_text, cipher_text):\n",
    "    \"\"\"Tìm giá trị a, b trong Affine Cipher dựa trên hai cặp ký tự đầu tiên.\"\"\"\n",
    "    def char_to_num(char):\n",
    "        return ord(char) - ord('A')\n",
    "    \n",
    "    p1, p2 = char_to_num(plain_text[0]), char_to_num(plain_text[1])\n",
    "    c1, c2 = char_to_num(cipher_text[0]), char_to_num(cipher_text[1])\n",
    "    \n",
    "    solutions = []\n",
    "    for a in range(1, 26, 2):  # a phải có nghịch đảo modulo 26 => số lẻ trừ 13\n",
    "        if math.gcd(a, 26) == 1:\n",
    "            b = (c1 - a * p1) % 26\n",
    "            if (a * p2 + b) % 26 == c2:\n",
    "                solutions.append((a, b))\n",
    "    \n",
    "    return solutions\n",
    "\n",
    "find_affine_key(plain_lst[0], cipher_lst[0])\n",
    "\n",
    "# affine_encrypt(plain_lst[1], 15, 10)\n",
    "affine_decrypt(\"MPZFOPCFNFD\", 3, 15)"
   ]
  },
  {
   "cell_type": "code",
   "execution_count": null,
   "metadata": {},
   "outputs": [
    {
     "name": "stdout",
     "output_type": "stream",
     "text": [
      "[x] Opening connection to verbal-sleep.picoctf.net on port 59244\n",
      "[x] Opening connection to verbal-sleep.picoctf.net on port 59244: Trying 3.138.217.147\n",
      "[+] Opening connection to verbal-sleep.picoctf.net on port 59244: Done\n"
     ]
    },
    {
     "name": "stderr",
     "output_type": "stream",
     "text": [
      "C:\\Users\\Dell\\AppData\\Local\\Temp\\ipykernel_11848\\1796535688.py:8: BytesWarning: Text is not bytes; assuming ASCII, no guarantees. See https://docs.pwntools.com/#bytes\n",
      "  get_success = r.recvuntil(\"to guess it:  \").decode()\n",
      "C:\\Users\\Dell\\AppData\\Local\\Temp\\ipykernel_11848\\1796535688.py:12: BytesWarning: Text is not bytes; assuming ASCII, no guarantees. See https://docs.pwntools.com/#bytes\n",
      "  get_success = r.recvuntil(\"What would you like to do?\").decode()\n",
      "C:\\Users\\Dell\\AppData\\Local\\Temp\\ipykernel_11848\\1796535688.py:15: BytesWarning: Text is not bytes; assuming ASCII, no guarantees. See https://docs.pwntools.com/#bytes\n",
      "  r.sendline('e')\n",
      "C:\\Users\\Dell\\AppData\\Local\\Temp\\ipykernel_11848\\1796535688.py:16: BytesWarning: Text is not bytes; assuming ASCII, no guarantees. See https://docs.pwntools.com/#bytes\n",
      "  get_success = r.recvuntil(\"would you like to encrypt? \").decode()\n",
      "C:\\Users\\Dell\\AppData\\Local\\Temp\\ipykernel_11848\\1796535688.py:17: BytesWarning: Text is not bytes; assuming ASCII, no guarantees. See https://docs.pwntools.com/#bytes\n",
      "  r.sendline(plain_lst[0])\n",
      "C:\\Users\\Dell\\AppData\\Local\\Temp\\ipykernel_11848\\1796535688.py:18: BytesWarning: Text is not bytes; assuming ASCII, no guarantees. See https://docs.pwntools.com/#bytes\n",
      "  get_success = r.recvuntil(\"Here's your encrypted cheese:  \").decode()\n"
     ]
    },
    {
     "name": "stdout",
     "output_type": "stream",
     "text": [
      "11 5\n"
     ]
    },
    {
     "name": "stderr",
     "output_type": "stream",
     "text": [
      "C:\\Users\\Dell\\AppData\\Local\\Temp\\ipykernel_11848\\1796535688.py:25: BytesWarning: Text is not bytes; assuming ASCII, no guarantees. See https://docs.pwntools.com/#bytes\n",
      "  get_success = r.recvuntil(\"What would you like to do?\").decode()\n",
      "C:\\Users\\Dell\\AppData\\Local\\Temp\\ipykernel_11848\\1796535688.py:27: BytesWarning: Text is not bytes; assuming ASCII, no guarantees. See https://docs.pwntools.com/#bytes\n",
      "  r.sendline('g')\n",
      "C:\\Users\\Dell\\AppData\\Local\\Temp\\ipykernel_11848\\1796535688.py:28: BytesWarning: Text is not bytes; assuming ASCII, no guarantees. See https://docs.pwntools.com/#bytes\n",
      "  get_success = r.recvuntil(\"So...what's my cheese?\").decode()\n",
      "C:\\Users\\Dell\\AppData\\Local\\Temp\\ipykernel_11848\\1796535688.py:30: BytesWarning: Text is not bytes; assuming ASCII, no guarantees. See https://docs.pwntools.com/#bytes\n",
      "  r.sendline(decrypted_text)\n",
      "C:\\Users\\Dell\\AppData\\Local\\Temp\\ipykernel_11848\\1796535688.py:32: BytesWarning: Text is not bytes; assuming ASCII, no guarantees. See https://docs.pwntools.com/#bytes\n",
      "  get_success = r.recvuntil(\"Here's the password to the cloning room:  \").decode()\n"
     ]
    },
    {
     "name": "stdout",
     "output_type": "stream",
     "text": [
      "picoCTF{ChEeSy1ff8ae0d}\n"
     ]
    }
   ],
   "source": [
    "# Code hoàn chỉnh để giải mã vì đây là mã Affine Cipher:\n",
    "plain_lst = [\"MOZZARELLA\", \"RICOTTA\"]\n",
    "cipher_lst = []\n",
    "\n",
    "port = 59244\n",
    "r = remote('verbal-sleep.picoctf.net', port)\n",
    "\n",
    "get_success = r.recvuntil(\"to guess it:  \").decode()\n",
    "cipher_text = r.recvline(keepends=False).strip().decode()\n",
    "# r.sendline('1337')\n",
    "\n",
    "get_success = r.recvuntil(\"What would you like to do?\").decode()\n",
    "get_success = r.recvline(keepends=False).strip().decode()\n",
    "\n",
    "r.sendline('e')\n",
    "get_success = r.recvuntil(\"would you like to encrypt? \").decode()\n",
    "r.sendline(plain_lst[0])\n",
    "get_success = r.recvuntil(\"Here's your encrypted cheese:  \").decode()\n",
    "cipher_lst.append(r.recvline(keepends=False).strip().decode())\n",
    "\n",
    "ab_lst = find_affine_key(plain_lst[0], cipher_lst[0])\n",
    "a, b = ab_lst[0]\n",
    "print(a,b)\n",
    "decrypted_text = affine_decrypt(cipher_text, a, b)\n",
    "get_success = r.recvuntil(\"What would you like to do?\").decode()\n",
    "\n",
    "r.sendline('g')\n",
    "get_success = r.recvuntil(\"So...what's my cheese?\").decode()\n",
    "get_success = r.recvline(keepends=False).strip().decode()\n",
    "r.sendline(decrypted_text)\n",
    "\n",
    "get_success = r.recvuntil(\"Here's the password to the cloning room:  \").decode()\n",
    "flag = r.recvline(keepends=False).strip().decode()\n",
    "print(flag)     #picoCTF{ChEeSy1ff8ae0d}\n",
    "\n",
    "# print(get_success)"
   ]
  }
 ],
 "metadata": {
  "kernelspec": {
   "display_name": "CTF",
   "language": "python",
   "name": "python3"
  },
  "language_info": {
   "codemirror_mode": {
    "name": "ipython",
    "version": 3
   },
   "file_extension": ".py",
   "mimetype": "text/x-python",
   "name": "python",
   "nbconvert_exporter": "python",
   "pygments_lexer": "ipython3",
   "version": "3.11.2"
  }
 },
 "nbformat": 4,
 "nbformat_minor": 2
}
