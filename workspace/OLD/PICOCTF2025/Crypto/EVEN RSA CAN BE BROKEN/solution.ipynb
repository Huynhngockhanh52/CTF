{
 "cells": [
  {
   "cell_type": "code",
   "execution_count": 25,
   "metadata": {},
   "outputs": [],
   "source": [
    "from sys import exit\n",
    "from Crypto.Util.number import bytes_to_long, inverse, long_to_bytes\n",
    "import random\n",
    "import string\n",
    "from pwn import *\n",
    "CHARSET = string.ascii_uppercase + string.ascii_lowercase + string.digits"
   ]
  },
  {
   "cell_type": "markdown",
   "metadata": {},
   "source": [
    "## **Bài toán EVEN RSA CAN BE BROKEN???**\n",
    "\n",
    "Khi phân tích code của bài toán ta có thể thấy, tại phương thức `main()`, ta thấy răng N là tích của hai số nguyên tố với kích thước 512 bit.\n",
    "~~~python\n",
    "def gen_key(k):\n",
    "    \"\"\"\n",
    "    Generates RSA key with k bits\n",
    "    \"\"\"\n",
    "    p,q = get_primes(k//2)\n",
    "    N = p*q\n",
    "    d = inverse(e, (p-1)*(q-1))\n",
    "\n",
    "    return ((N,e), d)\n",
    "~~~\n",
    "Như vậy, N là một số RSA yếu, chỉ có 1024bit, do đó, ta sử dụng các hàm có thể phân tách N."
   ]
  },
  {
   "cell_type": "code",
   "execution_count": null,
   "metadata": {},
   "outputs": [
    {
     "name": "stdout",
     "output_type": "stream",
     "text": [
      "Thừa số nguyên tố của N: [29, 6438077, 96238835059]\n"
     ]
    }
   ],
   "source": [
    "# Sử dụng thư viện primefac\n",
    "import primefac\n",
    "\n",
    "N = 17968197884504104747  # Thay bằng N của bạn\n",
    "factors = list(primefac.primefac(N))\n",
    "print(\"Thừa số nguyên tố của N:\", factors)"
   ]
  },
  {
   "cell_type": "code",
   "execution_count": 6,
   "metadata": {},
   "outputs": [
    {
     "name": "stdout",
     "output_type": "stream",
     "text": [
      "Thừa số nguyên tố của N: [['29', 1], ['6438077', 1], ['96238835059', 1]]\n"
     ]
    }
   ],
   "source": [
    "# Sử dụng truy vấn đến API bên ngoài\n",
    "import requests\n",
    "\n",
    "N = 17968197884504104747 \n",
    "url = f\"http://factordb.com/api?query={N}\"\n",
    "response = requests.get(url).json()\n",
    "\n",
    "factors = response.get(\"factors\", [])\n",
    "print(\"Thừa số nguyên tố của N:\", factors)"
   ]
  },
  {
   "cell_type": "markdown",
   "metadata": {},
   "source": [
    "### **Lời giải**\n",
    "#### **Đầu tiên ta ncat đến server để lấy giá trị của N**"
   ]
  },
  {
   "cell_type": "code",
   "execution_count": null,
   "metadata": {},
   "outputs": [
    {
     "name": "stdout",
     "output_type": "stream",
     "text": [
      "[x] Opening connection to verbal-sleep.picoctf.net on port 52407\n",
      "[x] Opening connection to verbal-sleep.picoctf.net on port 52407: Trying 3.138.217.147\n",
      "[+] Opening connection to verbal-sleep.picoctf.net on port 52407: Done\n",
      "N: 15709310530033121584347799651253894683012237012174722800716346125443382011330008779902493365517209294329072981514221961360754564548158849509561108729716166\n",
      "Thừa số nguyên tố của N: [2, 7854655265016560792173899825626947341506118506087361400358173062721691005665004389951246682758604647164536490757110980680377282274079424754780554364858083]\n",
      "picoCTF{tw0_1$_pr!m3605cd50e}\n"
     ]
    }
   ],
   "source": [
    "port = 52407\n",
    "r = remote('verbal-sleep.picoctf.net', port)\n",
    "\n",
    "N = int(r.recvline(keepends=False).strip().decode().strip(\"N: \"))\n",
    "e = int(r.recvline(keepends=False).strip().decode().strip(\"e: \"))\n",
    "cyphertext = int(r.recvline(keepends=False).strip().decode().strip(\"cyphertext: \"))\n",
    "\n",
    "print(f\"N: {N}\") # N chẵn\n",
    "\n",
    "# Tìm thừa số nguyên tố của N\n",
    "factors = list(primefac.primefac(N))\n",
    "print(\"Thừa số nguyên tố của N:\", factors)\n",
    "p, q = factors[0], factors[1]\n",
    "d = inverse(e, (p-1)*(q-1))\n",
    "plaintext = pow(cyphertext, d, N)\n",
    "flag = long_to_bytes(plaintext).decode('utf-8')\n",
    "print(flag)"
   ]
  }
 ],
 "metadata": {
  "kernelspec": {
   "display_name": "CTF",
   "language": "python",
   "name": "python3"
  },
  "language_info": {
   "codemirror_mode": {
    "name": "ipython",
    "version": 3
   },
   "file_extension": ".py",
   "mimetype": "text/x-python",
   "name": "python",
   "nbconvert_exporter": "python",
   "pygments_lexer": "ipython3",
   "version": "3.11.2"
  }
 },
 "nbformat": 4,
 "nbformat_minor": 2
}
