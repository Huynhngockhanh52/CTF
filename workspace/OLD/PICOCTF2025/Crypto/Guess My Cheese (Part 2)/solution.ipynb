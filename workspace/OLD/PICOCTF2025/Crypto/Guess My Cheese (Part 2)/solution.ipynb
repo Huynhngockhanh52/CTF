{
 "cells": [
  {
   "cell_type": "code",
   "execution_count": 2,
   "metadata": {},
   "outputs": [],
   "source": [
    "from sys import exit\n",
    "from Crypto.Util.number import bytes_to_long, inverse, long_to_bytes\n",
    "import random\n",
    "import string\n",
    "from pwn import *\n",
    "CHARSET = string.ascii_uppercase + string.ascii_lowercase + string.digits"
   ]
  },
  {
   "cell_type": "markdown",
   "metadata": {},
   "source": [
    "## **Bài toán GUESS MY CHEESE (Part 2)**\n",
    "\n",
    "Bài toán đưa ra một list danh sách các mật khẩu có thể, sau đó, đưa ra 3 gợi ý, từ các gợi ý ta có thể suy ra được:\n",
    "- Mật khẩu trước tiên được thêm 2 byte ngẫu nhiên vào password\n",
    "- Sau đó, sử dụng hàm băm SHA-256 để băm\n",
    "\n",
    "==> Mục tiêu là lấy mã băm và so khớp, do gợi ý thứ 3 yêu cầu ta dùng \"Rainbow table\" để so khớp mã chính xác. Ta thực hiện thuật toán như sau:"
   ]
  },
  {
   "cell_type": "code",
   "execution_count": 12,
   "metadata": {},
   "outputs": [
    {
     "name": "stdout",
     "output_type": "stream",
     "text": [
      "No matching password found.\n",
      "256\n",
      "No matching password found.\n"
     ]
    }
   ],
   "source": [
    "import hashlib\n",
    "import itertools\n",
    "\n",
    "def find_matching_password(file_path, target_hash):\n",
    "    salts = [f\"{i:02x}\" for i in range(256)]  # Salt từ \"00\" đến \"ff\"\n",
    "\n",
    "    with open(file_path, \"r\") as file:\n",
    "        passwords = [line.strip() for line in file.readlines()]\n",
    "\n",
    "    for password in passwords:\n",
    "        for salt in salts:\n",
    "            for i in range(len(password) + 1):  # Thử đặt salt ở mọi vị trí từ 0 đến cuối\n",
    "                salted_password = password[:i] + salt + password[i:]\n",
    "                hash_value = hashlib.sha256((salted_password).encode('utf-8')).hexdigest()\n",
    "                # print(hash_value)\n",
    "                if hash_value[:10] == target_hash[:10]:\n",
    "                    return password, salt\n",
    "\n",
    "    return None  \n",
    "\n",
    "def find_matching_password2(file_path, target_hash):\n",
    "    salts = [f\"{i:02x}\" for i in range(256)]  # Tạo danh sách salt từ \"00\" đến \"ff\"\n",
    "    print(len(salts))\n",
    "    \n",
    "    with open(file_path, \"r\") as file:\n",
    "        passwords = [line.strip() for line in file.readlines()]\n",
    "\n",
    "    for password in passwords:\n",
    "        positions = list(itertools.combinations(range(len(password) + 2), 2))  # Tạo các cặp vị trí chèn salt\n",
    "\n",
    "        for salt in salts:  # Duyệt qua tất cả salt có thể\n",
    "            for pos1, pos2 in positions:  # Duyệt qua tất cả vị trí chèn salt\n",
    "                salted_password = (\n",
    "                    password[:pos1] + salt[0] +  # Chèn ký tự đầu tiên của salt\n",
    "                    password[pos1:pos2] + salt[1] +  # Chèn ký tự thứ hai của salt\n",
    "                    password[pos2:]\n",
    "                )\n",
    "\n",
    "                hash_value = hashlib.sha256(salted_password.encode('utf-8')).hexdigest()\n",
    "\n",
    "                if hash_value[:10] == target_hash[:10]:  # So sánh 10 ký tự đầu của hash\n",
    "                    return password, salt, pos1, pos2\n",
    "\n",
    "    return None\n",
    "\n",
    "\n",
    "file_path = \"cheese_list.txt\"\n",
    "target_hash = \"b13b96db08d3c9d38b555ace3d12434617fd4dd5f45600a106aa32e9b05fa876\"\n",
    "matched_password = find_matching_password(file_path, target_hash)\n",
    "\n",
    "if matched_password:\n",
    "    print(f\"Found matching password: {matched_password}\")\n",
    "else:\n",
    "    print(\"No matching password found.\")\n",
    "    \n",
    "matched_password = find_matching_password2(file_path, target_hash)\n",
    "if matched_password:\n",
    "    print(f\"Found matching password: {matched_password}\")\n",
    "else:\n",
    "    print(\"No matching password found.\")"
   ]
  },
  {
   "cell_type": "code",
   "execution_count": null,
   "metadata": {},
   "outputs": [
    {
     "data": {
      "text/plain": [
       "'6f58907a60a6103afa876b0f25ad2c2e9b62693e499d7da7fdbd3b4ca77172fe'"
      ]
     },
     "execution_count": 3,
     "metadata": {},
     "output_type": "execute_result"
    }
   ],
   "source": []
  }
 ],
 "metadata": {
  "kernelspec": {
   "display_name": "CTF",
   "language": "python",
   "name": "python3"
  },
  "language_info": {
   "codemirror_mode": {
    "name": "ipython",
    "version": 3
   },
   "file_extension": ".py",
   "mimetype": "text/x-python",
   "name": "python",
   "nbconvert_exporter": "python",
   "pygments_lexer": "ipython3",
   "version": "3.11.2"
  }
 },
 "nbformat": 4,
 "nbformat_minor": 2
}
