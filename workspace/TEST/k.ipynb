{
 "cells": [
  {
   "cell_type": "code",
   "execution_count": 3,
   "metadata": {},
   "outputs": [
    {
     "name": "stdout",
     "output_type": "stream",
     "text": [
      "_\\}0123456789abcdefghijklmnopqrstuvwxyzABCDEFGHIJKLMNOPQRSTUVWXYZ-\\{\n",
      "[x] Opening connection to mercury.picoctf.net on port 58251\n",
      "[x] Opening connection to mercury.picoctf.net on port 58251: Trying 18.189.209.142\n",
      "[+] Opening connection to mercury.picoctf.net on port 58251: Done\n",
      "51196158782761273458374822699762384863351474629594401568089240626220797519647835402899731187718728436925469623938253600802624377084741317328809986391823482352041600847120313101749914331774985621327556987879362664718337852135617375950767117155459513371013419139030972339137654854636236341086318093844514258589 65537\n"
     ]
    }
   ],
   "source": [
    "from pwn import *\n",
    "import string\n",
    "\n",
    "chars = \"_\\}\" + string.digits + string.ascii_letters + \"-\\{\"\n",
    "print(chars)\n",
    "\n",
    "decrypted_flag = \"picoCTF{\"\n",
    "known = []\n",
    "r = remote(\"mercury.picoctf.net\", 58251)\n",
    "flag = r.recvline(keepends=False).decode()[6:]\n",
    "n = r.recvline(keepends=False).decode()[3:]\n",
    "e = r.recvline(keepends=False).decode()[3:]"
   ]
  }
 ],
 "metadata": {
  "kernelspec": {
   "display_name": "CTF",
   "language": "python",
   "name": "python3"
  },
  "language_info": {
   "codemirror_mode": {
    "name": "ipython",
    "version": 3
   },
   "file_extension": ".py",
   "mimetype": "text/x-python",
   "name": "python",
   "nbconvert_exporter": "python",
   "pygments_lexer": "ipython3",
   "version": "3.11.2"
  }
 },
 "nbformat": 4,
 "nbformat_minor": 2
}
