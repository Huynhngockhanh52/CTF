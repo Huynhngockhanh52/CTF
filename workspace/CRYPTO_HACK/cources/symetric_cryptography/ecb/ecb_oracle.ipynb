{
 "cells": [
  {
   "cell_type": "code",
   "execution_count": null,
   "id": "06da8353",
   "metadata": {},
   "outputs": [],
   "source": [
    "from Crypto.Cipher import AES\n",
    "from Crypto.Util.Padding import pad, unpad\n",
    "import requests\n",
    "\n",
    "KEY = None\n",
    "FLAG = None\n",
    "\n",
    "\n",
    "# @chal.route('/ecb_oracle/encrypt/<plaintext>/')\n",
    "def encrypt(plaintext):\n",
    "    plaintext = bytes.fromhex(plaintext)\n",
    "\n",
    "    padded = pad(plaintext + FLAG.encode(), 16)\n",
    "    cipher = AES.new(KEY, AES.MODE_ECB)\n",
    "    try:\n",
    "        encrypted = cipher.encrypt(padded)\n",
    "    except ValueError as e:\n",
    "        return {\"error\": str(e)}\n",
    "\n",
    "    return {\"ciphertext\": encrypted.hex()}"
   ]
  },
  {
   "cell_type": "code",
   "execution_count": null,
   "id": "803a67f5",
   "metadata": {},
   "outputs": [
    {
     "name": "stdout",
     "output_type": "stream",
     "text": [
      "crypto{p3n6u\n",
      "crypto{p3n6u1\n",
      "crypto{p3n6u1n\n",
      "crypto{p3n6u1n5\n",
      "crypto{p3n6u1n5_\n",
      "crypto{p3n6u1n5_h\n",
      "crypto{p3n6u1n5_h4\n",
      "crypto{p3n6u1n5_h47\n",
      "crypto{p3n6u1n5_h473\n",
      "crypto{p3n6u1n5_h473_\n",
      "crypto{p3n6u1n5_h473_3\n",
      "crypto{p3n6u1n5_h473_3c\n",
      "crypto{p3n6u1n5_h473_3cb\n",
      "crypto{p3n6u1n5_h473_3cb}\n"
     ]
    }
   ],
   "source": [
    "from Crypto.Cipher import AES\n",
    "from Crypto.Util.Padding import pad, unpad\n",
    "import requests\n",
    "import time\n",
    "\n",
    "BASE_URL = \"https://aes.cryptohack.org/ecb_oracle/encrypt/\"\n",
    "LEN_CIPHER = 32\n",
    "\n",
    "# Thử một mã plaintext = b\"a\"*16, ta thu được ciphertext có 3 block\n",
    "# Như vậy, ciphertext có 2 block. Bây giờ ta thực hiện như sau:\n",
    "\n",
    "def get_cipher(len_text, concat=\"\"):\n",
    "    pad = \"a\" * len_text + concat\n",
    "    plaintext = pad.encode('utf-8').hex()\n",
    "    time.sleep(1)\n",
    "    request = requests.get(BASE_URL + plaintext + \"/\")\n",
    "    ciphertext = request.json()[\"ciphertext\"]\n",
    "    return ciphertext\n",
    "\n",
    "# flag = \"crypto{\"\n",
    "flag = \"crypto{p3n6u1n5_h473_3cb}\"\n",
    "char = \"0\"\n",
    "\n",
    "while char != \"}\":\n",
    "    ciphertext = get_cipher(LEN_CIPHER - 1 - len(flag))\n",
    "    # print(ciphertext)\n",
    "\n",
    "    for i in range(31, 128, 1):\n",
    "        concat = flag + chr(i)\n",
    "        ciphertext_oracle = get_cipher(LEN_CIPHER - 1 - len(flag), concat)\n",
    "        if ciphertext[:64] == ciphertext_oracle[:64]:\n",
    "            char = chr(i)\n",
    "            flag += char\n",
    "            print(flag)\n",
    "            break"
   ]
  },
  {
   "cell_type": "code",
   "execution_count": 20,
   "id": "2534b7af",
   "metadata": {},
   "outputs": [
    {
     "name": "stdout",
     "output_type": "stream",
     "text": [
      "d13985dba039f78afe1d8f973692238d2ee7e5ffef8f545a13238c889c229c3cfce9c0b17fa6c8a57b425241520420b0\n",
      "crypto{y\n"
     ]
    },
    {
     "ename": "KeyboardInterrupt",
     "evalue": "",
     "output_type": "error",
     "traceback": [
      "\u001b[1;31m---------------------------------------------------------------------------\u001b[0m",
      "\u001b[1;31mKeyboardInterrupt\u001b[0m                         Traceback (most recent call last)",
      "Cell \u001b[1;32mIn[20], line 41\u001b[0m\n\u001b[0;32m     38\u001b[0m char \u001b[38;5;241m=\u001b[39m \u001b[38;5;124m\"\u001b[39m\u001b[38;5;124m0\u001b[39m\u001b[38;5;124m\"\u001b[39m\n\u001b[0;32m     40\u001b[0m \u001b[38;5;28;01mwhile\u001b[39;00m char \u001b[38;5;241m!=\u001b[39m \u001b[38;5;124m\"\u001b[39m\u001b[38;5;124m}\u001b[39m\u001b[38;5;124m\"\u001b[39m:\n\u001b[1;32m---> 41\u001b[0m     ciphertext \u001b[38;5;241m=\u001b[39m \u001b[43mget_cipher\u001b[49m\u001b[43m(\u001b[49m\u001b[43mLEN_CIPHER\u001b[49m\u001b[43m \u001b[49m\u001b[38;5;241;43m-\u001b[39;49m\u001b[43m \u001b[49m\u001b[38;5;241;43m1\u001b[39;49m\u001b[43m \u001b[49m\u001b[38;5;241;43m-\u001b[39;49m\u001b[43m \u001b[49m\u001b[38;5;28;43mlen\u001b[39;49m\u001b[43m(\u001b[49m\u001b[43mflag\u001b[49m\u001b[43m)\u001b[49m\u001b[43m)\u001b[49m\n\u001b[0;32m     42\u001b[0m     \u001b[38;5;28mprint\u001b[39m(ciphertext)\n\u001b[0;32m     44\u001b[0m     \u001b[38;5;28;01mfor\u001b[39;00m i \u001b[38;5;129;01min\u001b[39;00m \u001b[38;5;28mrange\u001b[39m(\u001b[38;5;241m31\u001b[39m, \u001b[38;5;241m128\u001b[39m, \u001b[38;5;241m1\u001b[39m):\n",
      "Cell \u001b[1;32mIn[20], line 31\u001b[0m, in \u001b[0;36mget_cipher\u001b[1;34m(len_text, concat)\u001b[0m\n\u001b[0;32m     29\u001b[0m pad \u001b[38;5;241m=\u001b[39m \u001b[38;5;124m\"\u001b[39m\u001b[38;5;124ma\u001b[39m\u001b[38;5;124m\"\u001b[39m \u001b[38;5;241m*\u001b[39m len_text \u001b[38;5;241m+\u001b[39m concat\n\u001b[0;32m     30\u001b[0m plaintext \u001b[38;5;241m=\u001b[39m pad\u001b[38;5;241m.\u001b[39mencode(\u001b[38;5;124m'\u001b[39m\u001b[38;5;124mutf-8\u001b[39m\u001b[38;5;124m'\u001b[39m)\u001b[38;5;241m.\u001b[39mhex()\n\u001b[1;32m---> 31\u001b[0m time\u001b[38;5;241m.\u001b[39msleep(\u001b[38;5;241m1\u001b[39m)\n\u001b[0;32m     32\u001b[0m \u001b[38;5;66;03m# request = requests.get(BASE_URL + plaintext + \"/\")\u001b[39;00m\n\u001b[0;32m     33\u001b[0m \u001b[38;5;66;03m# ciphertext = request.json()[\"ciphertext\"]\u001b[39;00m\n\u001b[0;32m     34\u001b[0m ciphertext \u001b[38;5;241m=\u001b[39m encrypt(plaintext)\n",
      "\u001b[1;31mKeyboardInterrupt\u001b[0m: "
     ]
    }
   ],
   "source": [
    "from Crypto.Cipher import AES\n",
    "from Crypto.Util.Padding import pad, unpad\n",
    "import requests\n",
    "import time\n",
    "\n",
    "BASE_URL = \"https://aes.cryptohack.org/ecb_oracle/encrypt/\"\n",
    "LEN_CIPHER = 32\n",
    "\n",
    "# Thử một mã plaintext = b\"a\"*16, ta thu được ciphertext có 3 block\n",
    "# Như vậy, ciphertext có 2 block. Bây giờ ta thực hiện như sau:\n",
    "\n",
    "KEY = b\"bluebirdbluebird\"\n",
    "FLAG = \"crypto{you_not_here}\"\n",
    "\n",
    "def encrypt(plaintext):\n",
    "    plaintext = bytes.fromhex(plaintext)\n",
    "\n",
    "    padded = pad(plaintext + FLAG.encode(), 16)\n",
    "    cipher = AES.new(KEY, AES.MODE_ECB)\n",
    "    try:\n",
    "        encrypted = cipher.encrypt(padded)\n",
    "    except ValueError as e:\n",
    "        return {\"error\": str(e)}\n",
    "\n",
    "    return {\"ciphertext\": encrypted.hex()}\n",
    "\n",
    "\n",
    "def get_cipher(len_text, concat=\"\"):\n",
    "    pad = \"a\" * len_text + concat\n",
    "    plaintext = pad.encode('utf-8').hex()\n",
    "    time.sleep(1)\n",
    "    # request = requests.get(BASE_URL + plaintext + \"/\")\n",
    "    # ciphertext = request.json()[\"ciphertext\"]\n",
    "    ciphertext = encrypt(plaintext)\n",
    "    return ciphertext[\"ciphertext\"]\n",
    "\n",
    "flag = \"crypto{\"\n",
    "char = \"0\"\n",
    "\n",
    "while char != \"}\":\n",
    "    ciphertext = get_cipher(LEN_CIPHER - 1 - len(flag))\n",
    "    print(ciphertext)\n",
    "\n",
    "    for i in range(31, 128, 1):\n",
    "        concat = flag + chr(i)\n",
    "        ciphertext_oracle = get_cipher(LEN_CIPHER - 1 - len(flag), concat)\n",
    "        if ciphertext[:64] == ciphertext_oracle[:64]:\n",
    "            char = chr(i)\n",
    "            flag += char\n",
    "            print(flag)\n",
    "            break"
   ]
  }
 ],
 "metadata": {
  "kernelspec": {
   "display_name": "kernel",
   "language": "python",
   "name": "python3"
  },
  "language_info": {
   "codemirror_mode": {
    "name": "ipython",
    "version": 3
   },
   "file_extension": ".py",
   "mimetype": "text/x-python",
   "name": "python",
   "nbconvert_exporter": "python",
   "pygments_lexer": "ipython3",
   "version": "3.11.2"
  }
 },
 "nbformat": 4,
 "nbformat_minor": 5
}
