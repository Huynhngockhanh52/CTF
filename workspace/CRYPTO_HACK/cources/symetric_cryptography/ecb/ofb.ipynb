{
 "cells": [
  {
   "cell_type": "code",
   "execution_count": null,
   "id": "d0329b66",
   "metadata": {},
   "outputs": [],
   "source": [
    "from Crypto.Cipher import AES\n",
    "import os\n",
    "\n",
    "KEY = None\n",
    "FLAG = None\n",
    "\n",
    "\n",
    "# @chal.route('/symmetry/encrypt/<plaintext>/<iv>/')\n",
    "def encrypt(plaintext, iv):\n",
    "    plaintext = bytes.fromhex(plaintext)\n",
    "    iv = bytes.fromhex(iv)\n",
    "    if len(iv) != 16:\n",
    "        return {\"error\": \"IV length must be 16\"}\n",
    "\n",
    "    cipher = AES.new(KEY, AES.MODE_OFB, iv)\n",
    "    encrypted = cipher.encrypt(plaintext)\n",
    "    ciphertext = encrypted.hex()\n",
    "\n",
    "    return {\"ciphertext\": ciphertext}\n",
    "\n",
    "\n",
    "# @chal.route('/symmetry/encrypt_flag/')\n",
    "def encrypt_flag():\n",
    "    iv = os.urandom(16)\n",
    "\n",
    "    cipher = AES.new(KEY, AES.MODE_OFB, iv)\n",
    "    encrypted = cipher.encrypt(FLAG.encode())\n",
    "    ciphertext = iv.hex() + encrypted.hex()\n",
    "\n",
    "    return {\"ciphertext\": ciphertext}"
   ]
  },
  {
   "cell_type": "code",
   "execution_count": 3,
   "id": "74b92396",
   "metadata": {},
   "outputs": [
    {
     "name": "stdout",
     "output_type": "stream",
     "text": [
      "crypto{0fb_15_5ymm37r1c4l_!!!11!}\n"
     ]
    }
   ],
   "source": [
    "from Crypto.Cipher import AES\n",
    "import os\n",
    "import requests\n",
    "\n",
    "ENCODE_URL = \"https://aes.cryptohack.org/symmetry/encrypt_flag/\"\n",
    "DECODE_URL = \"https://aes.cryptohack.org/symmetry/encrypt/\"\n",
    "\n",
    "def get_respone(url):\n",
    "    respone = requests.get(url).json()\n",
    "    keys = respone.keys()\n",
    "    for k in (\"ciphertext\", \"plaintext\", \"cookie\", \"flag\"):\n",
    "        if k in keys:\n",
    "            return respone[k]\n",
    "        \n",
    "def hex_XOR(a, b):\n",
    "    assert len(a) == len(b)\n",
    "    return bytes(x ^ y for x, y in zip(bytes.fromhex(a), bytes.fromhex(b))).hex()\n",
    "\n",
    "# Get iv:\n",
    "ciphertext = get_respone(ENCODE_URL)\n",
    "\n",
    "iv = ciphertext[:32]\n",
    "\n",
    "pesudo_cipher = (f\"{chr(0)}\" * (len(ciphertext) // 2 - 16)).encode('utf-8').hex()\n",
    "\n",
    "iv_cipher = get_respone(DECODE_URL + pesudo_cipher + \"/\" + iv + \"/\")\n",
    "\n",
    "FLAG = bytes.fromhex(hex_XOR(ciphertext[32:], iv_cipher)).decode('utf-8')\n",
    "print(FLAG)\n"
   ]
  }
 ],
 "metadata": {
  "kernelspec": {
   "display_name": "kernel",
   "language": "python",
   "name": "python3"
  },
  "language_info": {
   "codemirror_mode": {
    "name": "ipython",
    "version": 3
   },
   "file_extension": ".py",
   "mimetype": "text/x-python",
   "name": "python",
   "nbconvert_exporter": "python",
   "pygments_lexer": "ipython3",
   "version": "3.11.2"
  }
 },
 "nbformat": 4,
 "nbformat_minor": 5
}
