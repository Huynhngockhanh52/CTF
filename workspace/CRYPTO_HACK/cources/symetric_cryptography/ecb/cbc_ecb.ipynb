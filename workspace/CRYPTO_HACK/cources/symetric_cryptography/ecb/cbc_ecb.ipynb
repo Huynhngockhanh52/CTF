{
 "cells": [
  {
   "cell_type": "code",
   "execution_count": null,
   "id": "a63d1456",
   "metadata": {},
   "outputs": [],
   "source": [
    "from Crypto.Cipher import AES\n",
    "import os\n",
    "\n",
    "KEY = \"blueblurblueblur\"\n",
    "FLAG = \"crypto{flag_is_here}\"\n",
    "\n",
    "# @chal.route('/ecbcbcwtf/decrypt/<ciphertext>/')\n",
    "def decrypt(ciphertext):\n",
    "    ciphertext = bytes.fromhex(ciphertext)\n",
    "\n",
    "    cipher = AES.new(KEY, AES.MODE_ECB)\n",
    "    try:\n",
    "        decrypted = cipher.decrypt(ciphertext)\n",
    "    except ValueError as e:\n",
    "        return {\"error\": str(e)}\n",
    "\n",
    "    return {\"plaintext\": decrypted.hex()}\n",
    "\n",
    "\n",
    "# @chal.route('/ecbcbcwtf/encrypt_flag/')\n",
    "def encrypt_flag():\n",
    "    iv = os.urandom(16)\n",
    "\n",
    "    cipher = AES.new(KEY, AES.MODE_CBC, iv)\n",
    "    encrypted = cipher.encrypt(FLAG.encode())\n",
    "    ciphertext = iv.hex() + encrypted.hex()\n",
    "\n",
    "    return {\"ciphertext\": ciphertext}"
   ]
  },
  {
   "cell_type": "code",
   "execution_count": 4,
   "id": "7034a451",
   "metadata": {},
   "outputs": [
    {
     "name": "stdout",
     "output_type": "stream",
     "text": [
      "crypto{3cb_5uck5_4v01d_17_!!!!!}\n"
     ]
    }
   ],
   "source": [
    "from Crypto.Cipher import AES\n",
    "import os\n",
    "import requests\n",
    "\n",
    "ENCODE_URL = \"https://aes.cryptohack.org/ecbcbcwtf/encrypt_flag/\"\n",
    "DECODE_URL = \"https://aes.cryptohack.org/ecbcbcwtf/decrypt/\"\n",
    "\n",
    "def get_respone(url):\n",
    "    respone = requests.get(url).json()\n",
    "    keys = respone.keys()\n",
    "    for k in (\"ciphertext\", \"plaintext\"):\n",
    "        if k in keys:\n",
    "            return respone[k]\n",
    "\n",
    "# Lấy encode:\n",
    "ciphertext = get_respone(ENCODE_URL)\n",
    "\n",
    "iv = ciphertext[:32]\n",
    "cipher_blocks = [ciphertext[i:i+32] for i in range(32, len(ciphertext), 32)]\n",
    "\n",
    "flag = \"\"\n",
    "temp = \"\"\n",
    "\n",
    "for block in cipher_blocks:\n",
    "    plaintext = get_respone(DECODE_URL + block + \"/\")\n",
    "    if len(iv) == len(plaintext):\n",
    "        text = bytes(a ^ b for a, b in zip(bytes.fromhex(plaintext), bytes.fromhex(iv)))\n",
    "        flag += text.hex()\n",
    "    iv = block\n",
    "    \n",
    "flag = bytes.fromhex(flag).decode('utf-8')\n",
    "print(flag)\n",
    "\n"
   ]
  }
 ],
 "metadata": {
  "kernelspec": {
   "display_name": "kernel",
   "language": "python",
   "name": "python3"
  },
  "language_info": {
   "codemirror_mode": {
    "name": "ipython",
    "version": 3
   },
   "file_extension": ".py",
   "mimetype": "text/x-python",
   "name": "python",
   "nbconvert_exporter": "python",
   "pygments_lexer": "ipython3",
   "version": "3.11.2"
  }
 },
 "nbformat": 4,
 "nbformat_minor": 5
}
