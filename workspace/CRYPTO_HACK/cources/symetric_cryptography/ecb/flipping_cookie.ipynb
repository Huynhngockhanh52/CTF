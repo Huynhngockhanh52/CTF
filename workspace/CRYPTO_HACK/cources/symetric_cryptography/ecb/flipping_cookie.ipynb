{
 "cells": [
  {
   "cell_type": "code",
   "execution_count": null,
   "id": "6a47bfd6",
   "metadata": {},
   "outputs": [],
   "source": [
    "from Crypto.Cipher import AES\n",
    "import os\n",
    "from Crypto.Util.Padding import pad, unpad\n",
    "from datetime import datetime, timedelta\n",
    "\n",
    "\n",
    "KEY = \"blueblue\"*2\n",
    "FLAG = \"crypto{flag_is_here}\"\n",
    "\n",
    "\n",
    "# @chal.route('/flipping_cookie/check_admin/<cookie>/<iv>/')\n",
    "def check_admin(cookie, iv):\n",
    "    cookie = bytes.fromhex(cookie)\n",
    "    iv = bytes.fromhex(iv)\n",
    "\n",
    "    try:\n",
    "        cipher = AES.new(KEY, AES.MODE_CBC, iv)\n",
    "        decrypted = cipher.decrypt(cookie)\n",
    "        unpadded = unpad(decrypted, 16)\n",
    "    except ValueError as e:\n",
    "        return {\"error\": str(e)}\n",
    "\n",
    "    if b\"admin=True\" in unpadded.split(b\";\"):\n",
    "        return {\"flag\": FLAG}\n",
    "    else:\n",
    "        return {\"error\": \"Only admin can read the flag\"}\n",
    "\n",
    "\n",
    "# @chal.route('/flipping_cookie/get_cookie/')\n",
    "def get_cookie():\n",
    "    expires_at = (datetime.today() + timedelta(days=1)).strftime(\"%s\")\n",
    "    cookie = f\"admin=False;expiry={expires_at}\".encode()\n",
    "\n",
    "    iv = os.urandom(16)\n",
    "    padded = pad(cookie, 16)\n",
    "    cipher = AES.new(KEY, AES.MODE_CBC, iv)\n",
    "    encrypted = cipher.encrypt(padded)\n",
    "    ciphertext = iv.hex() + encrypted.hex()\n",
    "\n",
    "    return {\"cookie\": ciphertext}"
   ]
  },
  {
   "cell_type": "code",
   "execution_count": 8,
   "id": "ee869164",
   "metadata": {},
   "outputs": [
    {
     "name": "stdout",
     "output_type": "stream",
     "text": [
      "300d2c51c6999148ee1df7b07ad56c5dd82272a6a5beff11007d95eec978b668a410af9be54b91d37cf02138b53ee15c\n",
      "300d2c51c699835bf70ba9b07ad56c5d\n",
      "crypto{4u7h3n71c4710n_15_3553n714l}\n"
     ]
    }
   ],
   "source": [
    "from Crypto.Cipher import AES\n",
    "import os\n",
    "from Crypto.Util.Padding import pad, unpad\n",
    "from datetime import datetime, timedelta\n",
    "import requests\n",
    "\n",
    "ENCODE_URL = \"https://aes.cryptohack.org/flipping_cookie/get_cookie/\"\n",
    "DECODE_URL = \"https://aes.cryptohack.org/flipping_cookie/check_admin/\"\n",
    "\n",
    "def get_respone(url):\n",
    "    respone = requests.get(url).json()\n",
    "    keys = respone.keys()\n",
    "    for k in (\"ciphertext\", \"plaintext\", \"cookie\", \"flag\"):\n",
    "        if k in keys:\n",
    "            return respone[k]\n",
    "        \n",
    "def hex_XOR(a, b):\n",
    "    assert len(a) == len(b)\n",
    "    return bytes(x ^ y for x, y in zip(bytes.fromhex(a), bytes.fromhex(b))).hex()\n",
    "\n",
    "# Get cookie\n",
    "cookie = get_respone(ENCODE_URL)\n",
    "print(cookie)\n",
    "\n",
    "assert len(cookie) % 32 == 0\n",
    "\n",
    "iv = cookie[:32]\n",
    "cookie_blocks = [cookie[i:i+32] for i in range(32, len(cookie), 32)]\n",
    "\n",
    "# text = admin=True;, \n",
    "text_false = b\"admin=False\".hex() + (f\"{chr(0)}\" * 5).encode('utf-8').hex()\n",
    "text_true  = b\"admin=True;\".hex() + (f\"{chr(0)}\" * 5).encode('utf-8').hex()\n",
    "\n",
    "# IV + newIV = True + False\n",
    "# ==> newIV = True + False + IV\n",
    "\n",
    "newIV = hex_XOR(hex_XOR(text_true, text_false), iv)\n",
    "print(newIV)\n",
    "\n",
    "# Get Flag\n",
    "FLAG = get_respone(DECODE_URL + cookie[32:] + \"/\" + newIV + \"/\")\n",
    "print(FLAG)\n"
   ]
  }
 ],
 "metadata": {
  "kernelspec": {
   "display_name": "kernel",
   "language": "python",
   "name": "python3"
  },
  "language_info": {
   "codemirror_mode": {
    "name": "ipython",
    "version": 3
   },
   "file_extension": ".py",
   "mimetype": "text/x-python",
   "name": "python",
   "nbconvert_exporter": "python",
   "pygments_lexer": "ipython3",
   "version": "3.11.2"
  }
 },
 "nbformat": 4,
 "nbformat_minor": 5
}
