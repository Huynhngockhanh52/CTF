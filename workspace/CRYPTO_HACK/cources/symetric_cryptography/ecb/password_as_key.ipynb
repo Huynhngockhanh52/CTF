{
 "cells": [
  {
   "cell_type": "code",
   "execution_count": null,
   "id": "3f74f652",
   "metadata": {},
   "outputs": [],
   "source": [
    "from Crypto.Cipher import AES\n",
    "import hashlib\n",
    "import random\n",
    "\n",
    "\n",
    "# /usr/share/dict/words from\n",
    "# https://gist.githubusercontent.com/wchargin/8927565/raw/d9783627c731268fb2935a731a618aa8e95cf465/words\n",
    "# with open(\"/usr/share/dict/words\") as f:\n",
    "#     words = [w.strip() for w in f.readlines()]\n",
    "# keyword = random.choice(words)\n",
    "\n",
    "# KEY = hashlib.md5(keyword.encode()).digest()\n",
    "KEY = \"Null\"\n",
    "FLAG = \"Null\"\n",
    "\n",
    "# @chal.route('/passwords_as_keys/decrypt/<ciphertext>/<password_hash>/')\n",
    "def decrypt(ciphertext, password_hash):\n",
    "    ciphertext = bytes.fromhex(ciphertext)\n",
    "    key = bytes.fromhex(password_hash)\n",
    "\n",
    "    cipher = AES.new(key, AES.MODE_ECB)\n",
    "    try:\n",
    "        decrypted = cipher.decrypt(ciphertext)\n",
    "    except ValueError as e:\n",
    "        return {\"error\": str(e)}\n",
    "\n",
    "    return {\"plaintext\": decrypted.hex()}\n",
    "\n",
    "\n",
    "# @chal.route('/passwords_as_keys/encrypt_flag/')\n",
    "def encrypt_flag():\n",
    "    cipher = AES.new(KEY, AES.MODE_ECB)\n",
    "    encrypted = cipher.encrypt(FLAG.encode())\n",
    "\n",
    "    return {\"ciphertext\": encrypted.hex()}"
   ]
  },
  {
   "cell_type": "code",
   "execution_count": 8,
   "id": "002f31bb",
   "metadata": {},
   "outputs": [
    {
     "name": "stdout",
     "output_type": "stream",
     "text": [
      "ciphertext: c92b7734070205bdf6c0087a751466ec13ae15e6f1bcdd3f3a535ec0f4bbae66\n",
      "crypto{k3y5__r__n07__p455w0rdz?} bluebell\n"
     ]
    }
   ],
   "source": [
    "from Crypto.Cipher import AES\n",
    "import hashlib\n",
    "import random\n",
    "import requests\n",
    "\n",
    "KEY = None\n",
    "FLAG = None\n",
    "\n",
    "def decrypt(ciphertext, password_hash):\n",
    "    ciphertext = bytes.fromhex(ciphertext)\n",
    "    key = bytes.fromhex(password_hash)\n",
    "\n",
    "    cipher = AES.new(key, AES.MODE_ECB)\n",
    "    try:\n",
    "        decrypted = cipher.decrypt(ciphertext)\n",
    "    except ValueError as e:\n",
    "        return {\"error\": str(e)}\n",
    "\n",
    "    return {\"plaintext\": decrypted.hex()}\n",
    "\n",
    "request = requests.get(\"https://aes.cryptohack.org/passwords_as_keys/encrypt_flag/\")\n",
    "ciphertext = request.json()[\"ciphertext\"]\n",
    "print(f\"ciphertext: {ciphertext}\")\n",
    "\n",
    "url_key = \"https://gist.githubusercontent.com/wchargin/8927565/raw/d9783627c731268fb2935a731a618aa8e95cf465/words\"\n",
    "request = requests.get(url_key, timeout=10)\n",
    "request.raise_for_status() \n",
    "\n",
    "words = [w.strip() for w in request.text.splitlines() if w.strip()]\n",
    "\n",
    "sample = b\"crypto\".hex()\n",
    "for key in words:\n",
    "    # KEY = hashlib.md5(key.encode()).hexdigest()\n",
    "    # url = f\"https://aes.cryptohack.org/passwords_as_keys/decrypt/{ciphertext}/{KEY}/\"\n",
    "    # request = requests.get(url, timeout=10)\n",
    "    # plaintext = request.json()[\"plaintext\"]\n",
    "    \n",
    "    KEY = hashlib.md5(key.encode()).hexdigest()\n",
    "    request = decrypt(ciphertext, KEY)\n",
    "    \n",
    "    plaintext = request[\"plaintext\"]\n",
    "    \n",
    "    if plaintext.startswith(sample):\n",
    "        print(bytes.fromhex(plaintext).decode('utf-8'), key)\n",
    "        break\n",
    "    "
   ]
  }
 ],
 "metadata": {
  "kernelspec": {
   "display_name": "kernel",
   "language": "python",
   "name": "python3"
  },
  "language_info": {
   "codemirror_mode": {
    "name": "ipython",
    "version": 3
   },
   "file_extension": ".py",
   "mimetype": "text/x-python",
   "name": "python",
   "nbconvert_exporter": "python",
   "pygments_lexer": "ipython3",
   "version": "3.11.2"
  }
 },
 "nbformat": 4,
 "nbformat_minor": 5
}
