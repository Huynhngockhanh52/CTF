{
 "cells": [
  {
   "cell_type": "code",
   "execution_count": null,
   "id": "20a46059",
   "metadata": {},
   "outputs": [],
   "source": [
    "from Crypto.Cipher import AES\n",
    "import os\n",
    "\n",
    "KEY = None\n",
    "\n",
    "\n",
    "class StepUpCounter(object):\n",
    "    def __init__(self, step_up=False):\n",
    "        self.value = os.urandom(16).hex()\n",
    "        self.step = 1\n",
    "        self.stup = step_up\n",
    "\n",
    "    def increment(self):\n",
    "        if self.stup:\n",
    "            self.newIV = hex(int(self.value, 16) + self.step)\n",
    "        else:\n",
    "            self.newIV = hex(int(self.value, 16) - self.stup)\n",
    "        self.value = self.newIV[2:len(self.newIV)]\n",
    "        return bytes.fromhex(self.value.zfill(32))\n",
    "\n",
    "    def __repr__(self):\n",
    "        self.increment()\n",
    "        return self.value\n",
    "\n",
    "\n",
    "\n",
    "# @chal.route('/bean_counter/encrypt/')\n",
    "def encrypt():\n",
    "    cipher = AES.new(KEY, AES.MODE_ECB)\n",
    "    ctr = StepUpCounter()\n",
    "\n",
    "    out = []\n",
    "    with open(\"challenge_files/bean_flag.png\", 'rb') as f:\n",
    "        block = f.read(16)\n",
    "        while block:\n",
    "            keystream = cipher.encrypt(ctr.increment())\n",
    "            xored = [a^b for a, b in zip(block, keystream)]\n",
    "            out.append(bytes(xored).hex())\n",
    "            block = f.read(16)\n",
    "\n",
    "    return {\"encrypted\": ''.join(out)}"
   ]
  },
  {
   "cell_type": "code",
   "execution_count": 14,
   "id": "af0a476d",
   "metadata": {},
   "outputs": [
    {
     "name": "stdout",
     "output_type": "stream",
     "text": [
      "09530b0276f63851b1bf76b0939489e8\n"
     ]
    }
   ],
   "source": [
    "from Crypto.Cipher import AES\n",
    "import os\n",
    "import requests\n",
    "\n",
    "ENCODE_URL = \"https://aes.cryptohack.org/bean_counter/encrypt/\"\n",
    "\n",
    "def get_respone(url):\n",
    "    respone = requests.get(url).json()\n",
    "    keys = respone.keys()\n",
    "    for k in (\"ciphertext\", \"encrypted\"):\n",
    "        if k in keys:\n",
    "            return respone[k]\n",
    "        \n",
    "def hex_XOR(a, b):\n",
    "    assert len(a) == len(b)\n",
    "    return bytes(x ^ y for x, y in zip(bytes.fromhex(a), bytes.fromhex(b))).hex()\n",
    "\n",
    "def write2png(hex_str, out_filename=\"flag.png\"):\n",
    "    with open(out_filename, \"wb\") as f:\n",
    "        f.write(PNG_HDR16)\n",
    "        f.write(bytes.fromhex(hex_str))\n",
    "\n",
    "    # return out_filename\n",
    "\n",
    "# Bài này cùng counter nên dễ phá.\n",
    "ciphertext = get_respone(ENCODE_URL)\n",
    "\n",
    "# Với file PNG, ta biết 16 byte đầu tiên rõ ràng (PNG signature + IHDR):\n",
    "PNG_HDR16 = b'\\x89PNG\\r\\n\\x1a\\n\\x00\\x00\\x00\\rIHDR'\n",
    "\n",
    "flag_hex = \"\"\n",
    "KEY = hex_XOR(ciphertext[:32], PNG_HDR16.hex())\n",
    "print(KEY)\n",
    "\n",
    "for i in range(32, len(ciphertext), 32):\n",
    "    temp = len(ciphertext[i:i+32])\n",
    "    flag_hex += hex_XOR(KEY[:temp], ciphertext[i:i+32])\n",
    "\n",
    "write2png(flag_hex)\n"
   ]
  }
 ],
 "metadata": {
  "kernelspec": {
   "display_name": "kernel",
   "language": "python",
   "name": "python3"
  },
  "language_info": {
   "codemirror_mode": {
    "name": "ipython",
    "version": 3
   },
   "file_extension": ".py",
   "mimetype": "text/x-python",
   "name": "python",
   "nbconvert_exporter": "python",
   "pygments_lexer": "ipython3",
   "version": "3.11.2"
  }
 },
 "nbformat": 4,
 "nbformat_minor": 5
}
